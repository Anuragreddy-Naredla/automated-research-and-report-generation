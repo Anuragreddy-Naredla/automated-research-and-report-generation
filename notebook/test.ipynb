{
 "cells": [
  {
   "cell_type": "code",
   "execution_count": 1,
   "id": "5d5a5f45",
   "metadata": {},
   "outputs": [],
   "source": [
    "import os\n",
    "import sys"
   ]
  },
  {
   "cell_type": "code",
   "execution_count": 2,
   "id": "b82743e7",
   "metadata": {},
   "outputs": [],
   "source": [
    "project_root=os.path.abspath(os.path.join(os.getcwd(),\"..\"))"
   ]
  },
  {
   "cell_type": "code",
   "execution_count": 3,
   "id": "860e1bc4",
   "metadata": {},
   "outputs": [
    {
     "name": "stdout",
     "output_type": "stream",
     "text": [
      "d:\\d_data\\AnuragReddy_Naredla_python_data\\python\\data_science_concepts_github\\LLMOPS\\project3\\automated-research-and-report-generation\n"
     ]
    }
   ],
   "source": [
    "print(project_root)"
   ]
  },
  {
   "cell_type": "code",
   "execution_count": 4,
   "id": "b251ee21",
   "metadata": {},
   "outputs": [],
   "source": [
    "sys.path.append(project_root)"
   ]
  },
  {
   "cell_type": "code",
   "execution_count": 5,
   "id": "816835a1",
   "metadata": {},
   "outputs": [
    {
     "name": "stdout",
     "output_type": "stream",
     "text": [
      "d:\\d_data\\AnuragReddy_Naredla_python_data\\python\\data_science_concepts_github\\LLMOPS\\project3\\automated-research-and-report-generation\n"
     ]
    }
   ],
   "source": [
    "print(project_root)"
   ]
  },
  {
   "cell_type": "code",
   "execution_count": 6,
   "id": "38a6a491",
   "metadata": {},
   "outputs": [],
   "source": [
    "\n",
    "from research_and_analysts.utils.model_loader import ModelLoader"
   ]
  },
  {
   "cell_type": "code",
   "execution_count": 7,
   "id": "a74e80e4",
   "metadata": {},
   "outputs": [
    {
     "name": "stderr",
     "output_type": "stream",
     "text": [
      "{\"timestamp\": \"2025-10-25T09:00:25.094322Z\", \"level\": \"info\", \"event\": \"OPENAI_API_KEY loaded from environment\"}\n",
      "{\"timestamp\": \"2025-10-25T09:00:25.098451Z\", \"level\": \"info\", \"event\": \"GOOGLE_API_KEY loaded from environment\"}\n",
      "{\"timestamp\": \"2025-10-25T09:00:25.101461Z\", \"level\": \"info\", \"event\": \"GROQ_API_KEY loaded from environment\"}\n",
      "{\"timestamp\": \"2025-10-25T09:00:25.103451Z\", \"level\": \"warning\", \"event\": \"ASTRA_DB_API_ENDPOINT is missing from environment\"}\n",
      "{\"timestamp\": \"2025-10-25T09:00:25.105453Z\", \"level\": \"warning\", \"event\": \"ASTRA_DB_APPLICATION_TOKEN is missing from environment\"}\n",
      "{\"timestamp\": \"2025-10-25T09:00:25.108460Z\", \"level\": \"warning\", \"event\": \"ASTRA_DB_KEYSPACE is missing from environment\"}\n",
      "{\"config_keys\": [\"astra_db\", \"embedding_model\", \"retriever\", \"llm\"], \"timestamp\": \"2025-10-25T09:00:25.135361Z\", \"level\": \"info\", \"event\": \"YAML config loaded\"}\n",
      "{\"provider\": \"groq\", \"model\": \"llama-3.3-70b-versatile\", \"timestamp\": \"2025-10-25T09:00:25.138346Z\", \"level\": \"info\", \"event\": \"Loading LLM\"}\n",
      "HTTP Request: POST https://api.groq.com/openai/v1/chat/completions \"HTTP/1.1 200 OK\"\n"
     ]
    },
    {
     "name": "stdout",
     "output_type": "stream",
     "text": [
      "Hello. I'm just a language model, so I don't have feelings or emotions like humans do, but I'm functioning properly and ready to assist you with any questions or tasks you may have. How can I help you today?\n"
     ]
    }
   ],
   "source": [
    "model_loader=ModelLoader()\n",
    "llm=model_loader.load_llm()\n",
    "result = llm.invoke(\"Hello, how are you?\").content\n",
    "print(result)"
   ]
  },
  {
   "cell_type": "code",
   "execution_count": 8,
   "id": "68acfe7d",
   "metadata": {},
   "outputs": [],
   "source": [
    "from typing import List\n",
    "from typing_extensions import TypedDict\n",
    "from pydantic import BaseModel, Field\n",
    "\n",
    "from langgraph.graph import StateGraph,START,END\n",
    "from langchain_core.messages import AIMessage,HumanMessage,SystemMessage\n",
    "from langgraph.checkpoint.memory import MemorySaver\n",
    "\n",
    "from IPython.display import Image,display"
   ]
  },
  {
   "cell_type": "markdown",
   "id": "3b920b7c",
   "metadata": {},
   "source": [
    "**Workflow1**"
   ]
  },
  {
   "cell_type": "code",
   "execution_count": 9,
   "id": "fb190384",
   "metadata": {},
   "outputs": [],
   "source": [
    "class Analyst(BaseModel):\n",
    "    name: str = Field(description=\"Name of the analyst.\")\n",
    "    role: str = Field(description=\"Role of the analyst in the context of the topic.\")\n",
    "    affiliation: str = Field(description=\"Primary affiliation of the analyst.\")\n",
    "    description: str = Field(description=\"Description of the analyst focus, concerns, and motives.\")\n",
    "    \n",
    "    @property\n",
    "    def persona(self) -> str:\n",
    "        return f\"Name: {self.name}\\nRole: {self.role}\\nAffiliation: {self.affiliation}\\nDescription: {self.description}\\n\""
   ]
  },
  {
   "cell_type": "code",
   "execution_count": 10,
   "id": "53d7e102",
   "metadata": {},
   "outputs": [],
   "source": [
    "analyst = Analyst(name=\"Anurag Reddy\", role=\"Data Scientist\", affiliation=\"AI Research Lab\", description=\"I am a developer\")"
   ]
  },
  {
   "cell_type": "code",
   "execution_count": 11,
   "id": "ac9cebca",
   "metadata": {},
   "outputs": [
    {
     "data": {
      "text/plain": [
       "'Anurag Reddy'"
      ]
     },
     "execution_count": 11,
     "metadata": {},
     "output_type": "execute_result"
    }
   ],
   "source": [
    "analyst.name"
   ]
  },
  {
   "cell_type": "code",
   "execution_count": 12,
   "id": "bba700bc",
   "metadata": {},
   "outputs": [
    {
     "name": "stdout",
     "output_type": "stream",
     "text": [
      "Name: Anurag Reddy\n",
      "Role: Data Scientist\n",
      "Affiliation: AI Research Lab\n",
      "Description: I am a developer\n",
      "\n"
     ]
    }
   ],
   "source": [
    "print(analyst.persona)"
   ]
  },
  {
   "cell_type": "code",
   "execution_count": 13,
   "id": "e2c01773",
   "metadata": {},
   "outputs": [],
   "source": [
    "class Perspective(BaseModel):\n",
    "       analysts: List[Analyst] = Field(description=\"Comprehensive list of analysts with their roles and affiliations.\")"
   ]
  },
  {
   "cell_type": "code",
   "execution_count": 14,
   "id": "293b6d4c",
   "metadata": {},
   "outputs": [],
   "source": [
    "class GenerateAnalystsState(TypedDict):\n",
    "    topic: str #research topic\n",
    "    max_analysts: int # number of analyst\n",
    "    human_analyst_feedback: str # Human feedback\n",
    "    analysts: List[Analyst] # Analyst asking questions"
   ]
  },
  {
   "cell_type": "code",
   "execution_count": 15,
   "id": "e349c100",
   "metadata": {},
   "outputs": [
    {
     "data": {
      "text/plain": [
       "{'topic': 'finance',\n",
       " 'max_analysts': 5,\n",
       " 'human_analyst_feedback': 'Give the real info'}"
      ]
     },
     "execution_count": 15,
     "metadata": {},
     "output_type": "execute_result"
    }
   ],
   "source": [
    "GenerateAnalystsState(topic=\"finance\", max_analysts=5,human_analyst_feedback=\"Give the real info\")"
   ]
  },
  {
   "cell_type": "code",
   "execution_count": 16,
   "id": "48cfdf65",
   "metadata": {},
   "outputs": [],
   "source": [
    "analyst_instructions=\"\"\"You are tasked with creating a set of AI analyst personas. Follow these instructions carefully:\n",
    "\n",
    "1. First, review the research topic:\n",
    "{topic}\n",
    "        \n",
    "2. Examine any editorial feedback that has been optionally provided to guide creation of the analysts: \n",
    "        \n",
    "{human_analyst_feedback}\n",
    "    \n",
    "3. Determine the most interesting themes based upon documents and / or feedback above.\n",
    "                    \n",
    "4. Pick the top {max_analysts} themes.\n",
    "\n",
    "5. Assign one analyst to each theme.\"\"\""
   ]
  },
  {
   "cell_type": "code",
   "execution_count": 17,
   "id": "501d3984",
   "metadata": {},
   "outputs": [
    {
     "name": "stdout",
     "output_type": "stream",
     "text": [
      "['You are tasked with creating a set of AI analyst personas. Follow these instructions carefully:\\n\\n1. First, review the research topic:\\neducation\\n\\n2. Examine any editorial feedback that has been optionally provided to guide creation of the analysts: \\n\\nplease exaplain only on AI\\n\\n3. Determine the most interesting themes based upon documents and / or feedback above.\\n\\n4. Pick the top 4 themes.\\n\\n5. Assign one analyst to each theme.', 'Generate the set of analysts.']\n"
     ]
    }
   ],
   "source": [
    "print([analyst_instructions.format(\n",
    "        topic=\"education\",\n",
    "        max_analysts=4,\n",
    "        human_analyst_feedback=\"please exaplain only on AI\"\n",
    "        \n",
    "        )] + [\"Generate the set of analysts.\"])"
   ]
  },
  {
   "cell_type": "markdown",
   "id": "f93be9a8",
   "metadata": {},
   "source": [
    "**['You are tasked with creating a set of AI analyst personas. Follow these instructions carefully:\\n\\n1. First, review the research topic:\\neducation\\n\\n2. Examine any editorial feedback that has been optionally provided to guide creation of the analysts: \\n\\nplease exaplain only on AI\\n\\n3. Determine the most interesting themes based upon documents and / or feedback above.\\n\\n4. Pick the top 4 themes.\\n\\n5. Assign one analyst to each theme.', 'Generate the set of analysts.']**"
   ]
  },
  {
   "cell_type": "code",
   "execution_count": 18,
   "id": "1ca9d48d",
   "metadata": {},
   "outputs": [],
   "source": [
    "def create_analyst(state:GenerateAnalystsState):\n",
    "    \"\"\"\n",
    "    it is creating my analyst\n",
    "    \n",
    "    \"\"\"\n",
    "    topic = state[\"topic\"]\n",
    "    max_analysts = state[\"max_analysts\"]\n",
    "    human_analyst_feedback = state.get(\"human_analyst_feedback\",\"\")\n",
    "    \n",
    "    structured_llm = llm.with_structured_output(Perspective)\n",
    "    \n",
    "    #analyst_instructions is a prompt\n",
    "    system_messages = analyst_instructions.format(\n",
    "        topic=topic,\n",
    "        max_analysts=max_analysts,\n",
    "        human_analyst_feedback=human_analyst_feedback\n",
    "        \n",
    "        )\n",
    "    analysts = structured_llm.invoke([SystemMessage(content=system_messages)]+ [HumanMessage(content=\"Generate the set of analysts.\")])\n",
    "    \n",
    "    # Write the list of analysis to state\n",
    "    return {\"analysts\": analysts.analysts}\n",
    "\n",
    "def human_feedback(state):\n",
    "    \"\"\" No-op node that should be interrupted on \"\"\"\n",
    "    pass\n",
    "\n",
    "def should_continue(state):\n",
    "    \"\"\" Return the next node to execute \"\"\"\n",
    "    human_analyst_feedback = state.get(\"human_analyst_feedback\",None)\n",
    "    if human_analyst_feedback:\n",
    "        return \"create_analyst\""
   ]
  },
  {
   "cell_type": "code",
   "execution_count": 19,
   "id": "a0be5050",
   "metadata": {},
   "outputs": [
    {
     "name": "stderr",
     "output_type": "stream",
     "text": [
      "HTTP Request: POST https://api.groq.com/openai/v1/chat/completions \"HTTP/1.1 200 OK\"\n"
     ]
    },
    {
     "data": {
      "text/plain": [
       "{'analysts': [Analyst(name='Dr. Maria Rodriguez', role='Healthcare Expert', affiliation='World Health Organization', description='Focus on global health trends, concerns, and initiatives, with a motive to provide accurate and reliable information.'),\n",
       "  Analyst(name='Dr. John Taylor', role='Medical Researcher', affiliation='National Institutes of Health', description='Concerned with the latest medical research and breakthroughs, with a focus on evidence-based information and a motive to advance healthcare knowledge.')]}"
      ]
     },
     "execution_count": 19,
     "metadata": {},
     "output_type": "execute_result"
    }
   ],
   "source": [
    "create_analyst(\n",
    "    {'topic': 'health',\n",
    "    'max_analysts': 2,\n",
    "    'human_analyst_feedback': 'give the real info'}\n",
    "    )"
   ]
  },
  {
   "cell_type": "code",
   "execution_count": 20,
   "id": "46d46baf",
   "metadata": {},
   "outputs": [
    {
     "data": {
      "text/plain": [
       "<langgraph.graph.state.StateGraph at 0x22c18d1cd10>"
      ]
     },
     "execution_count": 20,
     "metadata": {},
     "output_type": "execute_result"
    }
   ],
   "source": [
    "builder=StateGraph(GenerateAnalystsState)\n",
    "\n",
    "builder.add_node(\"create_analyst\",create_analyst)\n",
    "builder.add_node(\"human_feedback\", human_feedback)\n",
    "\n",
    "builder.add_edge(START,\"create_analyst\")\n",
    "builder.add_edge(\"create_analyst\", \"human_feedback\")\n",
    "\n",
    "builder.add_conditional_edges(\"human_feedback\",should_continue,[\"create_analyst\",END])\n",
    "\n"
   ]
  },
  {
   "cell_type": "code",
   "execution_count": 21,
   "id": "b28a0079",
   "metadata": {},
   "outputs": [],
   "source": [
    "memory=MemorySaver()#Entire conversations will capture"
   ]
  },
  {
   "cell_type": "code",
   "execution_count": 22,
   "id": "482d0e9d",
   "metadata": {},
   "outputs": [],
   "source": [
    "graph=builder.compile(interrupt_before=[\"human_feedback\"], checkpointer=memory)#before coclusion iam taking the human feedback"
   ]
  },
  {
   "cell_type": "code",
   "execution_count": 23,
   "id": "21b64976",
   "metadata": {},
   "outputs": [
    {
     "data": {
      "image/png": "[encoded data removed]",
      "text/plain": [
       "<IPython.core.display.Image object>"
      ]
     },
     "metadata": {},
     "output_type": "display_data"
    }
   ],
   "source": [
    "display(Image(graph.get_graph(xray=1).draw_mermaid_png()))"
   ]
  },
  {
   "cell_type": "code",
   "execution_count": 24,
   "id": "db460bbe",
   "metadata": {},
   "outputs": [],
   "source": [
    "\n",
    "topic = \"the benefits of adopting Langgraph as an agent framework\""
   ]
  },
  {
   "cell_type": "code",
   "execution_count": 25,
   "id": "2f2b2cb0",
   "metadata": {},
   "outputs": [],
   "source": [
    "\n",
    "max_analysts = 4"
   ]
  },
  {
   "cell_type": "code",
   "execution_count": 26,
   "id": "b5be4e75",
   "metadata": {},
   "outputs": [],
   "source": [
    "thread =  {\"configurable\":{\"thread_id\":1}}"
   ]
  },
  {
   "cell_type": "code",
   "execution_count": 27,
   "id": "585c4781",
   "metadata": {},
   "outputs": [
    {
     "name": "stderr",
     "output_type": "stream",
     "text": [
      "HTTP Request: POST https://api.groq.com/openai/v1/chat/completions \"HTTP/1.1 200 OK\"\n"
     ]
    },
    {
     "name": "stdout",
     "output_type": "stream",
     "text": [
      "Name: Dr. Rachel Kim\n",
      "Affiliation: Stanford University\n",
      "Role: AI Researcher\n",
      "Description: Focuses on the technical benefits of Langgraph, such as improved agent performance and scalability.\n",
      "--------------------------------------------------\n",
      "Name: Dr. Liam Chen\n",
      "Affiliation: Microsoft\n",
      "Role: Software Engineer\n",
      "Description: Examines the potential applications of Langgraph in real-world industries, including healthcare and finance.\n",
      "--------------------------------------------------\n",
      "Name: Dr. Ava Patel\n",
      "Affiliation: MIT\n",
      "Role: Cognitive Scientist\n",
      "Description: Investigates the cognitive implications of using Langgraph, including its potential impact on human decision-making and bias.\n",
      "--------------------------------------------------\n",
      "Name: Dr. Julian Sanchez\n",
      "Affiliation: McKinsey\n",
      "Role: Business Strategist\n",
      "Description: Evaluates the business case for adopting Langgraph, including its potential return on investment and competitive advantages.\n",
      "--------------------------------------------------\n"
     ]
    }
   ],
   "source": [
    "for event in graph.stream({\"topic\":topic,\n",
    "              \"max_analysts\":max_analysts},\n",
    "             thread,\n",
    "             stream_mode= \"values\"):\n",
    "    analysts = event.get('analysts', '')\n",
    "    \n",
    "    if analysts:\n",
    "        for analyst in analysts:\n",
    "            print(f\"Name: {analyst.name}\")\n",
    "            print(f\"Affiliation: {analyst.affiliation}\")\n",
    "            print(f\"Role: {analyst.role}\")\n",
    "            print(f\"Description: {analyst.description}\")\n",
    "            print(\"-\" * 50)  "
   ]
  },
  {
   "cell_type": "code",
   "execution_count": 28,
   "id": "ea01f5f1",
   "metadata": {},
   "outputs": [],
   "source": [
    "state = graph.get_state(thread)"
   ]
  },
  {
   "cell_type": "code",
   "execution_count": 29,
   "id": "752d412d",
   "metadata": {},
   "outputs": [
    {
     "data": {
      "text/plain": [
       "StateSnapshot(values={'topic': 'the benefits of adopting Langgraph as an agent framework', 'max_analysts': 4, 'analysts': [Analyst(name='Dr. Rachel Kim', role='AI Researcher', affiliation='Stanford University', description='Focuses on the technical benefits of Langgraph, such as improved agent performance and scalability.'), Analyst(name='Dr. Liam Chen', role='Software Engineer', affiliation='Microsoft', description='Examines the potential applications of Langgraph in real-world industries, including healthcare and finance.'), Analyst(name='Dr. Ava Patel', role='Cognitive Scientist', affiliation='MIT', description='Investigates the cognitive implications of using Langgraph, including its potential impact on human decision-making and bias.'), Analyst(name='Dr. Julian Sanchez', role='Business Strategist', affiliation='McKinsey', description='Evaluates the business case for adopting Langgraph, including its potential return on investment and competitive advantages.')]}, next=('human_feedback',), config={'configurable': {'thread_id': '1', 'checkpoint_ns': '', 'checkpoint_id': '1f0a7263-409e-62ef-8001-42d46b76be55'}}, metadata={'source': 'loop', 'step': 1, 'parents': {}}, created_at='2025-10-12T04:44:57.214436+00:00', parent_config={'configurable': {'thread_id': '1', 'checkpoint_ns': '', 'checkpoint_id': '1f0a7263-3a1a-635f-8000-f9892b047090'}}, tasks=(PregelTask(id='84677142-59ed-4470-3c88-8d2cfa40cfa4', name='human_feedback', path=('__pregel_pull', 'human_feedback'), error=None, interrupts=(), state=None, result=None),), interrupts=())"
      ]
     },
     "execution_count": 29,
     "metadata": {},
     "output_type": "execute_result"
    }
   ],
   "source": [
    "state"
   ]
  },
  {
   "cell_type": "code",
   "execution_count": 30,
   "id": "43aaa937",
   "metadata": {},
   "outputs": [
    {
     "data": {
      "text/plain": [
       "('human_feedback',)"
      ]
     },
     "execution_count": 30,
     "metadata": {},
     "output_type": "execute_result"
    }
   ],
   "source": [
    "\n",
    "state.next"
   ]
  },
  {
   "cell_type": "code",
   "execution_count": 31,
   "id": "b4e8b54f",
   "metadata": {},
   "outputs": [
    {
     "data": {
      "text/plain": [
       "{'configurable': {'thread_id': '1',\n",
       "  'checkpoint_ns': '',\n",
       "  'checkpoint_id': '1f0a7263-420f-6bda-8002-7cb9773456f9'}}"
      ]
     },
     "execution_count": 31,
     "metadata": {},
     "output_type": "execute_result"
    }
   ],
   "source": [
    "graph.update_state(thread,\n",
    "                   {\"human_analyst_feedback\":\"add something from the startup perspective and focus on the latest enterprise application\"},as_node=\"human_feedback\"\n",
    "                   )"
   ]
  },
  {
   "cell_type": "code",
   "execution_count": 32,
   "id": "0380f1c7",
   "metadata": {},
   "outputs": [
    {
     "name": "stdout",
     "output_type": "stream",
     "text": [
      "Name: Dr. Rachel Kim\n",
      "Affiliation: Stanford University\n",
      "Role: AI Researcher\n",
      "Description: Focuses on the technical benefits of Langgraph, such as improved agent performance and scalability.\n",
      "--------------------------------------------------\n",
      "Name: Dr. Liam Chen\n",
      "Affiliation: Microsoft\n",
      "Role: Software Engineer\n",
      "Description: Examines the potential applications of Langgraph in real-world industries, including healthcare and finance.\n",
      "--------------------------------------------------\n",
      "Name: Dr. Ava Patel\n",
      "Affiliation: MIT\n",
      "Role: Cognitive Scientist\n",
      "Description: Investigates the cognitive implications of using Langgraph, including its potential impact on human decision-making and bias.\n",
      "--------------------------------------------------\n",
      "Name: Dr. Julian Sanchez\n",
      "Affiliation: McKinsey\n",
      "Role: Business Strategist\n",
      "Description: Evaluates the business case for adopting Langgraph, including its potential return on investment and competitive advantages.\n",
      "--------------------------------------------------\n"
     ]
    },
    {
     "name": "stderr",
     "output_type": "stream",
     "text": [
      "HTTP Request: POST https://api.groq.com/openai/v1/chat/completions \"HTTP/1.1 200 OK\"\n"
     ]
    },
    {
     "name": "stdout",
     "output_type": "stream",
     "text": [
      "Name: Alex Chen\n",
      "Affiliation: Langgraph Inc.\n",
      "Role: Startup Founder\n",
      "Description: Focuses on the benefits of adopting Langgraph as an agent framework for startups, highlighting its scalability and flexibility in enterprise applications.\n",
      "--------------------------------------------------\n",
      "Name: Dr. Rachel Kim\n",
      "Affiliation: Gartner Research\n",
      "Role: Enterprise Architect\n",
      "Description: Examines the latest enterprise applications of Langgraph, emphasizing its potential to enhance business processes and improve decision-making.\n",
      "--------------------------------------------------\n",
      "Name: Maya Patel\n",
      "Affiliation: Microsoft Azure\n",
      "Role: Technical Lead\n",
      "Description: Investigates the technical aspects of Langgraph, including its integration with cloud services and potential for machine learning enhancements.\n",
      "--------------------------------------------------\n",
      "Name: Ethan Hall\n",
      "Affiliation: Deloitte Consulting\n",
      "Role: Innovation Consultant\n",
      "Description: Explores the innovative applications of Langgraph in various industries, such as healthcare and finance, and their potential to drive digital transformation.\n",
      "--------------------------------------------------\n"
     ]
    }
   ],
   "source": [
    "for event in graph.stream({\"topic\":topic,\n",
    "              \"max_analysts\":max_analysts},\n",
    "             thread,\n",
    "             stream_mode= \"values\"):\n",
    "    analysts = event.get('analysts', '')\n",
    "    \n",
    "    if analysts:\n",
    "        for analyst in analysts:\n",
    "            print(f\"Name: {analyst.name}\")\n",
    "            print(f\"Affiliation: {analyst.affiliation}\")\n",
    "            print(f\"Role: {analyst.role}\")\n",
    "            print(f\"Description: {analyst.description}\")\n",
    "            print(\"-\" * 50)  "
   ]
  },
  {
   "cell_type": "markdown",
   "id": "a36ff0fb",
   "metadata": {},
   "source": [
    "**Workflow2**"
   ]
  },
  {
   "cell_type": "code",
   "execution_count": 33,
   "id": "e43d837e",
   "metadata": {},
   "outputs": [
    {
     "data": {
      "text/plain": [
       "True"
      ]
     },
     "execution_count": 33,
     "metadata": {},
     "output_type": "execute_result"
    }
   ],
   "source": [
    "from dotenv import load_dotenv\n",
    "load_dotenv()"
   ]
  },
  {
   "cell_type": "code",
   "execution_count": 34,
   "id": "dd3b97f1",
   "metadata": {},
   "outputs": [],
   "source": [
    "tavily_api_key=os.getenv(\"TAVILY_API_KEY\")"
   ]
  },
  {
   "cell_type": "code",
   "execution_count": 35,
   "id": "49be35f2",
   "metadata": {},
   "outputs": [],
   "source": [
    "from langchain_community.tools import TavilySearchResults\n",
    "from langchain_community.document_loaders import WikipediaLoader"
   ]
  },
  {
   "cell_type": "code",
   "execution_count": 36,
   "id": "d941303c",
   "metadata": {},
   "outputs": [
    {
     "name": "stderr",
     "output_type": "stream",
     "text": [
      "C:\\Users\\Hp\\AppData\\Local\\Temp\\ipykernel_5200\\342617490.py:1: LangChainDeprecationWarning: The class `TavilySearchResults` was deprecated in LangChain 0.3.25 and will be removed in 1.0. An updated version of the class exists in the :class:`~langchain-tavily package and should be used instead. To use it run `pip install -U :class:`~langchain-tavily` and import as `from :class:`~langchain_tavily import TavilySearch``.\n",
      "  tavily_search = TavilySearchResults(tavily_api_key=tavily_api_key)\n"
     ]
    },
    {
     "data": {
      "text/plain": [
       "[{'title': 'LangGraph Overview - Docs by LangChain',\n",
       "  'url': 'https://docs.langchain.com/oss/python/langgraph/overview',\n",
       "  'content': 'Trusted by companies shaping the future of agents - including Klarna, Replit, Elastic, and more - LangGraph is a low-level orchestration framework for building, managing, and deploying long-running, stateful agents.LangGraph is very low-level, and focused entirely on agent orchestration. Before using LangGraph, it is recommended you familiarize yourself with some of the components used to build agents, starting with models and tools. We will commonly use LangChain components throughout the [...] \\u200b\\n\\nAcknowledgements\\n\\nLangGraph is inspired by Pregel and Apache Beam. The public interface draws inspiration from NetworkX. LangGraph is built by LangChain Inc, the creators of LangChain, but can be used without LangChain.\\n\\n  \\n\\nEdit the source of this page on GitHub\\n\\nWas this page helpful?\\n\\nYes No\\n\\nInstall\\n\\n⌘I\\n\\nAssistant\\n\\nResponses are generated using AI and may contain mistakes.\\n\\nDocs by LangChain home pageImage 5: light logoImage 6: dark logo\\n\\ngithubxlinkedinyoutube\\n\\nResources [...] LangGraph provides low-level supporting infrastructure for _any_ long-running, stateful workflow or agent. LangGraph does not abstract prompts or architecture, and provides the following central benefits:\\n   Durable execution: Build agents that persist through failures and can run for extended periods, resuming from where they left off.\\n   Human-in-the-loop: Incorporate human oversight by inspecting and modifying agent state at any point.',\n",
       "  'score': 0.9108078},\n",
       " {'title': 'A Comprehensive Guide to Langraph: Step-by-Step with Examples',\n",
       "  'url': 'https://medium.com/@jagadeesan.ganesh/a-comprehensive-guide-to-langraph-step-by-step-with-examples-56ab31a987ee',\n",
       "  'content': 'Langraph is an advanced, scalable solution for building AI systems that require both information retrieval and language generation. By integrating RAG techniques, Langraph improves the quality of responses while scaling for large datasets. Whether you’re building a chatbot, a virtual assistant, or a large-scale search engine, Langraph can help you achieve high-performance results. [...] 1. Language Graphs (Langraphs): Langraphs represent relationships between different components of a language, much like knowledge graphs. They provide a structured framework for AI agents to better understand and contextualize human language. [...] ## Why Langraph?\\n\\n Structured Conversations: Langraph enables more coherent, structured conversations by mapping out the relationships between various language components.\\n Scalable: It works efficiently with large datasets, making it scalable for applications like virtual assistants, customer support, and intelligent tutoring systems.\\n Personalized: By using RAG, Langraph provides responses that are not only accurate but also tailored to the user’s context and previous interactions.',\n",
       "  'score': 0.90849644},\n",
       " {'title': 'What is LangGraph? - Analytics Vidhya',\n",
       "  'url': 'https://www.analyticsvidhya.com/blog/2024/07/langgraph-revolutionizing-ai-agent/',\n",
       "  'content': 'To sum up, LangGraph is a major advancement in the development of AI agents. It enables developers to push the limits of what’s possible with AI agents by eliminating the shortcomings of earlier systems and offering a flexible, graph-based framework for agent construction and execution. LangGraph is positioned to influence the direction of artificial intelligence significantly in the future. [...] LangGraph is a library built on top of Langchain that is designed to facilitate the creation of cyclic graphs for large language model (LLM) – based AI agents.\\n   It views agent Objective Points about LangGraph and workflows as cyclic graph topologies, allowing for more variable and nuanced agent behaviors than linear execution models. [...] Frameworks such as LangGraph are becoming increasingly important as AI develops. LangGraph is making the next generation of AI applications possible by offering a versatile and strong framework for developing and overseeing AI agents.',\n",
       "  'score': 0.898277},\n",
       " {'title': 'LangGraph Tutorial: What Is LangGraph and How to Use It?',\n",
       "  'url': 'https://www.datacamp.com/tutorial/langgraph-tutorial',\n",
       "  'content': \"LangGraph is a library within the LangChain ecosystem designed to tackle these challenges head-on. LangGraph provides a framework for defining, coordinating, and executing multiple LLM agents (or chains) in a structured manner.\\n\\nIt simplifies the development process by enabling the creation of cyclical graphs, which are essential for developing agent runtimes. With LangGraph, we can easily build robust, scalable, and flexible multi-agent systems. [...] For applications requiring autonomous decision-making, LangGraph enables the creation of agents that can perform tasks independently based on user inputs and predefined logic.\\n\\nThese agents can execute complex workflows, interact with other systems, and adapt to new information dynamically. LangGraph's structured framework ensures that each agent operates efficiently and effectively, making it suitable for tasks like automated customer support, data processing, and system monitoring. [...] LangGraph ensures agents execute in the correct order and that necessary information is exchanged seamlessly. This coordination is vital for complex applications where multiple agents need to work together to achieve a common goal. By managing the flow of data and the sequence of operations, LangGraph allows developers to focus on the high-level logic of their applications rather than the intricacies of agent coordination.\\n\\nWhy LangGraph?\",\n",
       "  'score': 0.885404},\n",
       " {'title': \"Introduction to LangGraph: A Beginner's Guide - Medium\",\n",
       "  'url': 'https://medium.com/@cplog/introduction-to-langgraph-a-beginners-guide-14f9be027141',\n",
       "  'content': 'LangGraph is a library built on top of LangChain, designed to add cyclic computational capabilities to your LLM applications. While LangChain allows you to define chains of computation (Directed Acyclic Graphs or DAGs), LangGraph introduces the ability to add cycles, enabling more complex, agent-like behaviors where you can call an LLM in a loop, asking it what action to take next.\\n\\nKey Concepts [...] Stateful Graph: LangGraph revolves around the concept of a stateful graph, where each node in the graph represents a step in your computation, and the graph maintains a state that is passed around and updated as the computation progresses.\\n   Nodes: Nodes are the building blocks of your LangGraph. Each node represents a function or a computation step. You define nodes to perform specific tasks, such as processing input, making decisions, or interacting with external APIs.',\n",
       "  'score': 0.8679453}]"
      ]
     },
     "execution_count": 36,
     "metadata": {},
     "output_type": "execute_result"
    }
   ],
   "source": [
    "tavily_search = TavilySearchResults(tavily_api_key=tavily_api_key)\n",
    "tavily_search.invoke(\"langraph\")"
   ]
  },
  {
   "cell_type": "code",
   "execution_count": 37,
   "id": "1e40d41a",
   "metadata": {},
   "outputs": [
    {
     "name": "stdout",
     "output_type": "stream",
     "text": [
      "LangChain is a software framework that helps facilitate the integration of large language models (LLMs) into applications. As a language model integration framework, LangChain's use-cases largely overlap with those of language models in general, including document analysis and summarization, chatbots, and code analysis.\n",
      "\n",
      "\n",
      "== History ==\n",
      "LangChain was launched in October 2022 as an open source project by Harrison Chase, while working at machine learning startup Robust Intelligence. In April 2023, \n"
     ]
    }
   ],
   "source": [
    "docs=WikipediaLoader(query=\"langgraph\").load()\n",
    "print(docs[0].page_content[:500])"
   ]
  },
  {
   "cell_type": "code",
   "execution_count": 90,
   "id": "53dd93a5",
   "metadata": {},
   "outputs": [],
   "source": [
    "query=\"The benefits of adopting Langgraph as an agentic framework\""
   ]
  },
  {
   "cell_type": "code",
   "execution_count": null,
   "id": "b520f1f6",
   "metadata": {},
   "outputs": [
    {
     "name": "stdout",
     "output_type": "stream",
     "text": [
      "[]\n"
     ]
    }
   ],
   "source": [
    "docs=WikipediaLoader(query=query).load()#perform only with the keyword search\n",
    "print(docs)"
   ]
  },
  {
   "cell_type": "code",
   "execution_count": null,
   "id": "2810f410",
   "metadata": {},
   "outputs": [
    {
     "name": "stdout",
     "output_type": "stream",
     "text": [
      "No good Wikipedia Search Result was found\n"
     ]
    }
   ],
   "source": [
    "from langchain_community.utilities import WikipediaAPIWrapper#perform only with the keyword search\n",
    "wiki=WikipediaAPIWrapper(doc_content_chars_max=4000)\n",
    "docs=wiki.run(query)\n",
    "print(docs)"
   ]
  },
  {
   "cell_type": "code",
   "execution_count": 93,
   "id": "fbbe768f",
   "metadata": {},
   "outputs": [
    {
     "name": "stderr",
     "output_type": "stream",
     "text": [
      "d:\\d_data\\AnuragReddy_Naredla_python_data\\python\\data_science_concepts_github\\LLMOPS\\project3\\automated-research-and-report-generation\\.venv\\Lib\\site-packages\\wikipedia\\wikipedia.py:389: GuessedAtParserWarning: No parser was explicitly specified, so I'm using the best available HTML parser for this system (\"html.parser\"). This usually isn't a problem, but if you run this code on another system, or in a different virtual environment, it may use a different parser and behave differently.\n",
      "\n",
      "The code that caused this warning is on line 389 of the file d:\\d_data\\AnuragReddy_Naredla_python_data\\python\\data_science_concepts_github\\LLMOPS\\project3\\automated-research-and-report-generation\\.venv\\Lib\\site-packages\\wikipedia\\wikipedia.py. To get rid of this warning, pass the additional argument 'features=\"html.parser\"' to the BeautifulSoup constructor.\n",
      "\n",
      "  lis = BeautifulSoup(html).find_all('li')\n"
     ]
    },
    {
     "name": "stdout",
     "output_type": "stream",
     "text": [
      "[Document(metadata={'title': 'Amazon Web Services', 'summary': 'Amazon Web Services, Inc. (AWS) is a subsidiary of Amazon that provides on-demand cloud computing platforms and APIs to individuals, companies, and governments, on a metered, pay-as-you-go basis. Clients will often use this in combination with autoscaling (a process that allows a client to use more computing in times of high application usage, and then scale down to reduce costs when there is less traffic). These cloud computing web services provide various services related to networking, compute, storage, middleware, IoT and other processing capacity, as well as software tools via AWS server farms.  This frees clients from managing, scaling, and patching hardware and operating systems. \\nOne of the foundational services is Amazon Elastic Compute Cloud (EC2), which allows users to have at their disposal a virtual cluster of computers, with extremely high availability, which can be interacted with over the internet via REST APIs, a CLI or the AWS console.  AWS\\'s virtual computers emulate most of the attributes of a real computer, including hardware central processing units (CPUs) and graphics processing units (GPUs) for processing; local/RAM memory; hard-disk (HDD)/SSD storage; a choice of operating systems; networking; and pre-loaded application software such as web servers, databases, and customer relationship management (CRM).\\nAWS services are delivered to customers via a network of AWS server farms located throughout the world. Fees are based on a combination of usage (known as a \"Pay-as-you-go\" model), hardware, operating system, software, and networking features chosen by the subscriber requiring various degrees of availability, redundancy, security, and service options. Subscribers can pay for a single virtual AWS computer, a dedicated physical computer, or clusters of either. Amazon provides select portions of security for subscribers (e.g. physical security of the data centers) while other aspects of security are the responsibility of the subscriber (e.g. account management, vulnerability scanning, patching). AWS operates from many global geographical regions, including seven in North America.\\nAmazon markets AWS to subscribers as a way of obtaining large-scale computing capacity more quickly and cheaply than building an actual physical server farm. All services are billed based on usage, but each service measures usage in varying ways. As of 2023 Q1, AWS has 31% market share for cloud infrastructure while the next two competitors Microsoft Azure and Google Cloud have 25%, and 11% respectively, according to Synergy Research Group.\\n\\n', 'source': 'https://en.wikipedia.org/wiki/Amazon_Web_Services'}, page_content='Amazon Web Services, Inc. (AWS) is a subsidiary of Amazon that provides on-demand cloud computing platforms and APIs to individuals, companies, and governments, on a metered, pay-as-you-go basis. Clients will often use this in combination with autoscaling (a process that allows a client to use more computing in times of high application usage, and then scale down to reduce costs when there is less traffic). These cloud computing web services provide various services related to networking, compute, storage, middleware, IoT and other processing capacity, as well as software tools via AWS server farms.  This frees clients from managing, scaling, and patching hardware and operating systems. \\nOne of the foundational services is Amazon Elastic Compute Cloud (EC2), which allows users to have at their disposal a virtual cluster of computers, with extremely high availability, which can be interacted with over the internet via REST APIs, a CLI or the AWS console.  AWS\\'s virtual computers emulate most of the attributes of a real computer, including hardware central processing units (CPUs) and graphics processing units (GPUs) for processing; local/RAM memory; hard-disk (HDD)/SSD storage; a choice of operating systems; networking; and pre-loaded application software such as web servers, databases, and customer relationship management (CRM).\\nAWS services are delivered to customers via a network of AWS server farms located throughout the world. Fees are based on a combination of usage (known as a \"Pay-as-you-go\" model), hardware, operating system, software, and networking features chosen by the subscriber requiring various degrees of availability, redundancy, security, and service options. Subscribers can pay for a single virtual AWS computer, a dedicated physical computer, or clusters of either. Amazon provides select portions of security for subscribers (e.g. physical security of the data centers) while other aspects of security are the responsibility of the subscriber (e.g. account management, vulnerability scanning, patching). AWS operates from many global geographical regions, including seven in North America.\\nAmazon markets AWS to subscribers as a way of obtaining large-scale computing capacity more quickly and cheaply than building an actual physical server farm. All services are billed based on usage, but each service measures usage in varying ways. As of 2023 Q1, AWS has 31% market share for cloud infrastructure while the next two competitors Microsoft Azure and Google Cloud have 25%, and 11% respectively, according to Synergy Research Group.\\n\\n\\n== Services ==\\n\\nAs of 2021, AWS comprises over 200 products and services including computing, storage, networking, database, analytics, application services, deployment, management, machine learning, mobile, developer tools, RobOps and tools for the Internet of Things. The most popular include Amazon Elastic Compute Cloud (EC2), Amazon Simple Storage Service (Amazon S3), Amazon Connect, and AWS Lambda (a serverless function that can perform arbitrary code written in any language that can be configured to be triggered by hundreds of events, including HTTP calls).\\nServices expose functionality through APIs for clients to use in their applications.  These APIs are accessed over HTTP, using the REST architectural style and SOAP protocol for older APIs and exclusively JSON for newer ones. Clients can interact with these APIs in various ways, including from the AWS console (a website), by using SDKs written in various languages (such as Python, Java, and JavaScript), or by making direct REST calls.\\n\\n\\n== History ==\\n\\n\\n=== Founding (2000–2005) ===\\n\\nThe genesis of AWS came in the early 2000s. After building Merchant.com, Amazon\\'s e-commerce-as-a-service platform that offers third-party retailers a way to build their own web-stores, Amazon pursued service-oriented architecture as a means to scale its engineering operations, led by then CTO Allan Vermeulen.\\nAround the same time frame, Amazon was frustrat'), Document(metadata={'title': 'AWS Lambda', 'summary': 'AWS Lambda is an event-driven, serverless Function as a Service (FaaS) provided by Amazon as a part of Amazon Web Services. It is designed to enable developers to run code without provisioning or managing servers. It executes code in response to events and automatically manages the computing resources required by that code. It was introduced on November 13, 2014.', 'source': 'https://en.wikipedia.org/wiki/AWS_Lambda'}, page_content=\"AWS Lambda is an event-driven, serverless Function as a Service (FaaS) provided by Amazon as a part of Amazon Web Services. It is designed to enable developers to run code without provisioning or managing servers. It executes code in response to events and automatically manages the computing resources required by that code. It was introduced on November 13, 2014. \\n\\n\\n== Specification ==\\nEach AWS Lambda instance runs within a lightweight, isolated environment powered by Firecracker microVMs. These microVMs are initialized with a runtime environment based on Amazon Linux (Amazon Linux AMI or Amazon Linux 2), a custom Linux distribution developed by AWS. Firecracker provides hardware-virtualization-based isolation, aiming to achieve near-bare-metal performance with minimal overhead. AWS claims that, unlike traditional virtual machines, these microVMs launch in milliseconds, enabling rapid and secure function execution with a minimal memory footprint. The Amazon Linux AMI is specifically optimized for cloud-native and serverless workloads, aiming to provide a lightweight, secure, and performant runtime environment. \\nAs of 2025, AWS Lambda supports Node.js, Python, Java, Go, .NET, Ruby and custom runtimes.\\n\\n\\n== Cold start performance and deployment considerations ==\\nRust and Go generally exhibit lower cold start times in AWS Lambda compared to Java and C# because they compile to native static binaries, eliminating the need for a virtual machine (JVM or .NET CLR) and reducing runtime initialization overhead. Go has some minimal runtime initialization, including garbage collection and goroutine management, but its impact on cold start time is relatively low. Rust, which is fully ahead-of-time (AOT) compiled and does not require a runtime, often achieves the lowest cold start latency among supported languages. \\nJava and C# run on managed runtime environments, introducing additional cold start latency due to runtime initialization and Just-In-Time (JIT) compilation. However, modern optimizations have mitigated some of these challenges. .NET 7 and .NET 8 support Ahead-of-Time (AOT) compilation, reducing cold start times by precompiling code.  Additionally, AWS Lambda SnapStart for Java 11 and 17 pre-warms and snapshots execution state, significantly decreasing cold start overhead for Java-based functions.  Despite these optimizations, Rust and Go typically maintain lower cold start times due to their minimal runtime dependencies. \\nIn long-running workloads, JIT compilation in Java and .NET may improve execution speed through dynamic optimizations. However, this benefit is workload-dependent, and Rust’s AOT compilation often provides better performance consistency, particularly for CPU-bound tasks.  For short-lived Lambda invocations, Rust and Go generally maintain more predictable performance, as JIT optimizations may not have sufficient time to take effect. \\nHistorically, Rust and Go required additional effort in deployment due to cross-compilation and static linking challenges. Rust, in particular, often necessitates MUSL-based static linking for AWS Lambda compatibility. However, advancements in deployment tooling, including AWS Serverless Application Model (AWS SAM), GitHub Actions, and Lambda container images, have simplified this process. Go benefits from native static linking support, making its deployment process comparatively straightforward. AWS Lambda's support for container images further reduces runtime compatibility concerns, enabling the use of custom runtimes and dependencies. \\n\\n\\n== Features ==\\n\\n\\n=== Concurrency Models ===\\nReserved Concurrency sets a maximum number of concurrent executions for a specific function and reserves that capacity from the account’s overall concurrency limit. However, it does not keep execution environments initialized or guarantee that any instances remain running when the function is idle.\\nProvisioned Concurrency, in contrast, maintains a specified number of pre-initialized execution environmen\"), Document(metadata={'title': 'Amazon S3', 'summary': 'Amazon Simple Storage Service (S3) is a service offered by Amazon Web Services (AWS) that provides object storage through a web service interface. Amazon S3 uses the same scalable storage infrastructure that Amazon.com uses to run its e-commerce network. Amazon S3 can store any type of object, which allows uses like storage for Internet applications, backups, disaster recovery, data archives, data lakes for analytics, and hybrid cloud storage. AWS launched Amazon S3 in the United States on March 14, 2006, then in Europe in November 2007.', 'source': 'https://en.wikipedia.org/wiki/Amazon_S3'}, page_content='Amazon Simple Storage Service (S3) is a service offered by Amazon Web Services (AWS) that provides object storage through a web service interface. Amazon S3 uses the same scalable storage infrastructure that Amazon.com uses to run its e-commerce network. Amazon S3 can store any type of object, which allows uses like storage for Internet applications, backups, disaster recovery, data archives, data lakes for analytics, and hybrid cloud storage. AWS launched Amazon S3 in the United States on March 14, 2006, then in Europe in November 2007.\\n\\n\\n== Technical details ==\\n\\n\\n=== Design ===\\nAmazon S3 manages data with an object storage architecture which aims to provide scalability, high availability, and low latency with high durability. The basic storage units of Amazon S3 are objects which are organized into buckets. Each object is identified by a unique, user-assigned key. Buckets can be managed using the console provided by Amazon S3, programmatically with the AWS SDK, or the REST application programming interface. Objects can be up to five terabytes in size. Requests are authorized using an access control list associated with each object bucket and support versioning which is disabled by default. Since buckets are typically the size of an entire file system mount in other systems, this access control scheme is very coarse-grained. In other words, unique access controls cannot be associated with individual files. Amazon S3 can be used to replace static web-hosting infrastructure with HTTP client-accessible objects, index document support, and error document support.\\nThe Amazon AWS authentication mechanism allows the creation of authenticated URLs, valid for a specified amount of time. Every item in a bucket can also be served as a BitTorrent feed. The Amazon S3 store can act as a seed host for a torrent and any BitTorrent client can retrieve the file. This can drastically reduce the bandwidth cost for the download of popular objects. A bucket can be configured to save HTTP log information to a sibling bucket; this can be used in data mining operations. There are various User Mode File System (FUSE)–based file systems for Unix-like operating systems (for example, Linux) that can be used to mount an S3 bucket as a file system. The semantics of the Amazon S3 file system are not that of a POSIX file system, so the file system may not behave entirely as expected.\\n\\n\\n=== Amazon S3 storage classes ===\\nAmazon S3 offers nine different storage classes with different levels of durability, availability, and performance requirements.\\n\\nAmazon S3 Standard is the default. It is general purpose storage for frequently accessed data.\\nAmazon S3 Express One Zone is a single-digit millisecond latency storage for frequently accessed data and latency-sensitive applications. It stores data only in one availability zone.\\nThe Amazon S3 Glacier storage classes above are distinct from Amazon Glacier, which is a separate product with its own APIs.\\n\\n\\n=== File size limits ===\\nAn object in S3 can be between 0 bytes and 5 TB. If an object is larger than 5 TB, it must be divided into chunks prior to uploading. When uploading, Amazon S3 allows a maximum of 5 GB in a single upload operation; hence, objects larger than 5 GB must be uploaded via the S3 multipart upload API.\\n\\n\\n=== Scale ===\\nAs of 2024, S3 stores 400 trillion objects, serves 150 million requests per second, and peaks at about 1 petabyte per second in bandwidth.\\n\\n\\n== Uses ==\\n\\n\\n=== Notable users ===\\nPhoto hosting service SmugMug has used Amazon S3 since April 2006. They experienced a number of initial outages and slowdowns, but after one year they described it as being \"considerably more reliable than our own internal storage\" and claimed to have saved almost $1 million in storage costs.\\nNetflix uses Amazon S3 as their system of record. Netflix implemented a tool, S3mper, to address the Amazon S3 limitations of eventual consistency. S3mper stores the filesystem metadata: filenames, directory structure, and pe'), Document(metadata={'title': 'AWS Graviton', 'summary': 'AWS Graviton is a family of 64-bit ARM-based CPUs designed by the Amazon Web Services (AWS) subsidiary Annapurna Labs. The processor family is distinguished by its lower energy use relative to x86-64, static clock rates, and lack of simultaneous multithreading. It was designed to be tightly integrated with AWS servers and datacenters, and is not sold outside Amazon.\\nIn 2018, AWS released the first version of Graviton suitable for open-source and non-performance-critical scripting workloads as part of its A1 instance family. The second generation, AWS Graviton2, was announced in December 2019 as the first of its sixth generation instances, with AWS promising 40% improved price/performance over fifth generation Intel and AMD instances and an average of 72% reduction in power consumption. In May 2022, AWS made available Graviton3 processors as part of its seventh generation EC2 instances, offering a further 25% better compute performance over Graviton2.', 'source': 'https://en.wikipedia.org/wiki/AWS_Graviton'}, page_content=\"AWS Graviton is a family of 64-bit ARM-based CPUs designed by the Amazon Web Services (AWS) subsidiary Annapurna Labs. The processor family is distinguished by its lower energy use relative to x86-64, static clock rates, and lack of simultaneous multithreading. It was designed to be tightly integrated with AWS servers and datacenters, and is not sold outside Amazon.\\nIn 2018, AWS released the first version of Graviton suitable for open-source and non-performance-critical scripting workloads as part of its A1 instance family. The second generation, AWS Graviton2, was announced in December 2019 as the first of its sixth generation instances, with AWS promising 40% improved price/performance over fifth generation Intel and AMD instances and an average of 72% reduction in power consumption. In May 2022, AWS made available Graviton3 processors as part of its seventh generation EC2 instances, offering a further 25% better compute performance over Graviton2.\\n\\n\\n== Origin ==\\nThe first Annapurna Labs silicon product launched under the AWS umbrella was the AWS Nitro hardware and supporting hypervisor in November 2017. Following on from Nitro, Annapurna began to develop general-purpose CPUs using its expertise.\\nThe benefits AWS anticipated included:\\n\\nOffering more choice in terms of selection of EC2 instances for customers\\nTargeting Arm-based applications\\nProviding high availability and security, while reducing virtualization costs\\nOffering decent server performance with lower prices for customers\\nThe first Graviton processor reached these goals. Graviton2 now offers better performance compared to X86-64: \\n35% faster running Redis, 30% faster running Apache Cassandra, and up to 117%  higher throughput for MongoDB. In addition to higher performance, Graviton offers 70% lower power consumption  and 20% lower price.\\n\\n\\n== Graviton ==\\n\\nThe first Graviton CPU has 16 Cortex A72 cores, with ARMv8-A ISA including Neon, crc, crypto.  The vCPUs are physical cores in a single NUMA domain, running at 2.3 GHz. It also includes hardware acceleration for floating-point math, SIMD, plus AES, SHA-1, SHA-256, GCM, and CRC-32 algorithms.\\nOnly the A1 EC2 instance contains the first version of Graviton.\\n\\n\\n== Graviton2 ==\\nThe Graviton2 CPU has 64 Neoverse N1 cores, with ARMv8.2-A ISA including 2×128 bit Neon, LSE, fp16, rcpc, dotprod, crypto. The vCPUs are physical cores in a single NUMA domain, running at 2.5 GHz. \\nEC2 instances with Graviton2 CPU: M6g, M6gd, C6g, C6gd, C6gn, R6g, R6gd, T4g, X2gd, G5g, Im4gn, Is4gen, I4g. One or more of these instances are available in 28 AWS regions.\\n\\n\\n== Graviton3 ==\\nThe Graviton3 CPU has 64 Neoverse V1 cores, with ARMv8.4-A ISA including 4×128 bit Neon, 2×256 bit SVE, LSE, rng, bf16, int8, crypto. Organized in a single NUMA domain, all vCPUs are physical cores running at 2.6 GHz. Graviton3 has 8 DDR5-4800 memory channels.  \\nCompared to Graviton2, Graviton3 provides up to 25% better compute performance, up to 2× higher floating-point performance, up to 2× faster cryptographic workload performance, up to 3× better performance for machine learning workloads including support for bfloat16, and 50% more memory bandwidth. Graviton3-based instances use up to 60% less energy for the same performance than comparable EC2 instances.\\nGraviton3E is a higher power version of Graviton3.\\nEC2 instances with Graviton3 CPU: C7g, M7g, R7g; with local disk: C7gd, M7gd, R7gd.\\nEC2 instances with Graviton3E CPU: C7gn, HPC7g.\\n\\n\\n== Graviton4 ==\\nThe Graviton4 CPU has 96 Neoverse V2 cores, with ARMv9.0-A ISA plus the SVE2-crypto extension.  It has 2 MB of L2 cache per core (192 MB total), and 12 DDR5-5600 memory channels. Graviton4 supports Arm's Branch Target Identification (BTI).\\nAmazon claims that Graviton4 is up to 40% faster for databases, 30% faster for web applications, and 45% faster for large Java applications than the Graviton3.\\nEC2 instances with Graviton4 CPU: R8g, X8g, C8g, M8g, I8g.\\n\\n\\n== See also ==\\nTimeline of Amazon Web Services\\nFujitsu\"), Document(metadata={'title': 'AWS Shopper', 'summary': 'The AWS Shopper (A.W.S = Automobilwerk  Walter Schätzle) was a German Automobile manufactured in Berlin (Germany) from 1973 to 1974. The first car was shown in 1970 and a few hand-built cars were made, but series production began in 1973. 1700 were made.', 'source': 'https://en.wikipedia.org/wiki/AWS_Shopper'}, page_content=\"The AWS Shopper (A.W.S = Automobilwerk  Walter Schätzle) was a German Automobile manufactured in Berlin (Germany) from 1973 to 1974. The first car was shown in 1970 and a few hand-built cars were made, but series production began in 1973. 1700 were made.\\n\\n\\n== History ==\\nThe AWS Shopper was designed by Walter Schätzle in 1970, an erstwhile Borgward dealer. The factory was located in West Berlin, in Rudow. The company first started to manufacture the car in 1973. While the brand's marketing was strong, the demand for this car was low during the 1970s. The company ceased manufacture in 1974.\\n\\n\\n== Design ==\\nThe AWS Shopper's internal design was unique, the frame was made with square steel tubes connected by special angular brackets, and the shell of the car was made from plasticized sheet metal panels. This meant that fixing the car was simple. Goggomobil parts were also used.\\nMechanical information:\\n\\nModel name: Shopper or Piccolo\\nYears produced: 1971-1974\\nNumber of models produced: 1400 Shopper, 300 Piccolo\\nLength: 3,070 mm (120.9 in)\\nWidth: 1,380 mm (54.3 in)\\nWeight 430 kg (948 lb)\\nNumber of seats: 4\\nMotor: Glas 2-stroke\\nCylinders: 2\\nDisplacement: 293 cc\\nHorsepower: 15\\nGear box: 4 + rev\\nElectrics: 12v\\nIgnition: 2 x coil\\nChassis: platform\\nSuspension (front & back): coil\\nSteering: rack\\nBrakes: hydraulic\\n4 Wheels: 480 x 10\\nTop speed: 55 mph (89 km/h)\\n\\n\\n== See also ==\\nGoggomobil\\n\\n\\n== External links ==\\n1973 AWS Shopper - [1]\\nAWS History (in German) - [2]\"), Document(metadata={'title': 'Annapurna Labs', 'summary': 'Annapurna Labs is an Israeli microelectronics company. Since January 2015 it has been a wholly owned subsidiary of Amazon.com. Amazon reportedly acquired the company for its Amazon Web Services division for US$350–370M.', 'source': 'https://en.wikipedia.org/wiki/Annapurna_Labs'}, page_content='Annapurna Labs is an Israeli microelectronics company. Since January 2015 it has been a wholly owned subsidiary of Amazon.com. Amazon reportedly acquired the company for its Amazon Web Services division for US$350–370M.\\n\\n\\n== History ==\\nAnnapurna Labs, named after the Annapurna Massif in the Himalayas, was co-founded in 2011 by Bilic \"Billy\" Hrvoje, a Bosnian Jewish refugee, Nafea Bshara, an Arab Israeli citizen, and Ronen Boneh with investments from the independent investors Avigdor Willenz, Manuel Alba, Andy Bechtolsheim, the venture capital firm Walden International, Arm Holdings, and TSMC. Board members include Avigdor Willenz, Manuel Alba, and Lip-Bu Tan, the CEO of Walden International and executive chairman of Cadence Design Systems.\\nThe first product launched under the AWS umbrella was the AWS Nitro hardware and supporting hypervisor in November 2017. Following on from Nitro, Annapurna developed general-purpose CPUs under the Graviton family and machine-learning ASICs under the Trainium and Inferentia brands.\\nIn November 2024 Annapurna announced their second generation Trainium 2 intended for training AI models.  Based on their internal testing, Amazon are claiming \"a 4-times performance increase between Trainium 1 and Trainium 2\".\\n\\n\\n== See also ==\\nAWS Graviton - an ARM-based CPU developed by Annapurna Labs for exclusive use by Amazon Web Services.\\n\\n\\n== References ==\\n\\n\\n== External links ==\\nOfficial web site'), Document(metadata={'title': 'AWS Glue', 'summary': 'AWS Glue is an event-driven, serverless computing platform provided by Amazon as a part of Amazon Web Services. It was introduced in August 2017.', 'source': 'https://en.wikipedia.org/wiki/AWS_Glue'}, page_content=\"AWS Glue is an event-driven, serverless computing platform provided by Amazon as a part of Amazon Web Services. It was introduced in August 2017. \\n\\n\\n== Overview ==\\nThe primary purpose of Glue is to scan other services in the same Virtual Private Cloud (or equivalent accessible network element even if not provided by AWS), particularly S3. The jobs are billed according to compute time, with a minimum count of 1 minute. Glue discovers the source data to store associated meta-data (e.g. the table's schema of field names, types lengths) in the AWS Glue Data Catalog (which is then accessible via AWS console or APIs). \\n\\n\\n== Languages supported ==\\nScala and Python are officially supported as of 2020. \\n\\n\\n== Catalog interrogation via API ==\\nThe catalog can be read in AWS console (via browser) and via API divided into topics including:\\n\\nDatabase API\\nTable API\\nPartition API\\nConnection API\\nUser-Defined Function API\\nImporting an Athena Catalog to AWS Glue\\n\\n\\n== See also ==\\n\\n\\n== References ==\\n\\n\\n== External links ==\\nOfficial website\\nAWS Course\"), Document(metadata={'title': 'Timeline of Amazon Web Services', 'summary': 'This is a timeline of Amazon Web Services, which offers a suite of cloud computing services that make up an on-demand computing platform.', 'source': 'https://en.wikipedia.org/wiki/Timeline_of_Amazon_Web_Services'}, page_content='This is a timeline of Amazon Web Services, which offers a suite of cloud computing services that make up an on-demand computing platform.\\n\\n\\n== AWS Prelude ==\\n\\n\\n== Full timeline ==\\n\\n\\n== Partnerships ==\\n\\n\\n== Amazon Web Services outages ==\\n\\n\\n== See also ==\\nList of Amazon products and services\\nHistory of Amazon\\n\\n\\n== References =='), Document(metadata={'title': 'Amazon Elastic Compute Cloud', 'summary': 'Amazon Elastic Compute Cloud (EC2) is a part of Amazon\\'s cloud-computing platform, Amazon Web Services (AWS), that allows users to rent virtual computers on which to run their own computer applications. EC2 encourages scalable deployment of applications by providing a web service through which a user can boot an Amazon Machine Image (AMI) to configure a virtual machine, which Amazon calls an \"instance\", containing any software desired. A user can create, launch, and terminate server-instances as needed, paying by the second for active servers – hence the term \"elastic\". EC2 provides users with control over the geographical location of instances that allows for latency optimization and high levels of redundancy. In November 2010, Amazon switched its own retail website platform to EC2 and AWS.\\n\\n', 'source': 'https://en.wikipedia.org/wiki/Amazon_Elastic_Compute_Cloud'}, page_content='Amazon Elastic Compute Cloud (EC2) is a part of Amazon\\'s cloud-computing platform, Amazon Web Services (AWS), that allows users to rent virtual computers on which to run their own computer applications. EC2 encourages scalable deployment of applications by providing a web service through which a user can boot an Amazon Machine Image (AMI) to configure a virtual machine, which Amazon calls an \"instance\", containing any software desired. A user can create, launch, and terminate server-instances as needed, paying by the second for active servers – hence the term \"elastic\". EC2 provides users with control over the geographical location of instances that allows for latency optimization and high levels of redundancy. In November 2010, Amazon switched its own retail website platform to EC2 and AWS.\\n\\n\\n== History ==\\n\\nAmazon announced a limited public beta test of EC2 on August 25, 2006, offering access on a first-come, first-served basis.\\nAmazon added two new instance types (Large and Extra-Large) on October 16, 2007. On May 29, 2008, two more types were added, High-CPU Medium and High-CPU Extra Large. There were twelve types of instances available.\\nAmazon added three new features on March 27, 2008, static IP addresses, availability zones, and user-selectable kernels. On August 20, 2008, Amazon added Elastic Block Store (EBS)\\nThis provides persistent storage, a feature that had been lacking since the service was introduced.\\nAmazon EC2 went into full production when it dropped the beta label on October 23, 2008. On the same day, Amazon announced the following features:\\n\\na service level agreement for EC2,\\nMicrosoft Windows in beta form on EC2,\\nMicrosoft SQL Server in beta form on EC2,\\nplans for an AWS management console, and\\nplans for load balancing, autoscaling, and cloud monitoring services.\\nThese features were subsequently added on May 18, 2009.\\nAmazon EC2 was developed mostly by a team in Cape Town, South Africa led by Chris Pinkham. Pinkham provided the initial architecture guidance for EC2 and then built the team and led the development of the project along with Willem van Biljon.\\n\\n\\n== Instance types ==\\nInitially, EC2 used Xen virtualization exclusively. However, on November 6, 2017, Amazon announced the new C5 family of instances that were based on a custom architecture around the KVM hypervisor, called Nitro. Each virtual machine, called an \"instance\", functions as a virtual private server. Amazon sizes instances based on \"Elastic Compute Units\". The performance of otherwise identical virtual machines may vary. On November 28, 2017, AWS announced a bare-metal instance, a departure from exclusively offering virtualized instance types.\\nAs of January 2019, the following instance types were offered:\\n\\nGeneral Purpose: A1, T3, T2, M5, M5a, M4, T3a\\nCompute Optimized: C5, C5n, C4\\nMemory Optimized: R5, R5a, R4, X1e, X1, High Memory, z1d\\nAccelerated Computing: P3, P2, G3, F1\\nStorage Optimized: H1, I3, D2\\nAs of April 2018, the following payment methods by instance were offered:\\n\\nOn-demand: pay by the hour without commitment.\\nReserved: rent instances with one-time payment receiving discounts on the hourly charge.\\nSpot: bid-based service: runs the jobs only if the spot price is below the bid specified by bidder. The spot price is claimed to be supply-demand based, however a 2011 study concluded that the price was generally not set to clear the market, but was dominated by an undisclosed reserve price.\\nIn 2025, AWS expanded EC2 with the compute-optimized C8gn family, powered by Graviton4 and offering up to 600 Gbps network bandwidth (about 30% higher compute performance than C7gn), and introduced G6f fractional-GPU instances that let customers provision one-eighth, one-quarter, or one-half of an NVIDIA L4 GPU for right-sized graphics/ML workloads.\\n\\n\\n=== Cost ===\\n\\nAs of April 2018, Amazon charged about $0.0058 per hour ($4.176 per month) for the smallest \"Nano Instance\" (t2.nano) virtual machine running Linux or Windows. Storage-optimized insta'), Document(metadata={'title': 'Banu Aws', 'summary': 'The Banū Aws (Arabic: بنو أوس  pronounced [ˈbanuː ʔaws], \"Sons of Aws\") or simply Aws (Arabic: أوس, also romanised as Aus) was one of the main Arab tribes of Medina. The other was Khazraj, and the two, constituted the Ansar (\"Helpers of Muhammad”) after the Hijra.\\nThe Aws tribe descend from the ancient tribe al-Azd, a branch of the Qahtanite Arabs Aws and Khazraj were known as Banū Qayla (بنو قيلة  [ˈbænuː ˈqɑjlæ]) in pre-Islamic era.', 'source': 'https://en.wikipedia.org/wiki/Banu_Aws'}, page_content='The Banū Aws (Arabic: بنو أوس  pronounced [ˈbanuː ʔaws], \"Sons of Aws\") or simply Aws (Arabic: أوس, also romanised as Aus) was one of the main Arab tribes of Medina. The other was Khazraj, and the two, constituted the Ansar (\"Helpers of Muhammad”) after the Hijra.\\nThe Aws tribe descend from the ancient tribe al-Azd, a branch of the Qahtanite Arabs Aws and Khazraj were known as Banū Qayla (بنو قيلة  [ˈbænuː ˈqɑjlæ]) in pre-Islamic era.\\n\\n\\n== Etymology ==\\nThe word al-Aws means \"the gift\", probably a contraction for Aws Manāt (Arabic: أوس مناة, \"the gift of Manāt\"). The name was changed in Islamic times to Aws Allāh (Arabic: أوس الله).\\n\\n\\n== Early history ==\\nAbout AD 300, Thaʻlaba bin ʻAmr, grand father of al-Aws, separated from his tribe and settled in Yathrib (Medina), which was then controlled by Jewish clans, and the Banu Qayla were subordinate to the Jews for some time, until Mālik bin Ajlān of Khazraj asserts independence of the Jews so Aws and Khazraj obtained a share of palm trees and strongholds. Thus, about the 5th century, the Banu Qayla took control of Yathrib, and Jews retired into the background for about a century.\\nDuring the period before the Hijra, Abu Qays al-Aslat of the clan of Wāʼil, the leader of Aws, gave away the leadership to Ḥuḍayr bin Simāk of ʻAbd al-Ashhal. After a serious defeat, ʻAbd al-Ashhal and Ẓafar were withdrawn from Yathrib. The opposing leader, ʻAmr bin Nuʻmān, of the Khazrajite clan of Bayāḍa, drove the Jewish tribes of Banu Qurayza and Banu Nadir into alliance of the two. Nomads of Muzayna joined them too. Most of the Khazraj except ʻAbd Allāh bin Ubayy and another Khazraj leader, as well as the Jewish tribe Banū Qaynuqāʻ and the nomadic Juhayna and Ashjaʻ, supported ‘Amr bin Nu‘mān. The Awsite clan of Ḥāritha remained neutral. Then, in about 617, the Yawm al-Bu\\'ath began: the Aws forced back at first but finally defeated their opponents. The leaders of both sides were killed.\\nShi\\'a sources say they were Jews, But a Jewish source says that they and the Banu Khazraj were Arab tribes from Yemen who came to Medina in the fourth century. The Jewish source says that the two tribes took the power of Medina from the Jews in the 5th century by \"calling in outside assistance and treacherously massacring at a banquet\".\\nA Shi\\'a source says that they had been fighting for 120 years and were enemies. The Jewish source states that they went to war against each other in the Battle of Bu\\'ath a few years before the Islamic prophet Muhammad migrated to Medina.\\nThere were many Jewish tribes in Medina: Banu Nadir, Banu Qurayza, Banu Qaynuqa and 9 others, if not more, as referenced in the Medina mutual peace and security treaty (although Qaynuqa, Nadir, and Qurayza aren\\'t named in the treaty).  Some where familial clans of larger non-Jewish Arab tribes (e.g. Banu Aws, whom took initiative to invite and provide refuge to Mohammad and his first followers thus earning \\'Al-Ansar\\' title) while some others had non-Jewish familial clans within their tribes, and others were purely Jewish.\\nIn the battle of Yawm al-Bu\\'ath, the tribes of Banu Nadir and Banu Qurayza fought with Banu Aws, while the tribe of Banu Qaynuqa allied with Banu Khazraj. The latter were defeated after a long and desperate battle.\\n\\n\\n== Hijrah ==\\nThe Banu Aws were included in the Constitution of Medina as allies to the Muslims, \"one nation/community with the Believers\". Then, Banu Aws and others became known as the Ansar.\\n\\n\\n== Banu Qurayza ==\\nThe Banu Qurayza were a Jewish tribe who lived in Medina. The tribe\\'s men, apart from a few who converted to Islam, were sentenced to death in 627 in retaliation for Banu Qurayza treachery and subversion in aiding the Meccan pagan enemies who had launched a ferocious attack on Madinah, in order to eliminate the Muslims and their allies during the Battle of the Trench.\\nSince the Banu Qurayza had been an ally of the Banu Aus during the Battle of Bu\\'ath, they choose Sa\\'ad ibn Mua\\'dh, the chief of the Banu Aus as thei'), Document(metadata={'title': 'AWS CloudFormation', 'summary': 'AWS CloudFormation is a service provided by Amazon Web Services (AWS) that enables users to model and manage infrastructure resources in an automated and secure manner. Using CloudFormation, developers can define and provision AWS infrastructure resources using a JSON- or YAML-formatted infrastructure as code template. The service was released on February 25, 2011.', 'source': 'https://en.wikipedia.org/wiki/AWS_CloudFormation'}, page_content=\"AWS CloudFormation is a service provided by Amazon Web Services (AWS) that enables users to model and manage infrastructure resources in an automated and secure manner. Using CloudFormation, developers can define and provision AWS infrastructure resources using a JSON- or YAML-formatted infrastructure as code template. The service was released on February 25, 2011.\\n\\n\\n== Overview ==\\nAWS CloudFormation provides a way for users to model an entire AWS infrastructure in a text file, allowing for the infrastructure to be version-controlled, shared, and reused. By using templates, users can create, update, and delete a collection of resources together as a single unit, known as a stack.\\n\\n\\n== Template anatomy ==\\nA CloudFormation template consists of several sections, including Resources, Parameters, Mappings, Conditions, Outputs, and Metadata. The most important section is the Resources section, which defines the AWS resources to be created or modified.\\n\\n\\n=== Resources ===\\nResources are the AWS components that are created, updated, or deleted when the CloudFormation stack is created, updated, or deleted. Examples of resources include Amazon EC2 instances, Amazon S3 buckets, and AWS Lambda functions.\\n\\n\\n=== Parameters ===\\nParameters enable users to input custom values to a CloudFormation template, allowing for customization without modifying the template itself. This makes templates more reusable and flexible to accommodate different environments and use cases.\\n\\n\\n=== Mappings ===\\nMappings define a set of key-value pairs that can be used to map input values to corresponding output values, making it possible to conditionally define properties and values based on the input parameters. For example, mappings can be used to define different instance types and Amazon Machine Images (AMIs) for different environments.\\n\\n\\n=== Conditions ===\\nConditions enable users to define conditional statements within a CloudFormation template, allowing for the creation or modification of resources based on specific criteria. This can be useful in cases where certain resources should only be created or modified under specific circumstances.\\n\\n\\n=== Outputs ===\\nOutputs provide a way to export information about the created resources, making it possible to share this information between stacks or with external systems. Outputs can be used to easily reference resources created by a stack in another stack, facilitating the integration of different AWS services.\\n\\n\\n=== Metadata ===\\nMetadata is used to provide additional information about the template or resources within the template. This can include documentation, licensing information, or other descriptive data.\\n\\n\\n== Example CloudFormation template ==\\nThe following example demonstrates a simple AWS CloudFormation template in YAML format:\\n\\n---\\nAWSTemplateFormatVersion: '2010-09-09'\\nDescription: A simple AWS CloudFormation template for an Amazon S3 bucket.\\nParameters:\\n  BucketName:\\n    Description: The name of the Amazon S3 bucket.\\n    Type: String\\nResources:\\n  S3Bucket:\\n    Type: 'AWS::S3::Bucket'\\n    Properties:\\n      BucketName: !Ref BucketName\\nOutputs:\\n  BucketARN:\\n    Description: The Amazon S3 bucket ARN.\\n    Value: !GetAtt S3Bucket.Arn\\n\\nThis template has the following sections:\\nAWSTemplateFormatVersion: Specifies the CloudFormation template version.\\nDescription: Provides a brief description of the template.\\nParameters: Defines input parameters for the template. In this example, the parameter is the Amazon S3 bucket's name.\\nResources: Lists the AWS resources to be created. Here, it specifies the creation of an Amazon S3 bucket.\\nOutputs: Defines the values to be returned after the stack is created. In this case, it returns the Amazon Resource Name (ARN) of the created S3 bucket.\\nBy using this template in AWS CloudFormation, a user can create an Amazon S3 bucket with a specified name, and the ARN of the created bucket will be returned as an output value.\\n\\n\\n== AWS CloudFormation Drift Detection ==\\nAWS CloudFormation D\"), Document(metadata={'title': 'Amazon Relational Database Service', 'summary': 'Amazon Relational Database Service (or Amazon RDS) is a distributed relational database service by Amazon Web Services (AWS). It is a web service running \"in the cloud\" designed to simplify the setup, operation, and scaling of a relational database for use in applications. Administration processes like patching the database software, backing up databases and enabling point-in-time recovery are managed automatically. Scaling storage and compute resources can be performed by a single API call to the AWS control plane on-demand. AWS does not offer an SSH connection to the underlying virtual machine as part of the managed service.', 'source': 'https://en.wikipedia.org/wiki/Amazon_Relational_Database_Service'}, page_content='Amazon Relational Database Service (or Amazon RDS) is a distributed relational database service by Amazon Web Services (AWS). It is a web service running \"in the cloud\" designed to simplify the setup, operation, and scaling of a relational database for use in applications. Administration processes like patching the database software, backing up databases and enabling point-in-time recovery are managed automatically. Scaling storage and compute resources can be performed by a single API call to the AWS control plane on-demand. AWS does not offer an SSH connection to the underlying virtual machine as part of the managed service.\\n\\n\\n== History ==\\nAmazon RDS was first released on 26 October 2009, supporting MySQL databases. This was followed by support for Oracle Database in June 2011, Microsoft SQL Server in May 2012, PostgreSQL in November 2013, and MariaDB (a fork of MySQL) in October 2015, and an additional 80 features during 2017.\\nIn November 2014 AWS announced Amazon Aurora, a MySQL-compatible database offering enhanced high availability and performance, and in October 2017 a PostgreSQL-compatible database offering was launched.\\nIn March 2019 AWS announced support of PostgreSQL 11 in RDS, five months after official release.\\n\\n\\n== Features ==\\nNew database instances can be launched from the AWS Management Console or using the Amazon RDS APIs. Amazon RDS offers different features to support different use cases. Some of the major features are:\\n\\n\\n=== Multi-Availability Zone (AZ) deployment ===\\nIn May 2010 Amazon announced Multi-Availability Zone deployment support. Amazon RDS Multi-Availability Zone (AZ) allows users to automatically provision and maintain a synchronous physical or logical \"standby\" replica, depending on database engine, in a different Availability Zone (independent infrastructure in a physically separate location). Multi-AZ database instance can be developed at creation time or modified to run as a Multi-AZ deployment later. Multi-AZ deployments aim to provide enhanced availability and data durability for MySQL, MariaDB, Oracle, PostgreSQL and SQL Server instances and are targeted for production environments. In the event of planned database maintenance or unplanned service disruption, Amazon RDS automatically fails over to the up-to-date standby, allowing database operations to resume without administrative intervention.\\nMulti-AZ RDS instances are optional and have a cost associated with them. When creating a RDS instance, the user is asked if they would like to use a Multi-AZ RDS instance. In Multi-AZ RDS deployments backups are done in the standby instance so I/O activity is not suspended any time but users may experience elevated latencies for a few minutes during backups.\\n\\n\\n=== Read replicas ===\\nRead replicas allow different use cases such as to scale in for read-heavy database workloads. There are up to five replicas available for MySQL, MariaDB, and PostgreSQL. Instances use the native, asynchronous replication functionality of their respective database engines. They have no backups configured by default and are accessible and can be used for read scaling. MySQL and MariaDB read replicas can be made writeable again since October 2012; PostgreSQL read replicas do not support it. Replicas are done at database instance level and do not support replication at database or table level.\\n\\n\\n=== Performance metrics and monitoring ===\\nPerformance metrics for Amazon RDS are available from the AWS Management Console or the Amazon CloudWatch API. In December 2015, Amazon announced an optional enhanced monitoring feature that provides an expanded set of metrics for the MySQL, MariaDB, and Aurora database engines.\\n\\n\\n=== RDS costs ===\\nAmazon RDS instances are priced very similarly to Amazon Elastic Compute Cloud (EC2). RDS is charged per hour and comes in two packages: On-Demand DB Instances and Reserved DB Instances. On-Demand Instances are at an ongoing hourly usage rate. Reserved RDS Instances are offered in 1-year and 3'), Document(metadata={'title': 'Automatic Warning System', 'summary': \"Automatic Warning System (AWS) is a railway safety system invented and predominantly used in the United Kingdom. It provides a train driver with an audible indication of whether the next signal they are approaching is clear or at caution.\\nDepending on the upcoming signal state, the AWS will either produce a 'horn' sound (as a warning indication), or a 'bell' sound (as a clear indication). If the train driver fails to acknowledge a warning indication, an emergency brake application is initiated by the AWS; if the driver correctly acknowledges the warning indication, by pressing an acknowledgement button, then a visual 'sunflower' is displayed to the driver, as a reminder of the warning.\\n\\n\", 'source': 'https://en.wikipedia.org/wiki/Automatic_Warning_System'}, page_content='Automatic Warning System (AWS) is a railway safety system invented and predominantly used in the United Kingdom. It provides a train driver with an audible indication of whether the next signal they are approaching is clear or at caution.\\nDepending on the upcoming signal state, the AWS will either produce a \\'horn\\' sound (as a warning indication), or a \\'bell\\' sound (as a clear indication). If the train driver fails to acknowledge a warning indication, an emergency brake application is initiated by the AWS; if the driver correctly acknowledges the warning indication, by pressing an acknowledgement button, then a visual \\'sunflower\\' is displayed to the driver, as a reminder of the warning.\\n\\n\\n== Principles of operation ==\\n\\nAWS is a system based on trains detecting magnetic fields. These magnetic fields are created by permanent magnets and electromagnets installed on the track. The polarity and sequence of magnetic fields detected by a train determine the type of indication given to the train driver.\\nA magnet, known as an AWS magnet is installed on the track center line. The magnetic field of the magnet is set based on the next signal aspect. The train detects the polarity of the magnetic field via an AWS receiver, permanently mounted under the train. \\nAn AWS magnet is made up of 1 permanent magnet, and an optional electromagnet. The permanent magnet is generally uncontrollable, and always produces a constant magnetic field of unchanging polarity. A train running over the permanent magnet will deliver an AWS warning indication to the train driver.\\nThe optional electromagnet can be used to provide the train driver with an AWS clear indication. If the train AWS detects a second magnetic field of a certain polarity after the first permanent magnet, then the AWS displays a clear indication instead of a warning indication. The train detects the electromagnet polarity after the permanent magnet polarity. This is because the optional electromagnet is always installed after the permanent magnet (in the direction of travel). The electromagnet is connected to the green signal aspect, so the driver will only receive an AWS clear indication if the signal is clear (green).\\nThe permanent magnet always produces a south pole. If the electromagnet is energized to produce a north pole, the AWS will give the driver an AWS clear indication.\\nMultiple unit trains have an AWS receiver at each end. Vehicles that can operate singly (single car DMUs and locomotives) only have one; this could be either at the front or rear depending on the direction the vehicle is traveling in.\\nThe equipment on a train consists of;\\n\\nAn AWS receiver (a magnetic field detector located under the driving cab of the train)\\nAn AWS visual indicator (known as the \\'sunflower\\')\\nAn AWS audible indicator (capable of producing two different sounds, clear indication sound = bell, warning indication sound = \\'horn\\'.  On modern rolling stock the electromechanical bell and horn is replaced with an electronically generated \"chime\" or \"buzz\".\\nAn AWS Acknowledge button (used to acknowledge the audible AWS warning indication. If not pressed within 2-3 seconds of an AWS warning indication, emergency brakes are applied) \\nAn AWS isolation/fault indicator (a visual indicator advising the driver when the AWS has been isolated or has a fault)\\n\\n\\n=== AWS practical example ===\\nThe polarities in this example are relevant to the UK. The permanent magnet produces a south pole in the UK. Other countries may use permanent magnet that produces a north pole. The key operational principle is that the electromagnet produces the opposite pole of the permanent magnet.\\n\\n\\n==== AWS clear indication example ====\\nA train is driving towards a signal that shows clear (green).\\nThe train runs over the AWS magnet (which is two magnets, first a permanent magnet and then an electromagnet). The electromagnet is energized. The AWS receiver detects a magnetic field in the sequence: South, North. The south pole comes from the perman'), Document(metadata={'title': 'AWS Cloud Development Kit', 'summary': 'The AWS Cloud Development Kit (AWS CDK) is an open-source software development framework developed by Amazon Web Services (AWS) for defining and provisioning cloud infrastructure resources using familiar programming languages. The AWS CDK aims to improve the experience of working with Infrastructure as Code by providing higher-level, reusable constructs that enable developers to create and manage AWS resources more efficiently and with less boilerplate code compared to traditional configuration files like AWS CloudFormation templates.', 'source': 'https://en.wikipedia.org/wiki/AWS_Cloud_Development_Kit'}, page_content='The AWS Cloud Development Kit (AWS CDK) is an open-source software development framework developed by Amazon Web Services (AWS) for defining and provisioning cloud infrastructure resources using familiar programming languages. The AWS CDK aims to improve the experience of working with Infrastructure as Code by providing higher-level, reusable constructs that enable developers to create and manage AWS resources more efficiently and with less boilerplate code compared to traditional configuration files like AWS CloudFormation templates.\\n\\n\\n== Overview ==\\nAWS CDK allows developers to model and provision cloud infrastructure resources using programming languages such as TypeScript, JavaScript, Python, Java, Go, and C#. Developers can define their infrastructure using the same programming languages and tools they use for their application code, enabling better integration between application and infrastructure development processes.\\nAWS CDK includes a library of constructs, which are pre-built components that encapsulate one or more AWS resources and their configurations. Constructs can be used to build higher-level abstractions known as patterns, which simplify common cloud infrastructure patterns and best practices. The AWS Construct Library provides a collection of constructs for various AWS services, such as Amazon S3, Amazon EC2, and AWS Lambda.\\n\\n\\n== Key features ==\\nFamiliar programming languages: AWS CDK supports TypeScript, JavaScript, Python, Java, Go, and C#, allowing developers to use their preferred programming languages for defining cloud infrastructure.\\nReusable constructs: AWS CDK includes a library of constructs that encapsulate AWS resources, their configurations, and best practices, promoting reusability and reducing boilerplate code.\\nHigher-level abstractions: Developers can use constructs to create custom, higher-level abstractions, known as patterns, to simplify complex infrastructure patterns and improve maintainability.\\nIntegration with AWS CloudFormation: AWS CDK applications are compiled into AWS CloudFormation templates, ensuring compatibility with existing AWS CloudFormation features and tools.\\nModularity and extensibility: AWS CDK promotes modularity and extensibility by allowing developers to create and share custom constructs and patterns.\\n\\n\\n== Release history ==\\n2018: AWS CDK was announced as a developer preview at the AWS Summit in New York on July 17, 2018, offering an early version of the framework for developers to test and provide feedback.\\n2019: AWS CDK reached general availability (GA) on July 11, 2019, with support for TypeScript and Python as the initial programming languages.\\n2019: Support for Java and C# was added to AWS CDK on November 25, 2019, broadening the range of programming languages available for defining and provisioning cloud infrastructure resources.\\n2021: AWS CDK v2 is released and consolidates the AWS Construct Library into a single package called aws-cdk-lib, streamlining usage and updates, ensuring stable APIs, and offering developer productivity improvements such as CDK Watch, a refreshed API Reference, and a new assertions library for automated unit testing in all CDK-supported languages.\\n\\n\\n== Launching CDK ==\\nTo get started with AWS CDK, developers need to install the AWS CDK Toolkit, which provides a command-line interface (CLI) for creating and managing AWS CDK projects. The CLI can be installed using the Node.js package manager (npm) or any compatible package manager. Once the AWS CDK Toolkit is installed, developers can create a new AWS CDK project, define their infrastructure using constructs, and deploy the resulting AWS CloudFormation stack to their AWS account.\\n\\n\\n== Example code ==\\nThe following is AWS CDK code written in TypeScript that creates an Amazon S3 bucket with public read access. This code imports the necessary AWS CDK libraries to create a new CloudFormation stack with a single Amazon S3 bucket resource. The Bucket constructor is used to create the bucket'), Document(metadata={'title': 'AWS Elastic Beanstalk', 'summary': 'AWS Elastic Beanstalk is an orchestration service offered by Amazon Web Services for deploying applications which orchestrates various AWS services, including EC2, S3, Simple Notification Service (SNS), CloudWatch, autoscaling, and Elastic Load Balancers. Elastic Beanstalk provides an additional layer of abstraction over the bare server and OS; users instead see a pre-built combination of OS and platform, such as \"64bit Amazon Linux 2014.03 v1.1.0 running Ruby 2.0 (Puma)\" or \"64bit Debian jessie v2.0.7 running Python 3.4 (Preconfigured - Docker)\". Deployment requires a number of components to be defined: an  \\'application\\'  as a logical container for the project, a  \\'version\\'  which is a deployable build of the application executable, a  \\'configuration template\\'  that contains configuration information for both the Beanstalk environment and for the product. Finally an  \\'environment\\'  combines a  \\'version\\'  with a  \\'configuration\\'  and deploys them. Executables themselves are uploaded as archive files to S3 beforehand and the  \\'version\\'  is just a pointer to this.', 'source': 'https://en.wikipedia.org/wiki/AWS_Elastic_Beanstalk'}, page_content='AWS Elastic Beanstalk is an orchestration service offered by Amazon Web Services for deploying applications which orchestrates various AWS services, including EC2, S3, Simple Notification Service (SNS), CloudWatch, autoscaling, and Elastic Load Balancers. Elastic Beanstalk provides an additional layer of abstraction over the bare server and OS; users instead see a pre-built combination of OS and platform, such as \"64bit Amazon Linux 2014.03 v1.1.0 running Ruby 2.0 (Puma)\" or \"64bit Debian jessie v2.0.7 running Python 3.4 (Preconfigured - Docker)\". Deployment requires a number of components to be defined: an  \\'application\\'  as a logical container for the project, a  \\'version\\'  which is a deployable build of the application executable, a  \\'configuration template\\'  that contains configuration information for both the Beanstalk environment and for the product. Finally an  \\'environment\\'  combines a  \\'version\\'  with a  \\'configuration\\'  and deploys them. Executables themselves are uploaded as archive files to S3 beforehand and the  \\'version\\'  is just a pointer to this.\\n\\n\\n== Applications and software stacks ==\\nSupported applications and software stacks include:\\n\\nApache Tomcat for Java applications\\nApache HTTP Server for PHP applications\\nApache HTTP Server for Python applications\\nNginx or Apache HTTP Server for Node.js applications\\nPassenger or Puma for Ruby applications\\nMicrosoft IIS 7.5, 8.0, and 8.5 for .NET applications\\nJava SE\\nDocker\\nGo\\n\\n\\n== References ==\\n\\n\\n== External links ==\\nOfficial website'), Document(metadata={'title': 'AWS App Runner', 'summary': 'AWS App Runner is a fully managed container application service offered by Amazon Web Services (AWS). Launched in May 2021, it is designed to simplify the process of building, deploying, and scaling containerized applications for developers. The service enables users to focus on writing code and developing features, without needing to manage the underlying infrastructure. It provides automatic scaling, load balancing, and security features, making it a suitable choice for deploying web applications and APIs. The service also simplifies MLOps.', 'source': 'https://en.wikipedia.org/wiki/AWS_App_Runner'}, page_content='AWS App Runner is a fully managed container application service offered by Amazon Web Services (AWS). Launched in May 2021, it is designed to simplify the process of building, deploying, and scaling containerized applications for developers. The service enables users to focus on writing code and developing features, without needing to manage the underlying infrastructure. It provides automatic scaling, load balancing, and security features, making it a suitable choice for deploying web applications and APIs. The service also simplifies MLOps.\\n\\n\\n== Features ==\\nAWS App Runner offers several features that are designed to simplify the deployment and management of containerized applications, including:\\n\\nFully managed: AWS App Runner takes care of the underlying infrastructure and operational tasks, allowing developers to focus on their applications.\\nAutomatic scaling: AWS App Runner automatically scales applications based on incoming traffic and resource utilization, ensuring optimal performance and cost-efficiency.\\nCI/CD integration: AWS App Runner integrates with popular CI/CD services, streamlining the build, deployment, and release processes.\\nCustom domains and TLS support: AWS App Runner supports custom domains and TLS certificates, providing secure access to applications.\\nMonitoring and logging: AWS App Runner integrates with Amazon CloudWatch, enabling developers to monitor application performance and access logs.\\nHealth checks and automatic recovery: AWS App Runner periodically checks the health of running instances and automatically replaces any unhealthy instances.\\nFlexible pricing: AWS App Runner offers pay-as-you-go pricing, with charges based on compute and memory usage.\\nContinuous deployment from code repositories or container registries\\n\\n\\n== Customers ==\\nAWS App Runner has been used by various companies to streamline the deployment of their web applications and APIs. Some notable customers include Classmethod, Hubble, and Velo by Wix. These companies have leveraged App Runner to achieve faster time-to-market, improved developer productivity, and simplified application development processes.\\n\\n\\n== AWS CDK Support ==\\nThe AWS Cloud Development Kit (AWS CDK) introduced support for AWS App Runner in August 2021, enabling developers to define and deploy App Runner services using the AWS CDK. This streamlines the application development and deployment process by automating the creation of App Runner services, managing them through Infrastructure as Code (IaC), and using familiar programming languages to define their infrastructure. The AWS CDK offers L1 support for AWS App Runner, corresponding to the low-level constructs. Additionally, an experimental L2 construct library, @aws-cdk/aws-apprunner-alpha, is available in preview, offering a more abstracted and developer-friendly approach.\\n\\n\\n== Limitations ==\\nAlthough AWS App Runner can simplify the deployment of containerized applications, certain limitations should be considered when evaluating its suitability for specific use cases. These limitations include limited hardware configuration options, no GPU support, limited regional availability, limited customization options, scaling limitations, limited support for stateful applications, cost considerations, container image size limitations, and the lack of support for multi-container deployments. It currently only support linux containers. Furthermore, App Runner does not offer a \"scale to zero\" option like Google Cloud Run, lacks support for AWS CodeCommit as a code-based service repository, and does not provide a way for App Runner apps to access resources in a VPC.\\n\\n\\n== Comparison with other AWS and cloud services ==\\nAWS App Runner offers deployment and management for containerized applications. It can be compared to other AWS services and similar offerings from other cloud providers, such as AWS Elastic Beanstalk, AWS Copilot, and Google Cloud Run.\\n\\n\\n=== App Runner vs AWS Elastic Beanstalk ===\\nAWS Elastic Beanstalk is an'), Document(metadata={'title': 'Amazon SageMaker', 'summary': 'Amazon SageMaker AI is a cloud-based machine-learning platform that allows the creation, training, and deployment by developers of machine-learning (ML) models on the cloud. It can be used to deploy ML models on embedded systems and edge-devices. The platform was launched in November 2017.', 'source': 'https://en.wikipedia.org/wiki/Amazon_SageMaker'}, page_content='Amazon SageMaker AI is a cloud-based machine-learning platform that allows the creation, training, and deployment by developers of machine-learning (ML) models on the cloud. It can be used to deploy ML models on embedded systems and edge-devices. The platform was launched in November 2017.\\n\\n\\n== Capabilities ==\\nSageMaker enables developers to operate at a number of different levels of abstraction when training and deploying machine learning models. At its highest level of abstraction, SageMaker provides pre-trained ML models that can be deployed as-is. In addition, it offers a number of built-in ML algorithms that developers can train on their own data. \\nThe platform also features managed instances of TensorFlow and Apache MXNet, where developers can create their own ML algorithms from scratch. Regardless of which level of abstraction is used, a developer can connect their SageMaker-enabled ML models to other AWS services, such as the Amazon DynamoDB database for structured data storage, AWS Batch for offline batch processing, or Amazon Kinesis for real-time processing.\\n\\n\\n== Development interfaces ==\\nA number of interfaces are available for developers to interact with SageMaker. First, there is a web API that remotely controls a SageMaker server instance. While the web API is agnostic to the programming language used by the developer, Amazon provides SageMaker API bindings for a number of languages, including Python, JavaScript, Ruby, Java, and Go. In addition, SageMaker provides managed Jupyter Notebook instances for interactively programming SageMaker and other applications.\\n\\n\\n== History and features ==\\n2017-11-29: SageMaker is launched at the AWS re:Invent conference.\\n2018-02-27: Managed TensorFlow and MXNet deep neural network training and inference are now supported within SageMaker.\\n2018-02-28: SageMaker automatically scales model inference to multiple server instances.\\n2018-07-13: Support is added for recurrent neural network training, word2vec training, multi-class linear learner training, and distributed deep neural network training in Chainer with Layer-wise Adaptive Rate Scaling (LARS).\\n2018-07-17: AWS Batch Transform enables high-throughput non-real-time machine learning inference in SageMaker.\\n2018-11-08: Support for training and inference of Object2Vec word embeddings.\\n2018-11-27: SageMaker Ground Truth \"makes it much easier for developers to label their data using human annotators through Mechanical Turk, third-party vendors, or their own employees.\"\\n2018-11-28: SageMaker Reinforcement Learning (RL) \"enables developers and data scientists to quickly and easily develop reinforcement learning models at scale.\"\\n2018-11-28: SageMaker Neo enables deep neural network models to be deployed from SageMaker to edge-devices such as smartphones and smart cameras.\\n2018-11-29: The AWS Marketplace for SageMaker is launched. The AWS Marketplace enables 3rd-party developers to buy and sell machine learning models that can be trained and deployed in SageMaker.\\n2019-01-27: SageMaker Neo is released as open-source software.\\n\\n\\n== Notable Customers ==\\nNASCAR is using SageMaker to train deep neural networks on 70 years of video data.\\nCarsales.com uses SageMaker to train and deploy machine learning models to analyze and approve automotive classified ad listings.\\nAvis Budget Group and Slalom Consulting are using SageMaker to develop \"a practical on-site solution that could address the over and under utilization of cars in real-time using an optimization engine built in Amazon SageMaker.\"\\nVolkswagen Group uses SageMaker to develop and deploy machine learning in its manufacturing plants.\\nPeak and Footasylum use SageMaker in a recommendation engine for footwear.\\n\\n\\n== Awards ==\\nIn 2019, CIOL named SageMaker one of the \"5 Best Machine Learning Platforms For Developers,\" alongside IBM Watson, Microsoft Azure Machine Learning, Apache PredictionIO, and AiONE.\\n\\n\\n== See also ==\\nAmazon Web Services\\nAmazon Lex\\nAmazon Polly\\nAmazon Rekognition\\nAmazon '), Document(metadata={'title': 'AWS (band)', 'summary': 'AWS (pronounced ah-vi-esh) is a Hungarian post-hardcore band formed in early November 2006 by Örs Siklósi (September 4, 1991 – February 5, 2021), Bence Brucker, Dániel Kökényes, Soma Schiszler and Áron Veress. Their music is characterized by diversity, powerful performances, and sudden changes, which utilizes metal, psychedelic rock, alternative and post-rock styles. Up to now, they have released five studio albums, two live albums and fourteen video clips. Their music videos often have juxtapositions of images of violence and celebrities in order to bring light to problems that the world faces, exhibiting what they call being \"anti-celebrity\". They represented Hungary at the Eurovision Song Contest 2018 in Portugal with the song \"Viszlát nyár\".', 'source': 'https://en.wikipedia.org/wiki/AWS_(band)'}, page_content='AWS (pronounced ah-vi-esh) is a Hungarian post-hardcore band formed in early November 2006 by Örs Siklósi (September 4, 1991 – February 5, 2021), Bence Brucker, Dániel Kökényes, Soma Schiszler and Áron Veress. Their music is characterized by diversity, powerful performances, and sudden changes, which utilizes metal, psychedelic rock, alternative and post-rock styles. Up to now, they have released five studio albums, two live albums and fourteen video clips. Their music videos often have juxtapositions of images of violence and celebrities in order to bring light to problems that the world faces, exhibiting what they call being \"anti-celebrity\". They represented Hungary at the Eurovision Song Contest 2018 in Portugal with the song \"Viszlát nyár\".\\n\\n\\n== Career ==\\n\\nThe band played Sziget Festival in 2010 and have toured across Europe, in Austria, England, the Netherlands, Romania, Slovenia, and Spain. They won the MTV Brand award for New Winning Band. They have toured with Blind Myself.\\nAt the beginning of 2017, Soma Schiszler joined the team. On 6 December 2017, it was announced that AWS would compete in A Dal 2018, the Hungarian national selection process for the Eurovision Song Contest 2018. Their song \"Viszlát Nyár\" (Goodbye Summer) won the competition and as a result, represented Hungary in the Eurovision Song Contest 2018. They qualified from the 2nd semifinal, and ended in 21st place in the final with 93 points.\\nDuring their stint at Eurovision Song Contest it was announced that AWS were invited to play at Wacken Open Air in August 2018. In October the same year AWS released their fourth full-length studio record called Fekete Részem which charted at no. 2 at Hungarian Albums Charts a week later.\\nOn 6 February 2021, the band announced on Instagram that lead singer Örs Siklósi had died on 5 February from leukaemia at the age of 29.\\nOn 16 January 2023, the band introduced the new vocalist, Tamás Stefán.\\n\\n\\n== Musical style ==\\nAccording to an interview with the German-language Hungarian newspaper Budapester Zeitung the musicians came in contact with rock and metal music during their childhoods. Bands like Nirvana, Metallica and several Hungarian metal bands were the first ones they listened to. The musicians named Linkin Park, Pantera, System of a Down, and Korn, as well as Hungarian acts Superbutt, Subscribe and Isten Háta Mögött as their personal musical influences.\\nThe band\\'s lyrics on their debut record Fata Morgana were mostly written in English but they decided to write song lyrics in Hungarian for future songs. For Fata Morgana, the band wrote the lyrics in Hungarian first and later translated them into English. The lyrical themes deal with personal experiences as well as societal and economic themes.\\nTheir sound has been described as having catchy melodies, a clear Hungarian character, vocal harmonies and a decent groove. Some songs were described to be mass appealing, modern metal.\\n\\n\\n== Discography ==\\n\\n\\n=== Studio albums ===\\n\\n\\n=== Live albums ===\\n\\n\\n=== Extended plays ===\\n\\n\\n=== Singles ===\\n\\n\\n== Notes ==\\n\\n\\n== References ==\\n\\n\\n== External links ==\\n Media related to AWS (band) at Wikimedia Commons'), Document(metadata={'title': 'Solidarity Electoral Action', 'summary': 'Solidarity Electoral Action (Polish: Akcja Wyborcza Solidarność, AWS) was a coalition of political parties in Poland, active from 1996 to 2001. AWS was the political arm of the Solidarity trade union, whose leader Lech Wałęsa (also an AWS member), was President of Poland from 1990 to 1995, and the successor of the parties emerged from the fragmentation of the Solidarity Citizens\\' Committee.\\nThe coalition was led by Marian Krzaklewski and Jerzy Buzek, who was Prime Minister of Poland from 1997 to 2001. Ideologically, it represented an \"an eclectic mix of socially conservative trade union-oriented corporatism, Christian Democracy, economically interventionist and liberal forms of Catholic nationalism and less overtly Church-inspired strands of liberal-conservatism\"; its program was also described as a combination of \"social conservatism and state interventionism\".\\nLaw and Justice and Civic Platform, the two dominant Polish political parties of today, had their roots in AWS.', 'source': 'https://en.wikipedia.org/wiki/Solidarity_Electoral_Action'}, page_content='Solidarity Electoral Action (Polish: Akcja Wyborcza Solidarność, AWS) was a coalition of political parties in Poland, active from 1996 to 2001. AWS was the political arm of the Solidarity trade union, whose leader Lech Wałęsa (also an AWS member), was President of Poland from 1990 to 1995, and the successor of the parties emerged from the fragmentation of the Solidarity Citizens\\' Committee.\\nThe coalition was led by Marian Krzaklewski and Jerzy Buzek, who was Prime Minister of Poland from 1997 to 2001. Ideologically, it represented an \"an eclectic mix of socially conservative trade union-oriented corporatism, Christian Democracy, economically interventionist and liberal forms of Catholic nationalism and less overtly Church-inspired strands of liberal-conservatism\"; its program was also described as a combination of \"social conservatism and state interventionism\".\\nLaw and Justice and Civic Platform, the two dominant Polish political parties of today, had their roots in AWS.\\n\\n\\n== History ==\\nThe AWS was formed in June 1996 as a coalition of over 30 Christian-democratic, conservative and liberal political parties, mostly from the Solidarity Citizens\\' Committee, the Solidarity trade union\\'s political wing. Among them, there were the Christian National Union, the Party of Christian Democrats, the Centre Agreement, the Conservative People\\'s Party (formed in January 1997), the Peasants\\' Agreement, the Movement for the Republic (until 1997), the Nonpartisan Bloc for Support of Reforms (until 1997) and the Confederation of Independent Poland (until 1998 and again since 2001). AWS\\'s founding leader was Marian Krzaklewski, who was also the leader of the Solidarity trade union, having succeeded to Lech Wałęsa in 1991.\\nIn the 1997 parliamentary election, the AWS obtained 33.8% of the vote, 201 members of the Sejm and 51 of the Senate. After the election, AWS\\' member Jerzy Buzek formed a coalition government, which comprised also the liberal Freedom Union.\\nIn December 1997, a new party, Social Movement (RS), was formed. It was joined by Krzaklewski, Buzek and several other non-party independents recommended by the Solidarity trade union and/or former members of the Solidarity Citizens\\' Committee. Consequently, the Social Movement soon became the largest faction within the coalition. The other factions were those associated with the Christian National Union, the Party of Christian Democrats and the Conservative People\\'s Party. In 1998, the Confederation of Independent Poland and a group that would form the Polish Agreement were excluded from the coalition. From these groups, the League of Polish Families would later be formed. In 1999, the Party of Christian Democrats, the Centre Agreement and the Movement for the Republic merged into the Polish Christian Democratic Agreement.\\nReforms relating to domestic affairs, the entry to NATO in 1999 and the accession process to the European Union led to conflicts within the coalition.\\nIn June 2000, the Freedom Union broke its alliance with the AWS and Buzek continued to govern at the head of a minority government.\\nIn the 2000 presidential election, Krzaklewski was AWS\\' official candidate and won 15.6% of the vote, but a large chunk of the coalition, especially activists from the more liberal Conservative People\\'s Party, had supported the independent candidate Andrzej Olechowski, who won 17.3% of the vote. As a result, Aleksander Kwaśniewski of the post-communist Democratic Left Alliance was elected president; Krzaklewski resigned from his position of AWS leader in December 2000 and was replaced by Buzek in January 2001.\\nAlso in January 2001, AWS became a federation comprising the Solidarity trade union, the Social Movement, the Christian National Union, the Polish Christian Democratic Agreement and the Conservative People\\'s Party. However, in March 2001 the Conservative People\\'s Party withdrew from the AWS and most of it would later join Civic Platform, which had been established in January 2001 by Olec'), Document(metadata={'title': 'AWS-3 auction', 'summary': 'In March 2014, the United States Federal Communications Commission (FCC) voted to start the process of auctioning 65 MHz of AWS-3 spectrum, helping to meet the goals of the National Broadband Plan. This was one of three auctions required for funding the FirstNet broadband network and other services. The PCS H block or AWS-2 auction raised nearly $1.6 billion of the $7 billion needed for FirstNet, with all licenses awarded to Dish Network. The AWS-3 auction, closed January 29, 2015, generated $44.9 billion. This involved 65 MHz of spectrum which would mostly be used by AT&T, Verizon and T-Mobile. The reserve price was $10.6 billion and the total expected was about twice that. AT&T bid $18.2 billion, Verizon $10.4 billion, and Dish Network $13.3 billion but expected to reduce its payments to $10 billion by using subsidiaries. T-Mobile bid $1.8 billion.', 'source': 'https://en.wikipedia.org/wiki/AWS-3_auction'}, page_content='In March 2014, the United States Federal Communications Commission (FCC) voted to start the process of auctioning 65 MHz of AWS-3 spectrum, helping to meet the goals of the National Broadband Plan. This was one of three auctions required for funding the FirstNet broadband network and other services. The PCS H block or AWS-2 auction raised nearly $1.6 billion of the $7 billion needed for FirstNet, with all licenses awarded to Dish Network. The AWS-3 auction, closed January 29, 2015, generated $44.9 billion. This involved 65 MHz of spectrum which would mostly be used by AT&T, Verizon and T-Mobile. The reserve price was $10.6 billion and the total expected was about twice that. AT&T bid $18.2 billion, Verizon $10.4 billion, and Dish Network $13.3 billion but expected to reduce its payments to $10 billion by using subsidiaries. T-Mobile bid $1.8 billion.\\n\\n\\n== References =='), Document(metadata={'title': 'Cloud9 IDE', 'summary': 'Cloud9 IDE is an online IDE (integrated development environment), published as open source from version 2.0, until version 3.0. It supports multiple programming languages, including C, C++, PHP, Ruby, Perl, Python, JavaScript with Node.js, and Go.\\nIt is written almost entirely in JavaScript, and uses Node.js on the back-end. The editor component uses Ace.\\nCloud9 was acquired by Amazon in July 2016 and became a part of Amazon Web Services (AWS).\\nOn July 25, 2024, Amazon announced they had no plans to introduce new features to Cloud9, and new AWS accounts would no longer have access to Cloud9.', 'source': 'https://en.wikipedia.org/wiki/Cloud9_IDE'}, page_content='Cloud9 IDE is an online IDE (integrated development environment), published as open source from version 2.0, until version 3.0. It supports multiple programming languages, including C, C++, PHP, Ruby, Perl, Python, JavaScript with Node.js, and Go.\\nIt is written almost entirely in JavaScript, and uses Node.js on the back-end. The editor component uses Ace.\\nCloud9 was acquired by Amazon in July 2016 and became a part of Amazon Web Services (AWS).\\nOn July 25, 2024, Amazon announced they had no plans to introduce new features to Cloud9, and new AWS accounts would no longer have access to Cloud9.\\n\\n\\n== Features ==\\n\\nSome of the features of an older version included automatic code completion for snippets and identifiers, parenthesis and bracket matching, a debugger, and a gutter where line numbers and errors or warnings would be displayed.\\nCloud9 IDE also offered syntax highlighting for various languages, such as C#, C/C++, Java, JavaScript, Python, and Ruby.\\nParticularly for JavaScript, it offered real-time language analysis, code reformatting, and refactoring facilities.\\nIt was also extensible and customizable, allowing users to change themes, plugins, and key-bindings to make their preferred setup.\\nAs an online IDE, it allowed simultaneous editing from multiple users by offering multiple cursors, and could support the creation of private and public projects. Users were also able to drag-and-drop files into projects and use tabs to manage multiple files. Projects could also be integration with Mercurial and Git repositories, as well as collaboration platforms like GitHub and Bitbucket.\\nOther features:\\n\\nBuilt-in terminal, with npm and basic Unix commands\\nBuilt in Image Editor\\nSupport for the following code repositories:\\nFTP servers\\nSupport for deployment to:\\nHeroku\\nJoyent\\nMicrosoft Azure\\nGoogle App Engine\\nSFTP/FTP\\n\\n\\n== About ==\\nFounded in 2010, and based in San Francisco and Amsterdam, Cloud9 IDE was a privately held company. Cloud9 IDE raised $5.5 million in Series A funding from Accel Partners and product development software company Atlassian Software.\\nOn July 14, 2016, Cloud9 announced that it had been acquired by Amazon.com.\\n\\n\\n== Usage ==\\nCloud9 is the native IDE for the BeagleBone Black single-board computer, which is primarily programmed in an extension of Node.js called Bonescript.\\n\\n\\n== See also ==\\nOnline integrated development environment\\n\\n\\n== References =='), Document(metadata={'title': 'AWS Ocean Energy', 'summary': 'AWS Ocean Energy Ltd (or just AWS) is a Scottish wave energy device developer, based in Dochfour near Inverness, Highland. The company has developed and tested several concepts, primarily the Archimedes Waveswing (AWS) after which the company is named. \\nBetween 2015 and 2022, AWS received three rounds of funding through the Wave Energy Scotland Novel Wave Energy Convertor programme to develop a series of small-scale prototypes, the largest scale device was tested at EMEC in 2022, demonstrating a power output of 16 kW. \\nAn American subsidiary, Waveswing America, came third in the 2016 Wave Energy Prize, run by the United States Department of Energy.', 'source': 'https://en.wikipedia.org/wiki/AWS_Ocean_Energy'}, page_content=\"AWS Ocean Energy Ltd (or just AWS) is a Scottish wave energy device developer, based in Dochfour near Inverness, Highland. The company has developed and tested several concepts, primarily the Archimedes Waveswing (AWS) after which the company is named. \\nBetween 2015 and 2022, AWS received three rounds of funding through the Wave Energy Scotland Novel Wave Energy Convertor programme to develop a series of small-scale prototypes, the largest scale device was tested at EMEC in 2022, demonstrating a power output of 16 kW. \\nAn American subsidiary, Waveswing America, came third in the 2016 Wave Energy Prize, run by the United States Department of Energy. \\n\\n\\n== History ==\\nThe company was founded in May 2004, acquiring the intellectual property of the Archimedes Wave Swing technology that had been developed by Teamwork Technology BV in the Netherlands, and tested at Aguçadoura, Portugal in 2004. These tests demonstrated the direct-drive permanent-magnet linear generator technology.\\nAWS developed a Mark II Waveswing over the following years, including 1:50 scale testing. However, the projected costs were 500–700 £/MWh for the first farms and seen as unlikely to reach commercial viability, therefore development was halted in 2008. AWS instead focused development on a surface floating variant of the Waveswing called the ASW-III. \\nIn September 2014, the original Waveswing concept was revisited, with further innovations identified that could reduce costs and allow down-scaling of the device. AWS then re-focused on the development of the Archimedes Waveswing technology.\\n\\n\\n== AWS-III ==\\nThe AWS-III concept was a multi-cell ring-shaped device. This was similar to the CLAM design invented in 1983 by Norman Bellamy at Lanchester Polytechnic, of which AWS acquired the IP. In 2010, a 1:9 scale prototype of the AWS-III was tested in Loch Ness, echoing the earlier testing of a circular SEA-Clam in Loch Ness in the 1980s. The full-scale AWS-III device was projected to be 60 m diameter, with a rated power of 2.5 MW per unit. \\nContinued development of the AWS-III led to alternative configurations, including a twin-hull Proa design, with the wave absorbers on one side.\\nIn 2011, Alstom acquired a 40% stake in AWS, complementing their investment in tidal and offshore wind. In January 2012, SSE Renewables and Alstom set up a joint-venture to develop the Costa Head wave farm off Orkney, which was proposed to use up to 80 of the AWS-III devices, generating 200 MW. However, due to market uncertainties including utility companies withdrawing from wave energy and uncertainty over reform of the electricity market, Alstom stopped investing in AWS in March 2013.\\nIn 2014, AWS tested a half-scale prototype cell of the AWS-III at Lyness in Orkney. The device used diaphragms manufacture from 'bullet proof vest material' to capture power from the waves and power pressurised air turbines to generate electricity.\\n\\n\\n== Further development of Archimedes Waveswing in WES NWEC programme ==\\nBetween 2015 and 2022, the AWS concept was further developed in the Wave Energy Scotland (WES) Novel Wave Energy Convertor (NWEC) programme, which used pre-commercial procurement to fund up to 100% of the technology development costs. \\nIn November 2015, WES announced that AWS was one of eight companies successful in being awarded £284k funding for Stage 1 concept design of an Advanced Archimedes Waveswing through the NWEC programme. They successfully completed this, and in April 2017 were awarded a further £721k for Stage 2 design optimisation.\\nIn January 2019, AWS along with Mocean Energy were selected to progress to Stage 3, to develop and test half-scale devices at the European Marine Energy Centre in Orkney, sharing £7.7m in funding. The device was tested at the Scapa Flow non-grid-connected test site from April 2022. The device was 4 m in diameter, 7 m high, and weighed around 50 t. It is moored via a single tether to a gravity base anchor.\\n\\n\\n== Wave Energy Prize ==\\nThe United States\"), Document(metadata={'title': 'Shaddad ibn Aws', 'summary': \"Shaddad ibn Aws (Arabic: شداد بن أوس, romanized: Shaddād ibn Aws) was a companion of the Islamic prophet Muhammad and a narrator of hadith. He is known for his narrations of hadiths regarding good deeds, morals and al-Sham. He is also known for his own statements which provide some guidance.\\nHis grave is in the Bab al-Rahma Cemetery, Jerusalem, as is Ubadah ibn al-Samit's.\", 'source': 'https://en.wikipedia.org/wiki/Shaddad_ibn_Aws'}, page_content='Shaddad ibn Aws (Arabic: شداد بن أوس, romanized: Shaddād ibn Aws) was a companion of the Islamic prophet Muhammad and a narrator of hadith. He is known for his narrations of hadiths regarding good deeds, morals and al-Sham. He is also known for his own statements which provide some guidance.\\nHis grave is in the Bab al-Rahma Cemetery, Jerusalem, as is Ubadah ibn al-Samit\\'s.\\n\\n\\n== Narrations ==\\nSome famous hadiths has been reported by him regarding good deeds, for example, Shaddad ibn Aws reported:\\n\\nThe Messenger of Allah  said, “A wise man is the one who calls himself to account (and refrains from doing evil deeds) and does noble deeds to benefit him after death; and the foolish person is the one who subdues himself to his temptations and desires and seeks from Allah the fulfillment of his vain desires”.\\nLikewise, he is also famous for reporting hadith regarding al-Sham, for example, Shaddad ibn Aws reported:\\n\\nThe Messenger of Allah said, \"Al-Sham will be conquered and al-Quds (Jerusalem) will be conquered, and you or your sons will be imams there, if Allah will\". — Tabarani\\n\\n\\n== References =='), Document(metadata={'title': 'AWS 2 Radar', 'summary': 'AWS 2 is a naval and ground radar used for surface warning and air and surface target indication. It was developed in 1957 by the United Kingdom and was primarily designed for installation of destroyer, frigate and corvette but also can be used for installation in the ground.', 'source': 'https://en.wikipedia.org/wiki/AWS_2_Radar'}, page_content='AWS 2 is a naval and ground radar used for surface warning and air and surface target indication. It was developed in 1957 by the United Kingdom and was primarily designed for installation of destroyer, frigate and corvette but also can be used for installation in the ground.\\n\\n\\n== References ==')]\n"
     ]
    }
   ],
   "source": [
    "query1=\"AWS\"\n",
    "docs=WikipediaLoader(query=query1).load()#perform only with the keyword search\n",
    "print(docs)"
   ]
  },
  {
   "cell_type": "code",
   "execution_count": 94,
   "id": "af20f09c",
   "metadata": {},
   "outputs": [
    {
     "name": "stderr",
     "output_type": "stream",
     "text": [
      "d:\\d_data\\AnuragReddy_Naredla_python_data\\python\\data_science_concepts_github\\LLMOPS\\project3\\automated-research-and-report-generation\\.venv\\Lib\\site-packages\\wikipedia\\wikipedia.py:389: GuessedAtParserWarning: No parser was explicitly specified, so I'm using the best available HTML parser for this system (\"html.parser\"). This usually isn't a problem, but if you run this code on another system, or in a different virtual environment, it may use a different parser and behave differently.\n",
      "\n",
      "The code that caused this warning is on line 389 of the file d:\\d_data\\AnuragReddy_Naredla_python_data\\python\\data_science_concepts_github\\LLMOPS\\project3\\automated-research-and-report-generation\\.venv\\Lib\\site-packages\\wikipedia\\wikipedia.py. To get rid of this warning, pass the additional argument 'features=\"html.parser\"' to the BeautifulSoup constructor.\n",
      "\n",
      "  lis = BeautifulSoup(html).find_all('li')\n"
     ]
    },
    {
     "name": "stdout",
     "output_type": "stream",
     "text": [
      "Page: Amazon Web Services\n",
      "Summary: Amazon Web Services, Inc. (AWS) is a subsidiary of Amazon that provides on-demand cloud computing platforms and APIs to individuals, companies, and governments, on a metered, pay-as-you-go basis. Clients will often use this in combination with autoscaling (a process that allows a client to use more computing in times of high application usage, and then scale down to reduce costs when there is less traffic). These cloud computing web services provide various services related to networking, compute, storage, middleware, IoT and other processing capacity, as well as software tools via AWS server farms.  This frees clients from managing, scaling, and patching hardware and operating systems. \n",
      "One of the foundational services is Amazon Elastic Compute Cloud (EC2), which allows users to have at their disposal a virtual cluster of computers, with extremely high availability, which can be interacted with over the internet via REST APIs, a CLI or the AWS console.  AWS's virtual computers emulate most of the attributes of a real computer, including hardware central processing units (CPUs) and graphics processing units (GPUs) for processing; local/RAM memory; hard-disk (HDD)/SSD storage; a choice of operating systems; networking; and pre-loaded application software such as web servers, databases, and customer relationship management (CRM).\n",
      "AWS services are delivered to customers via a network of AWS server farms located throughout the world. Fees are based on a combination of usage (known as a \"Pay-as-you-go\" model), hardware, operating system, software, and networking features chosen by the subscriber requiring various degrees of availability, redundancy, security, and service options. Subscribers can pay for a single virtual AWS computer, a dedicated physical computer, or clusters of either. Amazon provides select portions of security for subscribers (e.g. physical security of the data centers) while other aspects of security are the responsibility of the subscriber (e.g. account management, vulnerability scanning, patching). AWS operates from many global geographical regions, including seven in North America.\n",
      "Amazon markets AWS to subscribers as a way of obtaining large-scale computing capacity more quickly and cheaply than building an actual physical server farm. All services are billed based on usage, but each service measures usage in varying ways. As of 2023 Q1, AWS has 31% market share for cloud infrastructure while the next two competitors Microsoft Azure and Google Cloud have 25%, and 11% respectively, according to Synergy Research Group.\n",
      "\n",
      "\n",
      "\n",
      "Page: AWS Lambda\n",
      "Summary: AWS Lambda is an event-driven, serverless Function as a Service (FaaS) provided by Amazon as a part of Amazon Web Services. It is designed to enable developers to run code without provisioning or managing servers. It executes code in response to events and automatically manages the computing resources required by that code. It was introduced on November 13, 2014.\n"
     ]
    }
   ],
   "source": [
    "from langchain_community.utilities import WikipediaAPIWrapper#perform only with the keyword search\n",
    "wiki=WikipediaAPIWrapper(doc_content_chars_max=4000)\n",
    "docs=wiki.run(query1)\n",
    "print(docs)"
   ]
  },
  {
   "cell_type": "code",
   "execution_count": 38,
   "id": "c32df790",
   "metadata": {},
   "outputs": [],
   "source": [
    "import operator\n",
    "from typing import  Annotated\n",
    "from langgraph.graph import MessagesState\n",
    "\n",
    "class InterViewState(MessagesState):\n",
    "    max_num_turns: int # Number turns of conversation\n",
    "    context: Annotated[list, operator.add] # Source docs\n",
    "    analyst: Analyst # Analyst asking questions\n",
    "    interview: str # Interview transcript\n",
    "    sections: list # Final key we duplicate in outer state for Send() API\n",
    "\n",
    "class SearchQuery(BaseModel):\n",
    "    search_query: str = Field(None, description=\"Search query for retrieval.\")"
   ]
  },
  {
   "cell_type": "code",
   "execution_count": 39,
   "id": "5dade993",
   "metadata": {},
   "outputs": [],
   "source": [
    "question_instructions = \"\"\"You are an analyst tasked with interviewing an expert to learn about a specific topic. \n",
    "\n",
    "Your goal is boil down to interesting and specific insights related to your topic.\n",
    "\n",
    "1. Interesting: Insights that people will find surprising or non-obvious.\n",
    "        \n",
    "2. Specific: Insights that avoid generalities and include specific examples from the expert.\n",
    "\n",
    "Here is your topic of focus and set of goals: {goals}\n",
    "        \n",
    "Begin by introducing yourself using a name that fits your persona, and then ask your question.\n",
    "\n",
    "Continue to ask questions to drill down and refine your understanding of the topic.\n",
    "        \n",
    "When you are satisfied with your understanding, complete the interview with: \"Thank you so much for your help!\"\n",
    "\n",
    "Remember to stay in character throughout your response, reflecting the persona and goals provided to you.\"\"\""
   ]
  },
  {
   "cell_type": "code",
   "execution_count": 40,
   "id": "84c50fb3",
   "metadata": {},
   "outputs": [
    {
     "name": "stdout",
     "output_type": "stream",
     "text": [
      "Name: Ethan Hall\n",
      "Role: Innovation Consultant\n",
      "Affiliation: Deloitte Consulting\n",
      "Description: Explores the innovative applications of Langgraph in various industries, such as healthcare and finance, and their potential to drive digital transformation.\n",
      "\n"
     ]
    }
   ],
   "source": [
    "print(analyst.persona)"
   ]
  },
  {
   "cell_type": "code",
   "execution_count": 41,
   "id": "de2f59c8",
   "metadata": {},
   "outputs": [
    {
     "data": {
      "text/plain": [
       "'You are an analyst tasked with interviewing an expert to learn about a specific topic. \\n\\nYour goal is boil down to interesting and specific insights related to your topic.\\n\\n1. Interesting: Insights that people will find surprising or non-obvious.\\n\\n2. Specific: Insights that avoid generalities and include specific examples from the expert.\\n\\nHere is your topic of focus and set of goals: Name: Ethan Hall\\nRole: Innovation Consultant\\nAffiliation: Deloitte Consulting\\nDescription: Explores the innovative applications of Langgraph in various industries, such as healthcare and finance, and their potential to drive digital transformation.\\n\\n\\nBegin by introducing yourself using a name that fits your persona, and then ask your question.\\n\\nContinue to ask questions to drill down and refine your understanding of the topic.\\n\\nWhen you are satisfied with your understanding, complete the interview with: \"Thank you so much for your help!\"\\n\\nRemember to stay in character throughout your response, reflecting the persona and goals provided to you.'"
      ]
     },
     "execution_count": 41,
     "metadata": {},
     "output_type": "execute_result"
    }
   ],
   "source": [
    "question_instructions.format(goals = analyst.persona)"
   ]
  },
  {
   "cell_type": "markdown",
   "id": "ca194523",
   "metadata": {},
   "source": [
    "**'You are an analyst tasked with interviewing an expert to learn about a specific topic. \\n\\nYour goal is boil down to interesting and specific insights related to your topic.\\n\\n1. Interesting: Insights that people will find surprising or non-obvious.\\n\\n2. Specific: Insights that avoid generalities and include specific examples from the expert.\\n\\nHere is your topic of focus and set of goals: Name: Ethan Taylor\\nRole: Technical Analyst\\nAffiliation: Tech Insights Inc.\\nDescription: Delves into the technical aspects of Langgraph, assessing its performance, security, and integration capabilities, and providing recommendations for implementation.\\n\\n\\nBegin by introducing yourself using a name that fits your persona, and then ask your question.\\n\\nContinue to ask questions to drill down and refine your understanding of the topic.\\n\\nWhen you are satisfied with your understanding, complete the interview with: \"Thank you so much for your help!\"\\n\\nRemember to stay in character throughout your response, reflecting the persona and goals provided to you.'**"
   ]
  },
  {
   "cell_type": "code",
   "execution_count": 42,
   "id": "1826ea16",
   "metadata": {},
   "outputs": [],
   "source": [
    "def generation_question(state:InterViewState):#ask_question\n",
    "    \"\"\"Node to generate the questions\"\"\"\n",
    "    \n",
    "    #get state\n",
    "    analyst = state[\"analyst\"]#capture analyst\n",
    "    messages = state[\"messages\"]#capture messages\n",
    "    \n",
    "    #generate the question\n",
    "    system_message = question_instructions.format(goals = analyst.persona)#capture que instruction\n",
    "    question = llm.invoke([SystemMessage(content=system_message)]+messages)#passing to llm\n",
    "    \n",
    "    #returen the question through state\n",
    "    return {\"messages\":[question]}"
   ]
  },
  {
   "cell_type": "code",
   "execution_count": 43,
   "id": "4875b1eb",
   "metadata": {},
   "outputs": [
    {
     "data": {
      "text/plain": [
       "Analyst(name='Ethan Hall', role='Innovation Consultant', affiliation='Deloitte Consulting', description='Explores the innovative applications of Langgraph in various industries, such as healthcare and finance, and their potential to drive digital transformation.')"
      ]
     },
     "execution_count": 43,
     "metadata": {},
     "output_type": "execute_result"
    }
   ],
   "source": [
    "analyst"
   ]
  },
  {
   "cell_type": "code",
   "execution_count": 44,
   "id": "0de26da8",
   "metadata": {},
   "outputs": [],
   "source": [
    "state = {\"max_num_turns\":2,\"context\":[],\"analyst\":analyst,\"interview\":\"\",\"section\":[],\n",
    "         \"messages\":[HumanMessage(content=\"hi do the proper search according to the experties\")]}"
   ]
  },
  {
   "cell_type": "code",
   "execution_count": 45,
   "id": "7a4bf5fc",
   "metadata": {},
   "outputs": [
    {
     "data": {
      "text/plain": [
       "{'max_num_turns': 2,\n",
       " 'context': [],\n",
       " 'analyst': Analyst(name='Ethan Hall', role='Innovation Consultant', affiliation='Deloitte Consulting', description='Explores the innovative applications of Langgraph in various industries, such as healthcare and finance, and their potential to drive digital transformation.'),\n",
       " 'interview': '',\n",
       " 'section': [],\n",
       " 'messages': [HumanMessage(content='hi do the proper search according to the experties', additional_kwargs={}, response_metadata={})]}"
      ]
     },
     "execution_count": 45,
     "metadata": {},
     "output_type": "execute_result"
    }
   ],
   "source": [
    "state"
   ]
  },
  {
   "cell_type": "code",
   "execution_count": 46,
   "id": "60b66af6",
   "metadata": {},
   "outputs": [
    {
     "name": "stderr",
     "output_type": "stream",
     "text": [
      "HTTP Request: POST https://api.groq.com/openai/v1/chat/completions \"HTTP/1.1 500 Internal Server Error\"\n",
      "Retrying request to /openai/v1/chat/completions in 0.438032 seconds\n",
      "HTTP Request: POST https://api.groq.com/openai/v1/chat/completions \"HTTP/1.1 200 OK\"\n"
     ]
    }
   ],
   "source": [
    "result = generation_question(state)"
   ]
  },
  {
   "cell_type": "code",
   "execution_count": 47,
   "id": "c87a70d1",
   "metadata": {},
   "outputs": [
    {
     "data": {
      "text/plain": [
       "{'messages': [AIMessage(content=\"Hello, my name is Rachel Kim, and I'm an analyst with a focus on emerging technologies. I'm excited to be speaking with Ethan Hall, an Innovation Consultant at Deloitte Consulting, to explore the innovative applications of Langgraph in various industries.\\n\\nEthan, thanks for taking the time to speak with me today. I'd love to dive right in and learn more about your work with Langgraph. Can you share a specific example of how Langgraph is being used in the healthcare industry to drive digital transformation? Perhaps a project or use case that you've worked on recently that you found particularly interesting or surprising?\", additional_kwargs={}, response_metadata={'token_usage': {'completion_tokens': 125, 'prompt_tokens': 240, 'total_tokens': 365, 'completion_time': 0.340588357, 'prompt_time': 0.021972343, 'queue_time': 0.041788697, 'total_time': 0.3625607}, 'model_name': 'llama-3.3-70b-versatile', 'system_fingerprint': 'fp_9e1e8f8435', 'service_tier': 'on_demand', 'finish_reason': 'stop', 'logprobs': None}, id='run--bab05cdb-722c-45c1-92d4-6247625aefaf-0', usage_metadata={'input_tokens': 240, 'output_tokens': 125, 'total_tokens': 365})]}"
      ]
     },
     "execution_count": 47,
     "metadata": {},
     "output_type": "execute_result"
    }
   ],
   "source": [
    "result"
   ]
  },
  {
   "cell_type": "code",
   "execution_count": 48,
   "id": "cf4d39e6",
   "metadata": {},
   "outputs": [
    {
     "name": "stdout",
     "output_type": "stream",
     "text": [
      "Hello, my name is Rachel Kim, and I'm an analyst with a focus on emerging technologies. I'm excited to be speaking with Ethan Hall, an Innovation Consultant at Deloitte Consulting, to explore the innovative applications of Langgraph in various industries.\n",
      "\n",
      "Ethan, thanks for taking the time to speak with me today. I'd love to dive right in and learn more about your work with Langgraph. Can you share a specific example of how Langgraph is being used in the healthcare industry to drive digital transformation? Perhaps a project or use case that you've worked on recently that you found particularly interesting or surprising?\n"
     ]
    }
   ],
   "source": [
    "print(result[\"messages\"][0].content)"
   ]
  },
  {
   "cell_type": "code",
   "execution_count": 49,
   "id": "85ce224c",
   "metadata": {},
   "outputs": [],
   "source": [
    "from langchain_core.messages import get_buffer_string"
   ]
  },
  {
   "cell_type": "code",
   "execution_count": 50,
   "id": "5171bca0",
   "metadata": {},
   "outputs": [],
   "source": [
    "# Search query writing\n",
    "search_instructions = SystemMessage(content=f\"\"\"You will be given a conversation between an analyst and an expert. \n",
    "Your goal is to generate a well-structured query for use in retrieval and / or web-search related to the conversation. \n",
    "First, analyze the full conversation.\n",
    "Pay particular attention to the final question posed by the analyst.\n",
    "Convert this final question into a well-structured web search query\"\"\")"
   ]
  },
  {
   "cell_type": "code",
   "execution_count": 51,
   "id": "b45dcb95",
   "metadata": {},
   "outputs": [],
   "source": [
    "def search_web(state:InterViewState):\n",
    "    \"\"\"\n",
    "    Retrieve data from the web\n",
    "    \"\"\"\n",
    "    structure_llm = llm.with_structured_output(SearchQuery)\n",
    "    search_query = structure_llm.invoke([search_instructions]+state[\"messages\"])\n",
    "    \n",
    "    # Search\n",
    "    search_docs = tavily_search.invoke(search_query.search_query)\n",
    "    # Format\n",
    "    formatted_search_docs = \"\\n\\n---\\n\\n\".join(\n",
    "        [\n",
    "            f'<Document href=\"{doc[\"url\"]}\"/>\\n{doc[\"content\"]}\\n</Document>'\n",
    "            for doc in search_docs\n",
    "        ]\n",
    "    )\n",
    "\n",
    "    return {\"context\": [formatted_search_docs]}"
   ]
  },
  {
   "cell_type": "code",
   "execution_count": 52,
   "id": "dd37d4da",
   "metadata": {},
   "outputs": [
    {
     "name": "stderr",
     "output_type": "stream",
     "text": [
      "HTTP Request: POST https://api.groq.com/openai/v1/chat/completions \"HTTP/1.1 200 OK\"\n"
     ]
    },
    {
     "name": "stdout",
     "output_type": "stream",
     "text": [
      "<Document href=\"https://www.ema.co/additional-blogs/addition-blogs/agentic-ai-transforming-digital-medicine\"/>\n",
      "LangGraph is a framework that facilitates the creation of sophisticated workflows powered by AI. In the Agentic Reasoning Doctor, LangGraph ensures that the system operates autonomously, orchestrating data flow, decisions, and actions. [...] AI-Driven Workflow Management: LangGraph allows for seamless interaction between various processes in the decision-making pipeline. This includes collecting patient data, running analyses, making treatment recommendations, and ensuring compliance with healthcare regulations.\n",
      " Adaptive Learning: LangGraph’s unique ability to adapt to new conditions ensures that the Agentic Reasoning Doctor evolves over time, improving its efficiency and accuracy with each interaction.\n",
      "\n",
      "### 2. Neo4j (UMLS) [...] The Agentic Reasoning Doctor is an innovative clinical decision support system (CDSS) that integrates advanced technologies to assist healthcare professionals in making informed decisions. This system combines LangGraph, Neo4j (UMLS), and Retrieval-Augmented Generation (RAG) to create a composable, explainable, and safe AI-driven assistant.\n",
      "</Document>\n",
      "\n",
      "---\n",
      "\n",
      "<Document href=\"https://levelup.gitconnected.com/langgraph-for-healthcare-a-comprehensive-technical-guide-e6038b06c108\"/>\n",
      "4. Enable Human Oversight: When you need human verification or input during the process.\n",
      "\n",
      "LangGraph shines in applications like:\n",
      "\n",
      " Complex customer service systems\n",
      " Research and analysis tools\n",
      " Educational applications\n",
      " Content generation pipelines\n",
      " Decision support systems\n",
      "\n",
      "## Getting Started\n",
      "\n",
      "To get started with LangGraph, first install it using pip:\n",
      "\n",
      "```\n",
      "pip install langgraph\n",
      "```\n",
      "\n",
      "### Basic project structure: [...] # Example: Question-answering workflowdef qa_workflow():    # Create graph    graph = StateGraph(AgentState)        # Add processing nodes    graph.add_node(\"understand_question\", process_question)    graph.add_node(\"search\", search_for_answer)    graph.add_node(\"synthesize\", create_answer)        # Create workflow    graph.add_edge(\"understand_question\", \"search\")    graph.add_edge(\"search\", \"synthesize\")        # Compile    workflow = graph.compile()        # Execute    result = [...] # Process through message controller    processed_message = message_controller.process_message_flow(        initial_state,         message    )        # Execute agent    response = agent.invoke(processed_message)        # Save checkpoint    state_manager.save_checkpoint(response[\"state\"])        return response\n",
      "</Document>\n",
      "\n",
      "---\n",
      "\n",
      "<Document href=\"https://www.rapidinnovation.io/post/ai-agents-in-langgraph\"/>\n",
      "10.   10. Real-World Applications of AI Agents in LangGraph\n",
      "    1.   10.1. LangGraph in Customer Service: AI-Powered Support Agents\n",
      "    2.   10.2. Financial Services: LangGraph Agents for Trading and Analysis\n",
      "    3.   10.3. Healthcare Applications: Medical Assistants with LangGraph\n",
      "    4.   10.4. Education and E-Learning: Intelligent Tutors using LangGraph [...] 14.   14. Case Studies: Successful Implementations of AI Agents in LangGraph\n",
      "    1.   14.1. E-commerce Giant's Customer Service Transformation with LangGraph\n",
      "    2.   14.2. FinTech Startup's Intelligent Trading Assistant using LangGraph\n",
      "    3.   14.3. Healthcare Provider's Patient Care Enhancement via LangGraph Agents [...] in Healthcare Leverage NLP for smarter healthcare data analysis.AI for Patient Management Streamline patient care with AI-powered management systems.\n",
      "</Document>\n",
      "\n",
      "---\n",
      "\n",
      "<Document href=\"https://blog.agen.cy/p/agency-revolutionizing-ai-development\"/>\n",
      "LangGraph excels at applications requiring complex reasoning, multi-step workflows, and the ability to maintain state across interactions. This makes it ideal for healthcare diagnostics, financial risk assessment, complex customer support, and other sophisticated enterprise applications.\n",
      "\n",
      "#### How does Agency approach LangGraph implementation? [...] \"We've personally built and reviewed hundreds of AI agents,\" notes Agency's leadership team. \"Our experience with LangGraph allows us to prototype and productionize ambitious projects that would be impossible with traditional approaches.\"\n",
      "\n",
      "### Real-World Success Stories: Agency's LangGraph Implementations\n",
      "\n",
      "#### Healthcare: Revolutionizing Clinical Decision Support [...] By leveraging LangGraph's stateful orchestration capabilities, the system integrates with existing healthcare IT infrastructure while providing a level of reasoning and adaptability previously unattainable with traditional AI approaches.\n",
      "\n",
      "#### Customer Support: Transforming Complex Issue Resolution\n",
      "\n",
      "For a global technology company, Agency implemented a LangGraph-based customer support agent that revolutionized their approach to complex technical issues:\n",
      "</Document>\n",
      "\n",
      "---\n",
      "\n",
      "<Document href=\"https://www.ampcome.com/articles/what-is-langgraph-how-it-is-useful-in-building-llm-based-applications\"/>\n",
      "To sum up, LangGraph’s introduction will transform the way LLM applications take decisions and perform tasks. Most importantly, it has significantly enhanced the flexibility and adaptability of agent runtimes, especially for more complex and interactive applications.\n",
      "\n",
      "‍\n",
      "\n",
      "What are some of the enterprise use cases of LangGraph?\n",
      "\n",
      "LangGraph has several potential use cases in various industries, including: [...] Let’s decode everything and understand how it could disrupt the development of sophisticated LLM applications.\n",
      "\n",
      "‍\n",
      "\n",
      "‍\n",
      "\n",
      "What is LangGraph?\n",
      "\n",
      "LangGraph is an AI library built on top of Langchain. It is a decentralized network for language model computation and storage which enables developers to build top-notch and highly customized LLM applications. [...] Retail and eCommerceTravel and HospitalityHealthcare and HospitalsPharma and BiotechLogisticsManufacturing\n",
      "\n",
      "AI Tools\n",
      "\n",
      "AI Marketing ToolsAI Sales Tools\n",
      "\n",
      "Other Services\n",
      "\n",
      "Machine learning DevelopmentMLOps ServicesData ScienceData StrategyProduct and Service DesignCyber securityTechnical Feasibility StudySustainability ConsultingAgile TransformationPoC DevelopmentApplication DevelopmentProduct-Oriented DeliveryEnterprise ApplicationsApplication Re‑engineeringCloud Migration\n",
      "\n",
      "AI Agents\n",
      "</Document>\n"
     ]
    }
   ],
   "source": [
    "state = {\"max_num_turns\":2,\"context\":[],\"analyst\":analyst,\"interview\":\"\",\"section\":[],\n",
    "         #above generated que passing here\n",
    "         'messages': [AIMessage(content=\"Hello, my name is Rachel Kim, and I'm an analyst with a focus on emerging technologies. I'm excited to be speaking with Ethan Hall, an Innovation Consultant at Deloitte Consulting, to explore the innovative applications of Langgraph in various industries. Ethan, thanks for taking the time to speak with me today. I'd love to dive right in and learn more about your work with Langgraph. Can you share a specific example of how Langgraph is being used in the healthcare industry to drive digital transformation? Perhaps a project or use case that you've worked on recently that you found particularly interesting or surprising?\", additional_kwargs={'refusal': None}, response_metadata={'token_usage': {'completion_tokens': 79, 'prompt_tokens': 224, 'total_tokens': 303, 'completion_tokens_details': {'accepted_prediction_tokens': 0, 'audio_tokens': 0, 'reasoning_tokens': 0, 'rejected_prediction_tokens': 0}, 'prompt_tokens_details': {'audio_tokens': 0, 'cached_tokens': 0}}, 'model_name': 'gpt-4o-2024-08-06', 'system_fingerprint': 'fp_cbf1785567', 'id': 'chatcmpl-CPRmMT7ufhFyYLhMtNpeguI9W2y6O', 'service_tier': 'default', 'finish_reason': 'stop', 'logprobs': None}, id='run--827b799b-ccb9-422c-a444-402d7ddc4550-0', usage_metadata={'input_tokens': 224, 'output_tokens': 79, 'total_tokens': 303, 'input_token_details': {'audio': 0, 'cache_read': 0}, 'output_token_details': {'audio': 0, 'reasoning': 0}})]}\n",
    "result = search_web(state)\n",
    "print(result[\"context\"][0])"
   ]
  },
  {
   "cell_type": "code",
   "execution_count": 59,
   "id": "8646abe7",
   "metadata": {},
   "outputs": [],
   "source": [
    "def search_wikipedia(state:InterViewState):\n",
    "    \"\"\"\n",
    "    Retrieve data from wiki\n",
    "    \"\"\"\n",
    "    # Search query\n",
    "    structured_llm = llm.with_structured_output(SearchQuery)\n",
    "    search_query = structured_llm.invoke([search_instructions]+state['messages'])\n",
    "    \n",
    "    print(\"*******************************\")\n",
    "    print(search_query)\n",
    "    \n",
    "    # Search\n",
    "    search_docs = WikipediaLoader(query=search_query.search_query).load()\n",
    "\n",
    "     # Format\n",
    "    formatted_search_docs = \"\\n\\n---\\n\\n\".join(\n",
    "        [\n",
    "            f'<Document source=\"{doc.metadata[\"source\"]}\" page=\"{doc.metadata.get(\"page\", \"\")}\"/>\\n{doc.page_content}\\n</Document>'\n",
    "            for doc in search_docs\n",
    "        ]\n",
    "    )\n",
    "\n",
    "    return {\"context\": [formatted_search_docs]} "
   ]
  },
  {
   "cell_type": "code",
   "execution_count": 61,
   "id": "cd6c55fe",
   "metadata": {},
   "outputs": [
    {
     "name": "stderr",
     "output_type": "stream",
     "text": [
      "HTTP Request: POST https://api.groq.com/openai/v1/chat/completions \"HTTP/1.1 200 OK\"\n"
     ]
    },
    {
     "name": "stdout",
     "output_type": "stream",
     "text": [
      "*******************************\n",
      "search_query='Langgraph applications in healthcare industry digital transformation'\n"
     ]
    },
    {
     "data": {
      "text/plain": [
       "[]"
      ]
     },
     "execution_count": 61,
     "metadata": {},
     "output_type": "execute_result"
    }
   ],
   "source": [
    "state = {\"max_num_turns\":2,\"context\":[],\"analyst\":analyst,\"interview\":\"\",\"section\":[],\n",
    "         #above generated que passing here\n",
    "         'messages': [AIMessage(content=\"Hello, my name is Rachel Kim, and I'm an analyst with a focus on emerging technologies. I'm excited to be speaking with Ethan Hall, an Innovation Consultant at Deloitte Consulting, to explore the innovative applications of Langgraph in various industries. Ethan, thanks for taking the time to speak with me today. I'd love to dive right in and learn more about your work with Langgraph. Can you share a specific example of how Langgraph is being used in the healthcare industry to drive digital transformation? Perhaps a project or use case that you've worked on recently that you found particularly interesting or surprising?\", additional_kwargs={'refusal': None}, response_metadata={'token_usage': {'completion_tokens': 79, 'prompt_tokens': 224, 'total_tokens': 303, 'completion_tokens_details': {'accepted_prediction_tokens': 0, 'audio_tokens': 0, 'reasoning_tokens': 0, 'rejected_prediction_tokens': 0}, 'prompt_tokens_details': {'audio_tokens': 0, 'cached_tokens': 0}}, 'model_name': 'gpt-4o-2024-08-06', 'system_fingerprint': 'fp_cbf1785567', 'id': 'chatcmpl-CPRmMT7ufhFyYLhMtNpeguI9W2y6O', 'service_tier': 'default', 'finish_reason': 'stop', 'logprobs': None}, id='run--827b799b-ccb9-422c-a444-402d7ddc4550-0', usage_metadata={'input_tokens': 224, 'output_tokens': 79, 'total_tokens': 303, 'input_token_details': {'audio': 0, 'cache_read': 0}, 'output_token_details': {'audio': 0, 'reasoning': 0}})]}\n",
    "result = search_wikipedia(state)\n",
    "search_docs = WikipediaLoader(query='Langgraph applications in healthcare industry digital transformation',load_all_available_meta=True).load()\n",
    "search_docs"
   ]
  },
  {
   "cell_type": "code",
   "execution_count": 62,
   "id": "c844652c",
   "metadata": {},
   "outputs": [
    {
     "data": {
      "text/plain": [
       "{'context': ['']}"
      ]
     },
     "execution_count": 62,
     "metadata": {},
     "output_type": "execute_result"
    }
   ],
   "source": [
    "result"
   ]
  },
  {
   "cell_type": "code",
   "execution_count": 63,
   "id": "e93c8b5e",
   "metadata": {},
   "outputs": [],
   "source": [
    "answer_instructions = \"\"\"You are an expert being interviewed by an analyst.\n",
    "\n",
    "Here is analyst area of focus: {goals}. \n",
    "        \n",
    "You goal is to answer a question posed by the interviewer.\n",
    "\n",
    "To answer question, use this context:\n",
    "        \n",
    "{context}\n",
    "\n",
    "When answering questions, follow these guidelines:\n",
    "        \n",
    "1. Use only the information provided in the context. \n",
    "        \n",
    "2. Do not introduce external information or make assumptions beyond what is explicitly stated in the context.\n",
    "\n",
    "3. The context contain sources at the topic of each individual document.\n",
    "\n",
    "4. Include these sources your answer next to any relevant statements. For example, for source # 1 use [1]. \n",
    "\n",
    "5. List your sources in order at the bottom of your answer. [1] Source 1, [2] Source 2, etc\n",
    "        \n",
    "6. If the source is: <Document source=\"assistant/docs/llama3_1.pdf\" page=\"7\"/>' then just list: \n",
    "        \n",
    "[1] assistant/docs/llama3_1.pdf, page 7 \n",
    "        \n",
    "And skip the addition of the brackets as well as the Document source preamble in your citation.\"\"\""
   ]
  },
  {
   "cell_type": "code",
   "execution_count": 64,
   "id": "cf59af04",
   "metadata": {},
   "outputs": [],
   "source": [
    "def generate_answer(state:InterViewState):\n",
    "   \n",
    "    \"\"\" Node to answer a question \"\"\"\n",
    "\n",
    "    # Get state\n",
    "    analyst = state[\"analyst\"]\n",
    "    messages = state[\"messages\"]\n",
    "    context = state[\"context\"]\n",
    "\n",
    "    # Answer question\n",
    "    system_message = answer_instructions.format(goals=analyst.persona, context=context)\n",
    "    answer = llm.invoke([SystemMessage(content=system_message)]+messages)\n",
    "            \n",
    "    # Name the message as coming from the expert\n",
    "    answer.name = \"expert\"\n",
    "    \n",
    "    # Append it to state\n",
    "    return {\"messages\": [answer]}"
   ]
  },
  {
   "cell_type": "code",
   "execution_count": 65,
   "id": "1e6a90ff",
   "metadata": {},
   "outputs": [],
   "source": [
    "def route_messages(state: InterViewState, \n",
    "                   name: str = \"expert\"):\n",
    "\n",
    "    \"\"\" Route between question and answer \"\"\"\n",
    "    \n",
    "    # Get messages\n",
    "    messages = state[\"messages\"]\n",
    "    max_num_turns = state.get('max_num_turns',2)\n",
    "\n",
    "    # Check the number of expert answers \n",
    "    num_responses = len(\n",
    "        [m for m in messages if isinstance(m, AIMessage) and m.name == name]\n",
    "    )\n",
    "\n",
    "    # End if expert has answered more than the max turns\n",
    "    if num_responses >= max_num_turns:\n",
    "        return 'save_interview'\n",
    "\n",
    "    # This router is run after each question - answer pair \n",
    "    # Get the last question asked to check if it signals the end of discussion\n",
    "    last_question = messages[-2]\n",
    "    \n",
    "    if \"Thank you so much for your help\" in last_question.content:\n",
    "        return 'save_interview'\n",
    "    \n",
    "    return \"ask_question\""
   ]
  },
  {
   "cell_type": "code",
   "execution_count": 66,
   "id": "fb788490",
   "metadata": {},
   "outputs": [],
   "source": [
    "def save_interview(state: InterViewState):\n",
    "    \n",
    "    \"\"\" Save interviews \"\"\"\n",
    "\n",
    "    # Get messages\n",
    "    messages = state[\"messages\"]\n",
    "    \n",
    "    # Convert interview to a string\n",
    "    interview = get_buffer_string(messages)\n",
    "    \n",
    "    # Save to interviews key\n",
    "    return {\"interview\": interview}"
   ]
  },
  {
   "cell_type": "code",
   "execution_count": 67,
   "id": "71b92ac7",
   "metadata": {},
   "outputs": [],
   "source": [
    "section_writer_instructions = \"\"\"You are an expert technical writer. \n",
    "            \n",
    "Your task is to create a short, easily digestible section of a report based on a set of source documents.\n",
    "\n",
    "1. Analyze the content of the source documents: \n",
    "- The name of each source document is at the start of the document, with the <Document tag.\n",
    "        \n",
    "2. Create a report structure using markdown formatting:\n",
    "- Use ## for the section title\n",
    "- Use ### for sub-section headers\n",
    "        \n",
    "3. Write the report following this structure:\n",
    "a. Title (## header)\n",
    "b. Summary (### header)\n",
    "c. Sources (### header)\n",
    "\n",
    "4. Make your title engaging based upon the focus area of the analyst: \n",
    "{focus}\n",
    "\n",
    "5. For the summary section:\n",
    "- Set up summary with general background / context related to the focus area of the analyst\n",
    "- Emphasize what is novel, interesting, or surprising about insights gathered from the interview\n",
    "- Create a numbered list of source documents, as you use them\n",
    "- Do not mention the names of interviewers or experts\n",
    "- Aim for approximately 400 words maximum\n",
    "- Use numbered sources in your report (e.g., [1], [2]) based on information from source documents\n",
    "        \n",
    "6. In the Sources section:\n",
    "- Include all sources used in your report\n",
    "- Provide full links to relevant websites or specific document paths\n",
    "- Separate each source by a newline. Use two spaces at the end of each line to create a newline in Markdown.\n",
    "- It will look like:\n",
    "\n",
    "### Sources\n",
    "[1] Link or Document name\n",
    "[2] Link or Document name\n",
    "\n",
    "7. Be sure to combine sources. For example this is not correct:\n",
    "\n",
    "[3] https://ai.meta.com/blog/meta-llama-3-1/\n",
    "[4] https://ai.meta.com/blog/meta-llama-3-1/\n",
    "\n",
    "There should be no redundant sources. It should simply be:\n",
    "\n",
    "[3] https://ai.meta.com/blog/meta-llama-3-1/\n",
    "        \n",
    "8. Final review:\n",
    "- Ensure the report follows the required structure\n",
    "- Include no preamble before the title of the report\n",
    "- Check that all guidelines have been followed\"\"\""
   ]
  },
  {
   "cell_type": "code",
   "execution_count": 68,
   "id": "3166c5a5",
   "metadata": {},
   "outputs": [],
   "source": [
    "def write_section(state: InterViewState):\n",
    "\n",
    "    \"\"\" Node to answer a question \"\"\"\n",
    "\n",
    "    # Get state\n",
    "    interview = state[\"interview\"]\n",
    "    context = state[\"context\"]\n",
    "    analyst = state[\"analyst\"]\n",
    "   \n",
    "    # Write section using either the gathered source docs from interview (context) or the interview itself (interview)\n",
    "    system_message = section_writer_instructions.format(focus=analyst.description)\n",
    "    section = llm.invoke([SystemMessage(content=system_message)]+[HumanMessage(content=f\"Use this source to write your section: {context}\")]) \n",
    "                \n",
    "    # Append it to state\n",
    "    return {\"sections\": [section.content]}"
   ]
  },
  {
   "cell_type": "code",
   "execution_count": 69,
   "id": "d90fc3ee",
   "metadata": {},
   "outputs": [],
   "source": [
    "interview_builder=StateGraph(InterViewState)"
   ]
  },
  {
   "cell_type": "code",
   "execution_count": 70,
   "id": "f0bdc142",
   "metadata": {},
   "outputs": [
    {
     "data": {
      "text/plain": [
       "<langgraph.graph.state.StateGraph at 0x22c19fadb10>"
      ]
     },
     "execution_count": 70,
     "metadata": {},
     "output_type": "execute_result"
    }
   ],
   "source": [
    "\n",
    "interview_builder.add_node(\"ask_question\",generation_question)\n",
    "interview_builder.add_node(\"search_web\",search_web)\n",
    "interview_builder.add_node(\"search_wikipedia\",search_wikipedia)\n",
    "interview_builder.add_node(\"generate_answer\",generate_answer)\n",
    "interview_builder.add_node(\"save_interview\",save_interview)\n",
    "interview_builder.add_node(\"write_section\",write_section)\n",
    "\n",
    "interview_builder.add_edge(START, \"ask_question\")\n",
    "interview_builder.add_edge(\"ask_question\",\"search_web\")\n",
    "interview_builder.add_edge(\"ask_question\",\"search_wikipedia\")\n",
    "interview_builder.add_edge(\"search_web\",\"generate_answer\")\n",
    "interview_builder.add_edge(\"search_wikipedia\",\"generate_answer\")\n",
    "interview_builder.add_conditional_edges(\"generate_answer\",\n",
    "                           route_messages,\n",
    "                           [\"ask_question\",\n",
    "                            \"save_interview\"])\n",
    "interview_builder.add_edge(\"save_interview\",\"write_section\")\n",
    "interview_builder.add_edge(\"write_section\",END)"
   ]
  },
  {
   "cell_type": "code",
   "execution_count": 71,
   "id": "27564f7b",
   "metadata": {},
   "outputs": [],
   "source": [
    "\n",
    "interview_graph = interview_builder.compile(checkpointer=memory).with_config(run_name = \"Conduct Interview\")"
   ]
  },
  {
   "cell_type": "code",
   "execution_count": 72,
   "id": "c6c59dce",
   "metadata": {},
   "outputs": [
    {
     "data": {
      "image/png": "[encoded data removed]",
      "text/plain": [
       "<IPython.core.display.Image object>"
      ]
     },
     "metadata": {},
     "output_type": "display_data"
    }
   ],
   "source": [
    "display(Image(interview_graph.get_graph().draw_mermaid_png()))"
   ]
  },
  {
   "cell_type": "code",
   "execution_count": 73,
   "id": "c4e5c5c4",
   "metadata": {},
   "outputs": [
    {
     "data": {
      "text/plain": [
       "Analyst(name='Ethan Hall', role='Innovation Consultant', affiliation='Deloitte Consulting', description='Explores the innovative applications of Langgraph in various industries, such as healthcare and finance, and their potential to drive digital transformation.')"
      ]
     },
     "execution_count": 73,
     "metadata": {},
     "output_type": "execute_result"
    }
   ],
   "source": [
    "analyst"
   ]
  },
  {
   "cell_type": "code",
   "execution_count": 74,
   "id": "d9e361a2",
   "metadata": {},
   "outputs": [
    {
     "data": {
      "text/plain": [
       "'Name: Ethan Hall\\nRole: Innovation Consultant\\nAffiliation: Deloitte Consulting\\nDescription: Explores the innovative applications of Langgraph in various industries, such as healthcare and finance, and their potential to drive digital transformation.\\n'"
      ]
     },
     "execution_count": 74,
     "metadata": {},
     "output_type": "execute_result"
    }
   ],
   "source": [
    "analyst.persona"
   ]
  },
  {
   "cell_type": "code",
   "execution_count": 75,
   "id": "49fb15a2",
   "metadata": {},
   "outputs": [],
   "source": [
    "thread = {\"configurable\": {\"thread_id\": \"1\"}}"
   ]
  },
  {
   "cell_type": "code",
   "execution_count": 76,
   "id": "bf5c6cee",
   "metadata": {},
   "outputs": [],
   "source": [
    "from IPython.display import Markdown"
   ]
  },
  {
   "cell_type": "code",
   "execution_count": 77,
   "id": "9aa972b8",
   "metadata": {},
   "outputs": [],
   "source": [
    "messages = [HumanMessage(\"So you said you were writing an article on Langchain?\")]"
   ]
  },
  {
   "cell_type": "code",
   "execution_count": 78,
   "id": "5cfc43f8",
   "metadata": {},
   "outputs": [
    {
     "name": "stderr",
     "output_type": "stream",
     "text": [
      "HTTP Request: POST https://api.groq.com/openai/v1/chat/completions \"HTTP/1.1 200 OK\"\n",
      "HTTP Request: POST https://api.groq.com/openai/v1/chat/completions \"HTTP/1.1 200 OK\"\n",
      "HTTP Request: POST https://api.groq.com/openai/v1/chat/completions \"HTTP/1.1 200 OK\"\n"
     ]
    },
    {
     "name": "stdout",
     "output_type": "stream",
     "text": [
      "*******************************\n",
      "search_query='Langchain applications in healthcare and finance'\n"
     ]
    },
    {
     "name": "stderr",
     "output_type": "stream",
     "text": [
      "HTTP Request: POST https://api.groq.com/openai/v1/chat/completions \"HTTP/1.1 200 OK\"\n",
      "HTTP Request: POST https://api.groq.com/openai/v1/chat/completions \"HTTP/1.1 200 OK\"\n",
      "HTTP Request: POST https://api.groq.com/openai/v1/chat/completions \"HTTP/1.1 200 OK\"\n"
     ]
    },
    {
     "name": "stdout",
     "output_type": "stream",
     "text": [
      "*******************************"
     ]
    },
    {
     "name": "stderr",
     "output_type": "stream",
     "text": [
      "HTTP Request: POST https://api.groq.com/openai/v1/chat/completions \"HTTP/1.1 200 OK\"\n"
     ]
    },
    {
     "name": "stdout",
     "output_type": "stream",
     "text": [
      "\n",
      "search_query='Langchain applications in healthcare industry examples'\n"
     ]
    },
    {
     "name": "stderr",
     "output_type": "stream",
     "text": [
      "HTTP Request: POST https://api.groq.com/openai/v1/chat/completions \"HTTP/1.1 200 OK\"\n",
      "HTTP Request: POST https://api.groq.com/openai/v1/chat/completions \"HTTP/1.1 200 OK\"\n"
     ]
    }
   ],
   "source": [
    "interview = interview_graph.invoke({\"analyst\": analyst, \"messages\": messages, \"max_num_turns\": 2}, thread)"
   ]
  },
  {
   "cell_type": "code",
   "execution_count": 79,
   "id": "2765c2d2",
   "metadata": {},
   "outputs": [
    {
     "data": {
      "text/markdown": [
       "## Exploring the Potential of LangChain in Healthcare and Finance\n",
       "### Summary\n",
       "The integration of LangChain in healthcare and finance has the potential to drive digital transformation by automating complex workflows, enhancing data analysis, and improving user interactions with domain-specific tools [1]. By leveraging large language models (LLMs) and retrieval-augmented generation, LangChain enables developers to build applications that process specialized information while maintaining accuracy and compliance [2]. In healthcare, LangChain can streamline processes such as analyzing electronic health records (EHRs) and patient triage, reducing manual workload while ensuring consistency [3]. In finance, LangChain can automate compliance checks, fraud detection, and customer service, allowing for more efficient and personalized experiences [4]. The following sources provide insights into the applications of LangChain in these industries:\n",
       "1. https://milvus.io/ai-quick-reference/how-can-langchain-be-used-in-healthcare-or-finance-applications\n",
       "2. https://zilliz.com/ai-faq/how-can-langchain-be-used-in-healthcare-or-finance-applications\n",
       "3. https://www.designveloper.com/blog/langchain-use-cases/\n",
       "4. https://www.invene.com/blog/langchain-turning-llm-predictions-into-structured-execution-for-healthcare\n",
       "5. https://medium.com/@ThinkingLoop/langchain-in-healthcare-hipaa-nightmares-nobody-mentions-dc1c44dc2edf\n",
       "6. https://www.swiftorial.com/tutorials/artificial_intelligence/langchain/case_studies/langchain_in_finance\n",
       "7. https://www.linkedin.com/pulse/exploring-potential-langchain-finance-industry-syed-ali-faizan-qihye\n",
       "\n",
       "### Sources\n",
       "[1] https://milvus.io/ai-quick-reference/how-can-langchain-be-used-in-healthcare-or-finance-applications  \n",
       "[2] https://zilliz.com/ai-faq/how-can-langchain-be-used-in-healthcare-or-finance-applications  \n",
       "[3] https://www.designveloper.com/blog/langchain-use-cases/  \n",
       "[4] https://www.invene.com/blog/langchain-turning-llm-predictions-into-structured-execution-for-healthcare  \n",
       "[5] https://medium.com/@ThinkingLoop/langchain-in-healthcare-hipaa-nightmares-nobody-mentions-dc1c44dc2edf  \n",
       "[6] https://www.swiftorial.com/tutorials/artificial_intelligence/langchain/case_studies/langchain_in_finance  \n",
       "[7] https://www.linkedin.com/pulse/exploring-potential-langchain-finance-industry-syed-ali-faizan-qihye"
      ],
      "text/plain": [
       "<IPython.core.display.Markdown object>"
      ]
     },
     "execution_count": 79,
     "metadata": {},
     "output_type": "execute_result"
    }
   ],
   "source": [
    "Markdown(interview['sections'][0])"
   ]
  },
  {
   "cell_type": "markdown",
   "id": "ff716a8c",
   "metadata": {},
   "source": [
    "**workflow3**"
   ]
  },
  {
   "cell_type": "code",
   "execution_count": 96,
   "id": "a5464492",
   "metadata": {},
   "outputs": [],
   "source": [
    "from langgraph.types import Send"
   ]
  },
  {
   "cell_type": "code",
   "execution_count": 97,
   "id": "9bb6a223",
   "metadata": {},
   "outputs": [],
   "source": [
    "class ResearchGraphState(TypedDict):\n",
    "    topic: str # Research topic\n",
    "    max_analysts: int # Number of analysts\n",
    "    human_analyst_feedback: str # Human feedback\n",
    "    analysts: List[Analyst] # Analyst asking questions\n",
    "    sections: Annotated[list, operator.add] # Send() API key\n",
    "    introduction: str # Introduction for the final report\n",
    "    content: str # Content for the final report\n",
    "    conclusion: str # Conclusion for the final report\n",
    "    final_report: str # Final report\n"
   ]
  },
  {
   "cell_type": "code",
   "execution_count": 98,
   "id": "fb1fd941",
   "metadata": {},
   "outputs": [],
   "source": [
    "def initiate_all_interviews(state:ResearchGraphState):\n",
    "    \"\"\" This is the \"map\" step where we run each interview sub-graph using Send API \"\"\" \n",
    "    \n",
    "    #check if human feedback\n",
    "    human_analyst_feedback=state.get('human_analyst_feedback')\n",
    "    if human_analyst_feedback:\n",
    "        # Return to create_analysts\n",
    "        return \"create_analysts\"\n",
    "    \n",
    "    # Otherwise kick off interviews in parallel via Send() API\n",
    "    else:\n",
    "        topic = state[\"topic\"]\n",
    "        return [Send(\"conduct_interview\", {\"analyst\": analyst,\n",
    "                                        \"messages\": [HumanMessage(\n",
    "                                            content=f\"So you said you were writing an article on {topic}?\"\n",
    "                                        )\n",
    "                                                ]}) for analyst in state[\"analysts\"]]"
   ]
  },
  {
   "cell_type": "code",
   "execution_count": 105,
   "id": "07f41a61",
   "metadata": {},
   "outputs": [],
   "source": [
    "report_writer_instructions = \"\"\"You are a technical writer creating a report on this overall topic: \n",
    "\n",
    "{topic}\n",
    "    \n",
    "You have a team of analysts. Each analyst has done two things: \n",
    "\n",
    "1. They conducted an interview with an expert on a specific sub-topic.\n",
    "2. They write up their finding into a memo.\n",
    "\n",
    "Your task: \n",
    "\n",
    "1. You will be given a collection of memos from your analysts.\n",
    "2. Think carefully about the insights from each memo.\n",
    "3. Consolidate these into a crisp overall summary that ties together the central ideas from all of the memos. \n",
    "4. Summarize the central points in each memo into a cohesive single narrative.\n",
    "\n",
    "To format your report:\n",
    " \n",
    "1. Use markdown formatting. \n",
    "2. Include no pre-amble for the report.\n",
    "3. Use no sub-heading. \n",
    "4. Start your report with a single title header: ## Insights\n",
    "5. Do not mention any analyst names in your report.\n",
    "6. Preserve any citations in the memos, which will be annotated in brackets, for example [1] or [2].\n",
    "7. Create a final, consolidated list of sources and add to a Sources section with the `## Sources` header.\n",
    "8. List your sources in order and do not repeat.\n",
    "\n",
    "[1] Source 1\n",
    "[2] Source 2\n",
    "\n",
    "Here are the memos from your analysts to build your report from: \n",
    "\n",
    "{context}\"\"\""
   ]
  },
  {
   "cell_type": "code",
   "execution_count": 106,
   "id": "320570f8",
   "metadata": {},
   "outputs": [],
   "source": [
    "def write_report(state: ResearchGraphState):\n",
    "    # Full set of sections\n",
    "    sections = state[\"sections\"]\n",
    "    topic = state[\"topic\"]\n",
    "\n",
    "    # Concat all sections together\n",
    "    formatted_str_sections = \"\\n\\n\".join([f\"{section}\" for section in sections])\n",
    "    \n",
    "    # Summarize the sections into a final report\n",
    "    system_message = report_writer_instructions.format(topic=topic, context=formatted_str_sections)    \n",
    "    report = llm.invoke([SystemMessage(content=system_message)]+[HumanMessage(content=f\"Write a report based upon these memos.\")]) \n",
    "    return {\"content\": report.content}"
   ]
  },
  {
   "cell_type": "code",
   "execution_count": 107,
   "id": "a5af41c6",
   "metadata": {},
   "outputs": [],
   "source": [
    "intro_conclusion_instructions = \"\"\"You are a technical writer finishing a report on {topic}\n",
    "\n",
    "You will be given all of the sections of the report.\n",
    "\n",
    "You job is to write a crisp and compelling introduction or conclusion section.\n",
    "\n",
    "The user will instruct you whether to write the introduction or conclusion.\n",
    "\n",
    "Include no pre-amble for either section.\n",
    "\n",
    "Target around 100 words, crisply previewing (for introduction) or recapping (for conclusion) all of the sections of the report.\n",
    "\n",
    "Use markdown formatting. \n",
    "\n",
    "For your introduction, create a compelling title and use the # header for the title.\n",
    "\n",
    "For your introduction, use ## Introduction as the section header. \n",
    "\n",
    "For your conclusion, use ## Conclusion as the section header.\n",
    "\n",
    "Here are the sections to reflect on for writing: {formatted_str_sections}\"\"\""
   ]
  },
  {
   "cell_type": "code",
   "execution_count": 108,
   "id": "4d5de486",
   "metadata": {},
   "outputs": [],
   "source": [
    "def write_introduction(state: ResearchGraphState):\n",
    "    # Full set of sections\n",
    "    sections = state[\"sections\"]\n",
    "    topic = state[\"topic\"]\n",
    "\n",
    "    # Concat all sections together\n",
    "    formatted_str_sections = \"\\n\\n\".join([f\"{section}\" for section in sections])\n",
    "    \n",
    "    # Summarize the sections into a final report\n",
    "    \n",
    "    instructions = intro_conclusion_instructions.format(topic=topic, formatted_str_sections=formatted_str_sections)    \n",
    "    intro = llm.invoke([instructions]+[HumanMessage(content=f\"Write the report introduction\")]) \n",
    "    return {\"introduction\": intro.content}"
   ]
  },
  {
   "cell_type": "code",
   "execution_count": 109,
   "id": "99b7bc40",
   "metadata": {},
   "outputs": [],
   "source": [
    "def write_conclusion(state: ResearchGraphState):\n",
    "    # Full set of sections\n",
    "    sections = state[\"sections\"]\n",
    "    topic = state[\"topic\"]\n",
    "\n",
    "    # Concat all sections together\n",
    "    formatted_str_sections = \"\\n\\n\".join([f\"{section}\" for section in sections])\n",
    "    \n",
    "    # Summarize the sections into a final report\n",
    "    \n",
    "    instructions = intro_conclusion_instructions.format(topic=topic, formatted_str_sections=formatted_str_sections)    \n",
    "    conclusion = llm.invoke([instructions]+[HumanMessage(content=f\"Write the report conclusion\")]) \n",
    "    return {\"conclusion\": conclusion.content}"
   ]
  },
  {
   "cell_type": "code",
   "execution_count": 101,
   "id": "d2869345",
   "metadata": {},
   "outputs": [],
   "source": [
    "def write_conclusion(stae:ResearchGraphState):\n",
    "    # Full set of sections\n",
    "    sections = state[\"sections\"]\n",
    "    topic = state[\"topic\"]\n",
    "\n",
    "    # Concat all sections together\n",
    "    formatted_str_sections = \"\\n\\n\".join([f\"{section}\" for section in sections])\n",
    "    \n",
    "    # Summarize the sections into a final report\n",
    "    \n",
    "    instructions = intro_conclusion_instructions.format(topic=topic, formatted_str_sections=formatted_str_sections)    \n",
    "    conclusion = llm.invoke([instructions]+[HumanMessage(content=f\"Write the report conclusion\")]) \n",
    "    return {\"conclusion\": conclusion.content}"
   ]
  },
  {
   "cell_type": "code",
   "execution_count": 110,
   "id": "b6de4e20",
   "metadata": {},
   "outputs": [],
   "source": [
    "def finalize_report(state: ResearchGraphState):\n",
    "    \"\"\" The is the \"reduce\" step where we gather all the sections, combine them, and reflect on them to write the intro/conclusion \"\"\"\n",
    "    # Save full final report\n",
    "    content = state[\"content\"]\n",
    "    if content.startswith(\"## Insights\"):\n",
    "        content = content.strip(\"## Insights\")\n",
    "    if \"## Sources\" in content:\n",
    "        try:\n",
    "            content, sources = content.split(\"\\n## Sources\\n\")\n",
    "        except:\n",
    "            sources = None\n",
    "    else:\n",
    "        sources = None\n",
    "\n",
    "    final_report = state[\"introduction\"] + \"\\n\\n---\\n\\n\" + content + \"\\n\\n---\\n\\n\" + state[\"conclusion\"]\n",
    "    if sources is not None:\n",
    "        final_report += \"\\n\\n## Sources\\n\" + sources\n",
    "    return {\"final_report\": final_report}"
   ]
  },
  {
   "cell_type": "code",
   "execution_count": null,
   "id": "e453054d",
   "metadata": {},
   "outputs": [
    {
     "data": {
      "text/plain": [
       "<langgraph.graph.state.StateGraph at 0x22c1a6d3f90>"
      ]
     },
     "execution_count": 111,
     "metadata": {},
     "output_type": "execute_result"
    }
   ],
   "source": [
    "# Add nodes and edges \n",
    "builder = StateGraph(ResearchGraphState)\n",
    "builder.add_node(\"create_analysts\", create_analyst)\n",
    "builder.add_node(\"human_feedback\", human_feedback)\n",
    "builder.add_node(\"conduct_interview\", interview_builder.compile())\n",
    "\n",
    "builder.add_node(\"write_report\",write_report)\n",
    "builder.add_node(\"write_introduction\",write_introduction)\n",
    "builder.add_node(\"write_conclusion\",write_conclusion)\n",
    "builder.add_node(\"finalize_report\",finalize_report)\n",
    "\n",
    "# Logic\n",
    "builder.add_edge(START, \"create_analysts\")\n",
    "builder.add_edge(\"create_analysts\", \"human_feedback\")\n",
    "builder.add_conditional_edges(\"human_feedback\", initiate_all_interviews, [\"create_analysts\", \"conduct_interview\"])\n",
    "builder.add_edge(\"conduct_interview\", \"write_report\")\n",
    "builder.add_edge(\"conduct_interview\", \"write_introduction\")\n",
    "builder.add_edge(\"conduct_interview\", \"write_conclusion\")\n",
    "builder.add_edge([\"write_conclusion\", \"write_report\", \"write_introduction\"], \"finalize_report\")\n",
    "builder.add_edge(\"finalize_report\", END)"
   ]
  },
  {
   "cell_type": "code",
   "execution_count": 112,
   "id": "c2a5909e",
   "metadata": {},
   "outputs": [
    {
     "data": {
      "image/png": "[encoded data removed]",
      "text/plain": [
       "<IPython.core.display.Image object>"
      ]
     },
     "metadata": {},
     "output_type": "display_data"
    }
   ],
   "source": [
    "memory = MemorySaver()\n",
    "graph = builder.compile(interrupt_before=['human_feedback'], checkpointer=memory)\n",
    "display(Image(graph.get_graph(xray=1).draw_mermaid_png()))"
   ]
  },
  {
   "cell_type": "code",
   "execution_count": 113,
   "id": "101f6851",
   "metadata": {},
   "outputs": [],
   "source": [
    "max_analysts=3\n",
    "topic=\"How can generative AI accelerate drug discovery\"\n",
    "thread={\"configurable\":{\"thread_id\":\"1\"}}\n"
   ]
  },
  {
   "cell_type": "code",
   "execution_count": 114,
   "id": "611c1e65",
   "metadata": {},
   "outputs": [
    {
     "name": "stderr",
     "output_type": "stream",
     "text": [
      "HTTP Request: POST https://api.groq.com/openai/v1/chat/completions \"HTTP/1.1 200 OK\"\n"
     ]
    },
    {
     "name": "stdout",
     "output_type": "stream",
     "text": [
      "Name: Dr. Rachel Kim\n",
      "Affiliation: Stanford University\n",
      "Role: AI Researcher\n",
      "Description: Focuses on the application of generative AI in drug discovery, concerned with the potential of AI to accelerate the discovery of new medicines, and motivated by the desire to improve human health.\n",
      "--------------------------------------------------\n",
      "Name: Dr. Liam Chen\n",
      "Affiliation: Pfizer\n",
      "Role: Pharmaceutical Industry Expert\n",
      "Description: Examines the potential of generative AI to streamline the drug development process, worried about the regulatory challenges and intellectual property issues, and driven by the need to reduce costs and increase efficiency.\n",
      "--------------------------------------------------\n",
      "Name: Dr. Maya Patel\n",
      "Affiliation: Harvard University\n",
      "Role: Ethics Specialist\n",
      "Description: Investigates the ethical implications of using generative AI in drug discovery, concerned with the potential biases in AI decision-making, and motivated by the need to ensure that AI is used responsibly and for the greater good.\n",
      "--------------------------------------------------\n"
     ]
    }
   ],
   "source": [
    "# Run the graph until the first interruption\n",
    "for event in graph.stream({\"topic\":topic,\"max_analysts\":max_analysts}, thread, stream_mode=\"values\"):\n",
    "    analysts = event.get('analysts', '')\n",
    "    if analysts:\n",
    "        for analyst in analysts:\n",
    "            print(f\"Name: {analyst.name}\")\n",
    "            print(f\"Affiliation: {analyst.affiliation}\")\n",
    "            print(f\"Role: {analyst.role}\")\n",
    "            print(f\"Description: {analyst.description}\")\n",
    "            print(\"-\" * 50) "
   ]
  },
  {
   "cell_type": "code",
   "execution_count": 115,
   "id": "d8e3a7d3",
   "metadata": {},
   "outputs": [
    {
     "data": {
      "text/plain": [
       "{'configurable': {'thread_id': '1',\n",
       "  'checkpoint_ns': '',\n",
       "  'checkpoint_id': '1f0a75b5-d706-6ba4-8002-c69ef4e4d456'}}"
      ]
     },
     "execution_count": 115,
     "metadata": {},
     "output_type": "execute_result"
    }
   ],
   "source": [
    "graph.update_state(thread, {\"human_analyst_feedback\":\"along with the genetive ai in future tell me the future of indian team\"}, as_node=\"human_feedback\")"
   ]
  },
  {
   "cell_type": "code",
   "execution_count": 116,
   "id": "08b9fd62",
   "metadata": {},
   "outputs": [
    {
     "name": "stdout",
     "output_type": "stream",
     "text": [
      "Name: Dr. Rachel Kim\n",
      "Affiliation: Stanford University\n",
      "Role: AI Researcher\n",
      "Description: Focuses on the application of generative AI in drug discovery, concerned with the potential of AI to accelerate the discovery of new medicines, and motivated by the desire to improve human health.\n",
      "--------------------------------------------------\n",
      "Name: Dr. Liam Chen\n",
      "Affiliation: Pfizer\n",
      "Role: Pharmaceutical Industry Expert\n",
      "Description: Examines the potential of generative AI to streamline the drug development process, worried about the regulatory challenges and intellectual property issues, and driven by the need to reduce costs and increase efficiency.\n",
      "--------------------------------------------------\n",
      "Name: Dr. Maya Patel\n",
      "Affiliation: Harvard University\n",
      "Role: Ethics Specialist\n",
      "Description: Investigates the ethical implications of using generative AI in drug discovery, concerned with the potential biases in AI decision-making, and motivated by the need to ensure that AI is used responsibly and for the greater good.\n",
      "--------------------------------------------------\n"
     ]
    },
    {
     "name": "stderr",
     "output_type": "stream",
     "text": [
      "HTTP Request: POST https://api.groq.com/openai/v1/chat/completions \"HTTP/1.1 200 OK\"\n"
     ]
    },
    {
     "name": "stdout",
     "output_type": "stream",
     "text": [
      "Name: Dr. Rachel Kim\n",
      "Affiliation: Stanford University\n",
      "Role: AI Researcher\n",
      "Description: Focuses on the application of generative AI in accelerating drug discovery, with a emphasis on molecular generation and protein-ligand binding affinity prediction.\n",
      "--------------------------------------------------\n",
      "Name: Dr. Rajesh Sharma\n",
      "Affiliation: Indian Pharmaceutical Association\n",
      "Role: Pharmaceutical Industry Expert\n",
      "Description: Examines the potential impact of generative AI on the Indian pharmaceutical industry, including its potential to improve drug discovery workflows and reduce costs.\n",
      "--------------------------------------------------\n",
      "Name: Dr. Liam Chen\n",
      "Affiliation: National Institutes of Health\n",
      "Role: Computational Biologist\n",
      "Description: Investigates the use of generative AI in integrating multi-omics data for drug target identification and validation, with a focus on precision medicine and personalized healthcare.\n",
      "--------------------------------------------------\n"
     ]
    }
   ],
   "source": [
    "# Run the graph until the first interruption\n",
    "for event in graph.stream({\"topic\":topic,\"max_analysts\":max_analysts}, thread, stream_mode=\"values\"):\n",
    "    analysts = event.get('analysts', '')\n",
    "    if analysts:\n",
    "        for analyst in analysts:\n",
    "            print(f\"Name: {analyst.name}\")\n",
    "            print(f\"Affiliation: {analyst.affiliation}\")\n",
    "            print(f\"Role: {analyst.role}\")\n",
    "            print(f\"Description: {analyst.description}\")\n",
    "            print(\"-\" * 50) "
   ]
  },
  {
   "cell_type": "code",
   "execution_count": 117,
   "id": "0dffb8af",
   "metadata": {},
   "outputs": [
    {
     "data": {
      "text/plain": [
       "{'configurable': {'thread_id': '1',\n",
       "  'checkpoint_ns': '',\n",
       "  'checkpoint_id': '1f0a75b6-60db-6991-8006-6cd04608ae9d'}}"
      ]
     },
     "execution_count": 117,
     "metadata": {},
     "output_type": "execute_result"
    }
   ],
   "source": [
    "graph.update_state(thread, {\"human_analyst_feedback\":\"\"}, as_node=\"human_feedback\")"
   ]
  },
  {
   "cell_type": "code",
   "execution_count": 118,
   "id": "cd3b0f3a",
   "metadata": {},
   "outputs": [
    {
     "data": {
      "text/plain": [
       "('conduct_interview', 'conduct_interview', 'conduct_interview')"
      ]
     },
     "execution_count": 118,
     "metadata": {},
     "output_type": "execute_result"
    }
   ],
   "source": [
    "graph.get_state(thread).next"
   ]
  },
  {
   "cell_type": "code",
   "execution_count": 119,
   "id": "81b2664c",
   "metadata": {},
   "outputs": [
    {
     "name": "stderr",
     "output_type": "stream",
     "text": [
      "HTTP Request: POST https://api.groq.com/openai/v1/chat/completions \"HTTP/1.1 200 OK\"\n",
      "HTTP Request: POST https://api.groq.com/openai/v1/chat/completions \"HTTP/1.1 200 OK\"\n",
      "HTTP Request: POST https://api.groq.com/openai/v1/chat/completions \"HTTP/1.1 200 OK\"\n",
      "HTTP Request: POST https://api.groq.com/openai/v1/chat/completions \"HTTP/1.1 200 OK\"\n",
      "HTTP Request: POST https://api.groq.com/openai/v1/chat/completions \"HTTP/1.1 200 OK\"\n"
     ]
    },
    {
     "name": "stdout",
     "output_type": "stream",
     "text": [
      "*******************************\n",
      "search_query='generative AI drug discovery cost savings Indian pharmaceutical industry'\n"
     ]
    },
    {
     "name": "stderr",
     "output_type": "stream",
     "text": [
      "HTTP Request: POST https://api.groq.com/openai/v1/chat/completions \"HTTP/1.1 200 OK\"\n",
      "HTTP Request: POST https://api.groq.com/openai/v1/chat/completions \"HTTP/1.1 200 OK\"\n"
     ]
    },
    {
     "name": "stdout",
     "output_type": "stream",
     "text": [
      "**************************************************************\n",
      "\n",
      "search_query='generative AI in precision medicine and personalized healthcare for drug discovery'search_query='generative AI accelerate drug discovery molecular generation protein-ligand binding affinity prediction'\n",
      "\n"
     ]
    },
    {
     "name": "stderr",
     "output_type": "stream",
     "text": [
      "HTTP Request: POST https://api.groq.com/openai/v1/chat/completions \"HTTP/1.1 200 OK\"\n",
      "HTTP Request: POST https://api.groq.com/openai/v1/chat/completions \"HTTP/1.1 200 OK\"\n",
      "HTTP Request: POST https://api.groq.com/openai/v1/chat/completions \"HTTP/1.1 200 OK\"\n",
      "HTTP Request: POST https://api.groq.com/openai/v1/chat/completions \"HTTP/1.1 200 OK\"\n",
      "HTTP Request: POST https://api.groq.com/openai/v1/chat/completions \"HTTP/1.1 200 OK\"\n",
      "HTTP Request: POST https://api.groq.com/openai/v1/chat/completions \"HTTP/1.1 200 OK\"\n"
     ]
    },
    {
     "name": "stdout",
     "output_type": "stream",
     "text": [
      "*******************************\n",
      "search_query='How can generative AI accelerate drug discovery by generating novel molecules with specific properties and what are the potential impacts on the field of drug discovery?'\n"
     ]
    },
    {
     "name": "stderr",
     "output_type": "stream",
     "text": [
      "HTTP Request: POST https://api.groq.com/openai/v1/chat/completions \"HTTP/1.1 429 Too Many Requests\"\n",
      "Retrying request to /openai/v1/chat/completions in 1.000000 seconds\n",
      "HTTP Request: POST https://api.groq.com/openai/v1/chat/completions \"HTTP/1.1 200 OK\"\n",
      "HTTP Request: POST https://api.groq.com/openai/v1/chat/completions \"HTTP/1.1 429 Too Many Requests\"\n",
      "Retrying request to /openai/v1/chat/completions in 2.000000 seconds\n",
      "HTTP Request: POST https://api.groq.com/openai/v1/chat/completions \"HTTP/1.1 200 OK\"\n",
      "HTTP Request: POST https://api.groq.com/openai/v1/chat/completions \"HTTP/1.1 429 Too Many Requests\"\n",
      "Retrying request to /openai/v1/chat/completions in 3.000000 seconds\n",
      "HTTP Request: POST https://api.groq.com/openai/v1/chat/completions \"HTTP/1.1 429 Too Many Requests\"\n",
      "Retrying request to /openai/v1/chat/completions in 3.000000 seconds\n",
      "HTTP Request: POST https://api.groq.com/openai/v1/chat/completions \"HTTP/1.1 200 OK\"\n",
      "HTTP Request: POST https://api.groq.com/openai/v1/chat/completions \"HTTP/1.1 429 Too Many Requests\"\n"
     ]
    },
    {
     "name": "stdout",
     "output_type": "stream",
     "text": [
      "*******************************\n"
     ]
    },
    {
     "name": "stderr",
     "output_type": "stream",
     "text": [
      "Retrying request to /openai/v1/chat/completions in 3.000000 seconds\n"
     ]
    },
    {
     "name": "stdout",
     "output_type": "stream",
     "text": [
      "search_query='generative AI in Indian pharmaceutical industry and cost savings'\n"
     ]
    },
    {
     "name": "stderr",
     "output_type": "stream",
     "text": [
      "HTTP Request: POST https://api.groq.com/openai/v1/chat/completions \"HTTP/1.1 200 OK\"\n",
      "HTTP Request: POST https://api.groq.com/openai/v1/chat/completions \"HTTP/1.1 429 Too Many Requests\"\n",
      "Retrying request to /openai/v1/chat/completions in 19.000000 seconds\n",
      "HTTP Request: POST https://api.groq.com/openai/v1/chat/completions \"HTTP/1.1 200 OK\"\n",
      "HTTP Request: POST https://api.groq.com/openai/v1/chat/completions \"HTTP/1.1 429 Too Many Requests\"\n",
      "Retrying request to /openai/v1/chat/completions in 23.000000 seconds\n",
      "HTTP Request: POST https://api.groq.com/openai/v1/chat/completions \"HTTP/1.1 413 Payload Too Large\"\n",
      "HTTP Request: POST https://api.groq.com/openai/v1/chat/completions \"HTTP/1.1 200 OK\"\n",
      "HTTP Request: POST https://api.groq.com/openai/v1/chat/completions \"HTTP/1.1 413 Payload Too Large\"\n"
     ]
    },
    {
     "ename": "APIStatusError",
     "evalue": "Error code: 413 - {'error': {'message': 'Request too large for model `llama-3.3-70b-versatile` in organization `org_01hvz7yfhnfz4sdzn0d40agc3e` service tier `on_demand` on tokens per minute (TPM): Limit 12000, Requested 12246, please reduce your message size and try again. Need more tokens? Upgrade to Dev Tier today at https://console.groq.com/settings/billing', 'type': 'tokens', 'code': 'rate_limit_exceeded'}}",
     "output_type": "error",
     "traceback": [
      "\u001b[31m---------------------------------------------------------------------------\u001b[39m",
      "\u001b[31mAPIStatusError\u001b[39m                            Traceback (most recent call last)",
      "\u001b[36mCell\u001b[39m\u001b[36m \u001b[39m\u001b[32mIn[119]\u001b[39m\u001b[32m, line 2\u001b[39m\n\u001b[32m      1\u001b[39m \u001b[38;5;66;03m# Continue\u001b[39;00m\n\u001b[32m----> \u001b[39m\u001b[32m2\u001b[39m \u001b[38;5;28;43;01mfor\u001b[39;49;00m\u001b[43m \u001b[49m\u001b[43mevent\u001b[49m\u001b[43m \u001b[49m\u001b[38;5;129;43;01min\u001b[39;49;00m\u001b[43m \u001b[49m\u001b[43mgraph\u001b[49m\u001b[43m.\u001b[49m\u001b[43mstream\u001b[49m\u001b[43m(\u001b[49m\u001b[38;5;28;43;01mNone\u001b[39;49;00m\u001b[43m,\u001b[49m\u001b[43m \u001b[49m\u001b[43mthread\u001b[49m\u001b[43m,\u001b[49m\u001b[43m \u001b[49m\u001b[43mstream_mode\u001b[49m\u001b[43m=\u001b[49m\u001b[33;43m\"\u001b[39;49m\u001b[33;43mupdates\u001b[39;49m\u001b[33;43m\"\u001b[39;49m\u001b[43m)\u001b[49m\u001b[43m:\u001b[49m\n\u001b[32m      3\u001b[39m \u001b[43m    \u001b[49m\u001b[38;5;28;43mprint\u001b[39;49m\u001b[43m(\u001b[49m\u001b[33;43m\"\u001b[39;49m\u001b[33;43m--Node--\u001b[39;49m\u001b[33;43m\"\u001b[39;49m\u001b[43m)\u001b[49m\n\u001b[32m      4\u001b[39m \u001b[43m    \u001b[49m\u001b[43mnode_name\u001b[49m\u001b[43m \u001b[49m\u001b[43m=\u001b[49m\u001b[43m \u001b[49m\u001b[38;5;28;43mnext\u001b[39;49m\u001b[43m(\u001b[49m\u001b[38;5;28;43miter\u001b[39;49m\u001b[43m(\u001b[49m\u001b[43mevent\u001b[49m\u001b[43m.\u001b[49m\u001b[43mkeys\u001b[49m\u001b[43m(\u001b[49m\u001b[43m)\u001b[49m\u001b[43m)\u001b[49m\u001b[43m)\u001b[49m\n",
      "\u001b[36mFile \u001b[39m\u001b[32md:\\d_data\\AnuragReddy_Naredla_python_data\\python\\data_science_concepts_github\\LLMOPS\\project3\\automated-research-and-report-generation\\.venv\\Lib\\site-packages\\langgraph\\pregel\\main.py:2657\u001b[39m, in \u001b[36mPregel.stream\u001b[39m\u001b[34m(self, input, config, context, stream_mode, print_mode, output_keys, interrupt_before, interrupt_after, durability, subgraphs, debug, **kwargs)\u001b[39m\n\u001b[32m   2655\u001b[39m \u001b[38;5;28;01mfor\u001b[39;00m task \u001b[38;5;129;01min\u001b[39;00m loop.match_cached_writes():\n\u001b[32m   2656\u001b[39m     loop.output_writes(task.id, task.writes, cached=\u001b[38;5;28;01mTrue\u001b[39;00m)\n\u001b[32m-> \u001b[39m\u001b[32m2657\u001b[39m \u001b[43m\u001b[49m\u001b[38;5;28;43;01mfor\u001b[39;49;00m\u001b[43m \u001b[49m\u001b[43m_\u001b[49m\u001b[43m \u001b[49m\u001b[38;5;129;43;01min\u001b[39;49;00m\u001b[43m \u001b[49m\u001b[43mrunner\u001b[49m\u001b[43m.\u001b[49m\u001b[43mtick\u001b[49m\u001b[43m(\u001b[49m\n\u001b[32m   2658\u001b[39m \u001b[43m    \u001b[49m\u001b[43m[\u001b[49m\u001b[43mt\u001b[49m\u001b[43m \u001b[49m\u001b[38;5;28;43;01mfor\u001b[39;49;00m\u001b[43m \u001b[49m\u001b[43mt\u001b[49m\u001b[43m \u001b[49m\u001b[38;5;129;43;01min\u001b[39;49;00m\u001b[43m \u001b[49m\u001b[43mloop\u001b[49m\u001b[43m.\u001b[49m\u001b[43mtasks\u001b[49m\u001b[43m.\u001b[49m\u001b[43mvalues\u001b[49m\u001b[43m(\u001b[49m\u001b[43m)\u001b[49m\u001b[43m \u001b[49m\u001b[38;5;28;43;01mif\u001b[39;49;00m\u001b[43m \u001b[49m\u001b[38;5;129;43;01mnot\u001b[39;49;00m\u001b[43m \u001b[49m\u001b[43mt\u001b[49m\u001b[43m.\u001b[49m\u001b[43mwrites\u001b[49m\u001b[43m]\u001b[49m\u001b[43m,\u001b[49m\n\u001b[32m   2659\u001b[39m \u001b[43m    \u001b[49m\u001b[43mtimeout\u001b[49m\u001b[43m=\u001b[49m\u001b[38;5;28;43mself\u001b[39;49m\u001b[43m.\u001b[49m\u001b[43mstep_timeout\u001b[49m\u001b[43m,\u001b[49m\n\u001b[32m   2660\u001b[39m \u001b[43m    \u001b[49m\u001b[43mget_waiter\u001b[49m\u001b[43m=\u001b[49m\u001b[43mget_waiter\u001b[49m\u001b[43m,\u001b[49m\n\u001b[32m   2661\u001b[39m \u001b[43m    \u001b[49m\u001b[43mschedule_task\u001b[49m\u001b[43m=\u001b[49m\u001b[43mloop\u001b[49m\u001b[43m.\u001b[49m\u001b[43maccept_push\u001b[49m\u001b[43m,\u001b[49m\n\u001b[32m   2662\u001b[39m \u001b[43m\u001b[49m\u001b[43m)\u001b[49m\u001b[43m:\u001b[49m\n\u001b[32m   2663\u001b[39m \u001b[43m    \u001b[49m\u001b[38;5;66;43;03m# emit output\u001b[39;49;00m\n\u001b[32m   2664\u001b[39m \u001b[43m    \u001b[49m\u001b[38;5;28;43;01myield from\u001b[39;49;00m\u001b[43m \u001b[49m\u001b[43m_output\u001b[49m\u001b[43m(\u001b[49m\n\u001b[32m   2665\u001b[39m \u001b[43m        \u001b[49m\u001b[43mstream_mode\u001b[49m\u001b[43m,\u001b[49m\u001b[43m \u001b[49m\u001b[43mprint_mode\u001b[49m\u001b[43m,\u001b[49m\u001b[43m \u001b[49m\u001b[43msubgraphs\u001b[49m\u001b[43m,\u001b[49m\u001b[43m \u001b[49m\u001b[43mstream\u001b[49m\u001b[43m.\u001b[49m\u001b[43mget\u001b[49m\u001b[43m,\u001b[49m\u001b[43m \u001b[49m\u001b[43mqueue\u001b[49m\u001b[43m.\u001b[49m\u001b[43mEmpty\u001b[49m\n\u001b[32m   2666\u001b[39m \u001b[43m    \u001b[49m\u001b[43m)\u001b[49m\n\u001b[32m   2667\u001b[39m loop.after_tick()\n",
      "\u001b[36mFile \u001b[39m\u001b[32md:\\d_data\\AnuragReddy_Naredla_python_data\\python\\data_science_concepts_github\\LLMOPS\\project3\\automated-research-and-report-generation\\.venv\\Lib\\site-packages\\langgraph\\pregel\\_runner.py:253\u001b[39m, in \u001b[36mPregelRunner.tick\u001b[39m\u001b[34m(self, tasks, reraise, timeout, retry_policy, get_waiter, schedule_task)\u001b[39m\n\u001b[32m    251\u001b[39m \u001b[38;5;66;03m# panic on failure or timeout\u001b[39;00m\n\u001b[32m    252\u001b[39m \u001b[38;5;28;01mtry\u001b[39;00m:\n\u001b[32m--> \u001b[39m\u001b[32m253\u001b[39m     \u001b[43m_panic_or_proceed\u001b[49m\u001b[43m(\u001b[49m\n\u001b[32m    254\u001b[39m \u001b[43m        \u001b[49m\u001b[43mfutures\u001b[49m\u001b[43m.\u001b[49m\u001b[43mdone\u001b[49m\u001b[43m.\u001b[49m\u001b[43munion\u001b[49m\u001b[43m(\u001b[49m\u001b[43mf\u001b[49m\u001b[43m \u001b[49m\u001b[38;5;28;43;01mfor\u001b[39;49;00m\u001b[43m \u001b[49m\u001b[43mf\u001b[49m\u001b[43m,\u001b[49m\u001b[43m \u001b[49m\u001b[43mt\u001b[49m\u001b[43m \u001b[49m\u001b[38;5;129;43;01min\u001b[39;49;00m\u001b[43m \u001b[49m\u001b[43mfutures\u001b[49m\u001b[43m.\u001b[49m\u001b[43mitems\u001b[49m\u001b[43m(\u001b[49m\u001b[43m)\u001b[49m\u001b[43m \u001b[49m\u001b[38;5;28;43;01mif\u001b[39;49;00m\u001b[43m \u001b[49m\u001b[43mt\u001b[49m\u001b[43m \u001b[49m\u001b[38;5;129;43;01mis\u001b[39;49;00m\u001b[43m \u001b[49m\u001b[38;5;129;43;01mnot\u001b[39;49;00m\u001b[43m \u001b[49m\u001b[38;5;28;43;01mNone\u001b[39;49;00m\u001b[43m)\u001b[49m\u001b[43m,\u001b[49m\n\u001b[32m    255\u001b[39m \u001b[43m        \u001b[49m\u001b[43mpanic\u001b[49m\u001b[43m=\u001b[49m\u001b[43mreraise\u001b[49m\u001b[43m,\u001b[49m\n\u001b[32m    256\u001b[39m \u001b[43m    \u001b[49m\u001b[43m)\u001b[49m\n\u001b[32m    257\u001b[39m \u001b[38;5;28;01mexcept\u001b[39;00m \u001b[38;5;167;01mException\u001b[39;00m \u001b[38;5;28;01mas\u001b[39;00m exc:\n\u001b[32m    258\u001b[39m     \u001b[38;5;28;01mif\u001b[39;00m tb := exc.__traceback__:\n",
      "\u001b[36mFile \u001b[39m\u001b[32md:\\d_data\\AnuragReddy_Naredla_python_data\\python\\data_science_concepts_github\\LLMOPS\\project3\\automated-research-and-report-generation\\.venv\\Lib\\site-packages\\langgraph\\pregel\\_runner.py:511\u001b[39m, in \u001b[36m_panic_or_proceed\u001b[39m\u001b[34m(futs, timeout_exc_cls, panic)\u001b[39m\n\u001b[32m    509\u001b[39m                 interrupts.append(exc)\n\u001b[32m    510\u001b[39m             \u001b[38;5;28;01melif\u001b[39;00m fut \u001b[38;5;129;01mnot\u001b[39;00m \u001b[38;5;129;01min\u001b[39;00m SKIP_RERAISE_SET:\n\u001b[32m--> \u001b[39m\u001b[32m511\u001b[39m                 \u001b[38;5;28;01mraise\u001b[39;00m exc\n\u001b[32m    512\u001b[39m \u001b[38;5;66;03m# raise combined interrupts\u001b[39;00m\n\u001b[32m    513\u001b[39m \u001b[38;5;28;01mif\u001b[39;00m interrupts:\n",
      "\u001b[36mFile \u001b[39m\u001b[32md:\\d_data\\AnuragReddy_Naredla_python_data\\python\\data_science_concepts_github\\LLMOPS\\project3\\automated-research-and-report-generation\\.venv\\Lib\\site-packages\\langgraph\\pregel\\_executor.py:81\u001b[39m, in \u001b[36mBackgroundExecutor.done\u001b[39m\u001b[34m(self, task)\u001b[39m\n\u001b[32m     79\u001b[39m \u001b[38;5;250m\u001b[39m\u001b[33;03m\"\"\"Remove the task from the tasks dict when it's done.\"\"\"\u001b[39;00m\n\u001b[32m     80\u001b[39m \u001b[38;5;28;01mtry\u001b[39;00m:\n\u001b[32m---> \u001b[39m\u001b[32m81\u001b[39m     \u001b[43mtask\u001b[49m\u001b[43m.\u001b[49m\u001b[43mresult\u001b[49m\u001b[43m(\u001b[49m\u001b[43m)\u001b[49m\n\u001b[32m     82\u001b[39m \u001b[38;5;28;01mexcept\u001b[39;00m GraphBubbleUp:\n\u001b[32m     83\u001b[39m     \u001b[38;5;66;03m# This exception is an interruption signal, not an error\u001b[39;00m\n\u001b[32m     84\u001b[39m     \u001b[38;5;66;03m# so we don't want to re-raise it on exit\u001b[39;00m\n\u001b[32m     85\u001b[39m     \u001b[38;5;28mself\u001b[39m.tasks.pop(task)\n",
      "\u001b[36mFile \u001b[39m\u001b[32m~\\AppData\\Roaming\\uv\\python\\cpython-3.11.13-windows-x86_64-none\\Lib\\concurrent\\futures\\_base.py:449\u001b[39m, in \u001b[36mFuture.result\u001b[39m\u001b[34m(self, timeout)\u001b[39m\n\u001b[32m    447\u001b[39m     \u001b[38;5;28;01mraise\u001b[39;00m CancelledError()\n\u001b[32m    448\u001b[39m \u001b[38;5;28;01melif\u001b[39;00m \u001b[38;5;28mself\u001b[39m._state == FINISHED:\n\u001b[32m--> \u001b[39m\u001b[32m449\u001b[39m     \u001b[38;5;28;01mreturn\u001b[39;00m \u001b[38;5;28;43mself\u001b[39;49m\u001b[43m.\u001b[49m\u001b[43m__get_result\u001b[49m\u001b[43m(\u001b[49m\u001b[43m)\u001b[49m\n\u001b[32m    451\u001b[39m \u001b[38;5;28mself\u001b[39m._condition.wait(timeout)\n\u001b[32m    453\u001b[39m \u001b[38;5;28;01mif\u001b[39;00m \u001b[38;5;28mself\u001b[39m._state \u001b[38;5;129;01min\u001b[39;00m [CANCELLED, CANCELLED_AND_NOTIFIED]:\n",
      "\u001b[36mFile \u001b[39m\u001b[32m~\\AppData\\Roaming\\uv\\python\\cpython-3.11.13-windows-x86_64-none\\Lib\\concurrent\\futures\\_base.py:401\u001b[39m, in \u001b[36mFuture.__get_result\u001b[39m\u001b[34m(self)\u001b[39m\n\u001b[32m    399\u001b[39m \u001b[38;5;28;01mif\u001b[39;00m \u001b[38;5;28mself\u001b[39m._exception:\n\u001b[32m    400\u001b[39m     \u001b[38;5;28;01mtry\u001b[39;00m:\n\u001b[32m--> \u001b[39m\u001b[32m401\u001b[39m         \u001b[38;5;28;01mraise\u001b[39;00m \u001b[38;5;28mself\u001b[39m._exception\n\u001b[32m    402\u001b[39m     \u001b[38;5;28;01mfinally\u001b[39;00m:\n\u001b[32m    403\u001b[39m         \u001b[38;5;66;03m# Break a reference cycle with the exception in self._exception\u001b[39;00m\n\u001b[32m    404\u001b[39m         \u001b[38;5;28mself\u001b[39m = \u001b[38;5;28;01mNone\u001b[39;00m\n",
      "\u001b[36mFile \u001b[39m\u001b[32m~\\AppData\\Roaming\\uv\\python\\cpython-3.11.13-windows-x86_64-none\\Lib\\concurrent\\futures\\thread.py:58\u001b[39m, in \u001b[36m_WorkItem.run\u001b[39m\u001b[34m(self)\u001b[39m\n\u001b[32m     55\u001b[39m     \u001b[38;5;28;01mreturn\u001b[39;00m\n\u001b[32m     57\u001b[39m \u001b[38;5;28;01mtry\u001b[39;00m:\n\u001b[32m---> \u001b[39m\u001b[32m58\u001b[39m     result = \u001b[38;5;28;43mself\u001b[39;49m\u001b[43m.\u001b[49m\u001b[43mfn\u001b[49m\u001b[43m(\u001b[49m\u001b[43m*\u001b[49m\u001b[38;5;28;43mself\u001b[39;49m\u001b[43m.\u001b[49m\u001b[43margs\u001b[49m\u001b[43m,\u001b[49m\u001b[43m \u001b[49m\u001b[43m*\u001b[49m\u001b[43m*\u001b[49m\u001b[38;5;28;43mself\u001b[39;49m\u001b[43m.\u001b[49m\u001b[43mkwargs\u001b[49m\u001b[43m)\u001b[49m\n\u001b[32m     59\u001b[39m \u001b[38;5;28;01mexcept\u001b[39;00m \u001b[38;5;167;01mBaseException\u001b[39;00m \u001b[38;5;28;01mas\u001b[39;00m exc:\n\u001b[32m     60\u001b[39m     \u001b[38;5;28mself\u001b[39m.future.set_exception(exc)\n",
      "\u001b[36mFile \u001b[39m\u001b[32md:\\d_data\\AnuragReddy_Naredla_python_data\\python\\data_science_concepts_github\\LLMOPS\\project3\\automated-research-and-report-generation\\.venv\\Lib\\site-packages\\langgraph\\pregel\\_retry.py:42\u001b[39m, in \u001b[36mrun_with_retry\u001b[39m\u001b[34m(task, retry_policy, configurable)\u001b[39m\n\u001b[32m     40\u001b[39m     task.writes.clear()\n\u001b[32m     41\u001b[39m     \u001b[38;5;66;03m# run the task\u001b[39;00m\n\u001b[32m---> \u001b[39m\u001b[32m42\u001b[39m     \u001b[38;5;28;01mreturn\u001b[39;00m \u001b[43mtask\u001b[49m\u001b[43m.\u001b[49m\u001b[43mproc\u001b[49m\u001b[43m.\u001b[49m\u001b[43minvoke\u001b[49m\u001b[43m(\u001b[49m\u001b[43mtask\u001b[49m\u001b[43m.\u001b[49m\u001b[43minput\u001b[49m\u001b[43m,\u001b[49m\u001b[43m \u001b[49m\u001b[43mconfig\u001b[49m\u001b[43m)\u001b[49m\n\u001b[32m     43\u001b[39m \u001b[38;5;28;01mexcept\u001b[39;00m ParentCommand \u001b[38;5;28;01mas\u001b[39;00m exc:\n\u001b[32m     44\u001b[39m     ns: \u001b[38;5;28mstr\u001b[39m = config[CONF][CONFIG_KEY_CHECKPOINT_NS]\n",
      "\u001b[36mFile \u001b[39m\u001b[32md:\\d_data\\AnuragReddy_Naredla_python_data\\python\\data_science_concepts_github\\LLMOPS\\project3\\automated-research-and-report-generation\\.venv\\Lib\\site-packages\\langgraph\\_internal\\_runnable.py:657\u001b[39m, in \u001b[36mRunnableSeq.invoke\u001b[39m\u001b[34m(self, input, config, **kwargs)\u001b[39m\n\u001b[32m    655\u001b[39m     \u001b[38;5;66;03m# run in context\u001b[39;00m\n\u001b[32m    656\u001b[39m     \u001b[38;5;28;01mwith\u001b[39;00m set_config_context(config, run) \u001b[38;5;28;01mas\u001b[39;00m context:\n\u001b[32m--> \u001b[39m\u001b[32m657\u001b[39m         \u001b[38;5;28minput\u001b[39m = \u001b[43mcontext\u001b[49m\u001b[43m.\u001b[49m\u001b[43mrun\u001b[49m\u001b[43m(\u001b[49m\u001b[43mstep\u001b[49m\u001b[43m.\u001b[49m\u001b[43minvoke\u001b[49m\u001b[43m,\u001b[49m\u001b[43m \u001b[49m\u001b[38;5;28;43minput\u001b[39;49m\u001b[43m,\u001b[49m\u001b[43m \u001b[49m\u001b[43mconfig\u001b[49m\u001b[43m,\u001b[49m\u001b[43m \u001b[49m\u001b[43m*\u001b[49m\u001b[43m*\u001b[49m\u001b[43mkwargs\u001b[49m\u001b[43m)\u001b[49m\n\u001b[32m    658\u001b[39m \u001b[38;5;28;01melse\u001b[39;00m:\n\u001b[32m    659\u001b[39m     \u001b[38;5;28minput\u001b[39m = step.invoke(\u001b[38;5;28minput\u001b[39m, config)\n",
      "\u001b[36mFile \u001b[39m\u001b[32md:\\d_data\\AnuragReddy_Naredla_python_data\\python\\data_science_concepts_github\\LLMOPS\\project3\\automated-research-and-report-generation\\.venv\\Lib\\site-packages\\langgraph\\pregel\\main.py:3068\u001b[39m, in \u001b[36mPregel.invoke\u001b[39m\u001b[34m(self, input, config, context, stream_mode, print_mode, output_keys, interrupt_before, interrupt_after, durability, **kwargs)\u001b[39m\n\u001b[32m   3065\u001b[39m chunks: \u001b[38;5;28mlist\u001b[39m[\u001b[38;5;28mdict\u001b[39m[\u001b[38;5;28mstr\u001b[39m, Any] | Any] = []\n\u001b[32m   3066\u001b[39m interrupts: \u001b[38;5;28mlist\u001b[39m[Interrupt] = []\n\u001b[32m-> \u001b[39m\u001b[32m3068\u001b[39m \u001b[43m\u001b[49m\u001b[38;5;28;43;01mfor\u001b[39;49;00m\u001b[43m \u001b[49m\u001b[43mchunk\u001b[49m\u001b[43m \u001b[49m\u001b[38;5;129;43;01min\u001b[39;49;00m\u001b[43m \u001b[49m\u001b[38;5;28;43mself\u001b[39;49m\u001b[43m.\u001b[49m\u001b[43mstream\u001b[49m\u001b[43m(\u001b[49m\n\u001b[32m   3069\u001b[39m \u001b[43m    \u001b[49m\u001b[38;5;28;43minput\u001b[39;49m\u001b[43m,\u001b[49m\n\u001b[32m   3070\u001b[39m \u001b[43m    \u001b[49m\u001b[43mconfig\u001b[49m\u001b[43m,\u001b[49m\n\u001b[32m   3071\u001b[39m \u001b[43m    \u001b[49m\u001b[43mcontext\u001b[49m\u001b[43m=\u001b[49m\u001b[43mcontext\u001b[49m\u001b[43m,\u001b[49m\n\u001b[32m   3072\u001b[39m \u001b[43m    \u001b[49m\u001b[43mstream_mode\u001b[49m\u001b[43m=\u001b[49m\u001b[43m[\u001b[49m\u001b[33;43m\"\u001b[39;49m\u001b[33;43mupdates\u001b[39;49m\u001b[33;43m\"\u001b[39;49m\u001b[43m,\u001b[49m\u001b[43m \u001b[49m\u001b[33;43m\"\u001b[39;49m\u001b[33;43mvalues\u001b[39;49m\u001b[33;43m\"\u001b[39;49m\u001b[43m]\u001b[49m\n\u001b[32m   3073\u001b[39m \u001b[43m    \u001b[49m\u001b[38;5;28;43;01mif\u001b[39;49;00m\u001b[43m \u001b[49m\u001b[43mstream_mode\u001b[49m\u001b[43m \u001b[49m\u001b[43m==\u001b[49m\u001b[43m \u001b[49m\u001b[33;43m\"\u001b[39;49m\u001b[33;43mvalues\u001b[39;49m\u001b[33;43m\"\u001b[39;49m\n\u001b[32m   3074\u001b[39m \u001b[43m    \u001b[49m\u001b[38;5;28;43;01melse\u001b[39;49;00m\u001b[43m \u001b[49m\u001b[43mstream_mode\u001b[49m\u001b[43m,\u001b[49m\n\u001b[32m   3075\u001b[39m \u001b[43m    \u001b[49m\u001b[43mprint_mode\u001b[49m\u001b[43m=\u001b[49m\u001b[43mprint_mode\u001b[49m\u001b[43m,\u001b[49m\n\u001b[32m   3076\u001b[39m \u001b[43m    \u001b[49m\u001b[43moutput_keys\u001b[49m\u001b[43m=\u001b[49m\u001b[43moutput_keys\u001b[49m\u001b[43m,\u001b[49m\n\u001b[32m   3077\u001b[39m \u001b[43m    \u001b[49m\u001b[43minterrupt_before\u001b[49m\u001b[43m=\u001b[49m\u001b[43minterrupt_before\u001b[49m\u001b[43m,\u001b[49m\n\u001b[32m   3078\u001b[39m \u001b[43m    \u001b[49m\u001b[43minterrupt_after\u001b[49m\u001b[43m=\u001b[49m\u001b[43minterrupt_after\u001b[49m\u001b[43m,\u001b[49m\n\u001b[32m   3079\u001b[39m \u001b[43m    \u001b[49m\u001b[43mdurability\u001b[49m\u001b[43m=\u001b[49m\u001b[43mdurability\u001b[49m\u001b[43m,\u001b[49m\n\u001b[32m   3080\u001b[39m \u001b[43m    \u001b[49m\u001b[43m*\u001b[49m\u001b[43m*\u001b[49m\u001b[43mkwargs\u001b[49m\u001b[43m,\u001b[49m\n\u001b[32m   3081\u001b[39m \u001b[43m\u001b[49m\u001b[43m)\u001b[49m\u001b[43m:\u001b[49m\n\u001b[32m   3082\u001b[39m \u001b[43m    \u001b[49m\u001b[38;5;28;43;01mif\u001b[39;49;00m\u001b[43m \u001b[49m\u001b[43mstream_mode\u001b[49m\u001b[43m \u001b[49m\u001b[43m==\u001b[49m\u001b[43m \u001b[49m\u001b[33;43m\"\u001b[39;49m\u001b[33;43mvalues\u001b[39;49m\u001b[33;43m\"\u001b[39;49m\u001b[43m:\u001b[49m\n\u001b[32m   3083\u001b[39m \u001b[43m        \u001b[49m\u001b[38;5;28;43;01mif\u001b[39;49;00m\u001b[43m \u001b[49m\u001b[38;5;28;43mlen\u001b[39;49m\u001b[43m(\u001b[49m\u001b[43mchunk\u001b[49m\u001b[43m)\u001b[49m\u001b[43m \u001b[49m\u001b[43m==\u001b[49m\u001b[43m \u001b[49m\u001b[32;43m2\u001b[39;49m\u001b[43m:\u001b[49m\n",
      "\u001b[36mFile \u001b[39m\u001b[32md:\\d_data\\AnuragReddy_Naredla_python_data\\python\\data_science_concepts_github\\LLMOPS\\project3\\automated-research-and-report-generation\\.venv\\Lib\\site-packages\\langgraph\\pregel\\main.py:2657\u001b[39m, in \u001b[36mPregel.stream\u001b[39m\u001b[34m(self, input, config, context, stream_mode, print_mode, output_keys, interrupt_before, interrupt_after, durability, subgraphs, debug, **kwargs)\u001b[39m\n\u001b[32m   2655\u001b[39m \u001b[38;5;28;01mfor\u001b[39;00m task \u001b[38;5;129;01min\u001b[39;00m loop.match_cached_writes():\n\u001b[32m   2656\u001b[39m     loop.output_writes(task.id, task.writes, cached=\u001b[38;5;28;01mTrue\u001b[39;00m)\n\u001b[32m-> \u001b[39m\u001b[32m2657\u001b[39m \u001b[43m\u001b[49m\u001b[38;5;28;43;01mfor\u001b[39;49;00m\u001b[43m \u001b[49m\u001b[43m_\u001b[49m\u001b[43m \u001b[49m\u001b[38;5;129;43;01min\u001b[39;49;00m\u001b[43m \u001b[49m\u001b[43mrunner\u001b[49m\u001b[43m.\u001b[49m\u001b[43mtick\u001b[49m\u001b[43m(\u001b[49m\n\u001b[32m   2658\u001b[39m \u001b[43m    \u001b[49m\u001b[43m[\u001b[49m\u001b[43mt\u001b[49m\u001b[43m \u001b[49m\u001b[38;5;28;43;01mfor\u001b[39;49;00m\u001b[43m \u001b[49m\u001b[43mt\u001b[49m\u001b[43m \u001b[49m\u001b[38;5;129;43;01min\u001b[39;49;00m\u001b[43m \u001b[49m\u001b[43mloop\u001b[49m\u001b[43m.\u001b[49m\u001b[43mtasks\u001b[49m\u001b[43m.\u001b[49m\u001b[43mvalues\u001b[49m\u001b[43m(\u001b[49m\u001b[43m)\u001b[49m\u001b[43m \u001b[49m\u001b[38;5;28;43;01mif\u001b[39;49;00m\u001b[43m \u001b[49m\u001b[38;5;129;43;01mnot\u001b[39;49;00m\u001b[43m \u001b[49m\u001b[43mt\u001b[49m\u001b[43m.\u001b[49m\u001b[43mwrites\u001b[49m\u001b[43m]\u001b[49m\u001b[43m,\u001b[49m\n\u001b[32m   2659\u001b[39m \u001b[43m    \u001b[49m\u001b[43mtimeout\u001b[49m\u001b[43m=\u001b[49m\u001b[38;5;28;43mself\u001b[39;49m\u001b[43m.\u001b[49m\u001b[43mstep_timeout\u001b[49m\u001b[43m,\u001b[49m\n\u001b[32m   2660\u001b[39m \u001b[43m    \u001b[49m\u001b[43mget_waiter\u001b[49m\u001b[43m=\u001b[49m\u001b[43mget_waiter\u001b[49m\u001b[43m,\u001b[49m\n\u001b[32m   2661\u001b[39m \u001b[43m    \u001b[49m\u001b[43mschedule_task\u001b[49m\u001b[43m=\u001b[49m\u001b[43mloop\u001b[49m\u001b[43m.\u001b[49m\u001b[43maccept_push\u001b[49m\u001b[43m,\u001b[49m\n\u001b[32m   2662\u001b[39m \u001b[43m\u001b[49m\u001b[43m)\u001b[49m\u001b[43m:\u001b[49m\n\u001b[32m   2663\u001b[39m \u001b[43m    \u001b[49m\u001b[38;5;66;43;03m# emit output\u001b[39;49;00m\n\u001b[32m   2664\u001b[39m \u001b[43m    \u001b[49m\u001b[38;5;28;43;01myield from\u001b[39;49;00m\u001b[43m \u001b[49m\u001b[43m_output\u001b[49m\u001b[43m(\u001b[49m\n\u001b[32m   2665\u001b[39m \u001b[43m        \u001b[49m\u001b[43mstream_mode\u001b[49m\u001b[43m,\u001b[49m\u001b[43m \u001b[49m\u001b[43mprint_mode\u001b[49m\u001b[43m,\u001b[49m\u001b[43m \u001b[49m\u001b[43msubgraphs\u001b[49m\u001b[43m,\u001b[49m\u001b[43m \u001b[49m\u001b[43mstream\u001b[49m\u001b[43m.\u001b[49m\u001b[43mget\u001b[49m\u001b[43m,\u001b[49m\u001b[43m \u001b[49m\u001b[43mqueue\u001b[49m\u001b[43m.\u001b[49m\u001b[43mEmpty\u001b[49m\n\u001b[32m   2666\u001b[39m \u001b[43m    \u001b[49m\u001b[43m)\u001b[49m\n\u001b[32m   2667\u001b[39m loop.after_tick()\n",
      "\u001b[36mFile \u001b[39m\u001b[32md:\\d_data\\AnuragReddy_Naredla_python_data\\python\\data_science_concepts_github\\LLMOPS\\project3\\automated-research-and-report-generation\\.venv\\Lib\\site-packages\\langgraph\\pregel\\_runner.py:162\u001b[39m, in \u001b[36mPregelRunner.tick\u001b[39m\u001b[34m(self, tasks, reraise, timeout, retry_policy, get_waiter, schedule_task)\u001b[39m\n\u001b[32m    160\u001b[39m t = tasks[\u001b[32m0\u001b[39m]\n\u001b[32m    161\u001b[39m \u001b[38;5;28;01mtry\u001b[39;00m:\n\u001b[32m--> \u001b[39m\u001b[32m162\u001b[39m     \u001b[43mrun_with_retry\u001b[49m\u001b[43m(\u001b[49m\n\u001b[32m    163\u001b[39m \u001b[43m        \u001b[49m\u001b[43mt\u001b[49m\u001b[43m,\u001b[49m\n\u001b[32m    164\u001b[39m \u001b[43m        \u001b[49m\u001b[43mretry_policy\u001b[49m\u001b[43m,\u001b[49m\n\u001b[32m    165\u001b[39m \u001b[43m        \u001b[49m\u001b[43mconfigurable\u001b[49m\u001b[43m=\u001b[49m\u001b[43m{\u001b[49m\n\u001b[32m    166\u001b[39m \u001b[43m            \u001b[49m\u001b[43mCONFIG_KEY_CALL\u001b[49m\u001b[43m:\u001b[49m\u001b[43m \u001b[49m\u001b[43mpartial\u001b[49m\u001b[43m(\u001b[49m\n\u001b[32m    167\u001b[39m \u001b[43m                \u001b[49m\u001b[43m_call\u001b[49m\u001b[43m,\u001b[49m\n\u001b[32m    168\u001b[39m \u001b[43m                \u001b[49m\u001b[43mweakref\u001b[49m\u001b[43m.\u001b[49m\u001b[43mref\u001b[49m\u001b[43m(\u001b[49m\u001b[43mt\u001b[49m\u001b[43m)\u001b[49m\u001b[43m,\u001b[49m\n\u001b[32m    169\u001b[39m \u001b[43m                \u001b[49m\u001b[43mretry_policy\u001b[49m\u001b[43m=\u001b[49m\u001b[43mretry_policy\u001b[49m\u001b[43m,\u001b[49m\n\u001b[32m    170\u001b[39m \u001b[43m                \u001b[49m\u001b[43mfutures\u001b[49m\u001b[43m=\u001b[49m\u001b[43mweakref\u001b[49m\u001b[43m.\u001b[49m\u001b[43mref\u001b[49m\u001b[43m(\u001b[49m\u001b[43mfutures\u001b[49m\u001b[43m)\u001b[49m\u001b[43m,\u001b[49m\n\u001b[32m    171\u001b[39m \u001b[43m                \u001b[49m\u001b[43mschedule_task\u001b[49m\u001b[43m=\u001b[49m\u001b[43mschedule_task\u001b[49m\u001b[43m,\u001b[49m\n\u001b[32m    172\u001b[39m \u001b[43m                \u001b[49m\u001b[43msubmit\u001b[49m\u001b[43m=\u001b[49m\u001b[38;5;28;43mself\u001b[39;49m\u001b[43m.\u001b[49m\u001b[43msubmit\u001b[49m\u001b[43m,\u001b[49m\n\u001b[32m    173\u001b[39m \u001b[43m            \u001b[49m\u001b[43m)\u001b[49m\u001b[43m,\u001b[49m\n\u001b[32m    174\u001b[39m \u001b[43m        \u001b[49m\u001b[43m}\u001b[49m\u001b[43m,\u001b[49m\n\u001b[32m    175\u001b[39m \u001b[43m    \u001b[49m\u001b[43m)\u001b[49m\n\u001b[32m    176\u001b[39m     \u001b[38;5;28mself\u001b[39m.commit(t, \u001b[38;5;28;01mNone\u001b[39;00m)\n\u001b[32m    177\u001b[39m \u001b[38;5;28;01mexcept\u001b[39;00m \u001b[38;5;167;01mException\u001b[39;00m \u001b[38;5;28;01mas\u001b[39;00m exc:\n",
      "\u001b[36mFile \u001b[39m\u001b[32md:\\d_data\\AnuragReddy_Naredla_python_data\\python\\data_science_concepts_github\\LLMOPS\\project3\\automated-research-and-report-generation\\.venv\\Lib\\site-packages\\langgraph\\pregel\\_retry.py:42\u001b[39m, in \u001b[36mrun_with_retry\u001b[39m\u001b[34m(task, retry_policy, configurable)\u001b[39m\n\u001b[32m     40\u001b[39m     task.writes.clear()\n\u001b[32m     41\u001b[39m     \u001b[38;5;66;03m# run the task\u001b[39;00m\n\u001b[32m---> \u001b[39m\u001b[32m42\u001b[39m     \u001b[38;5;28;01mreturn\u001b[39;00m \u001b[43mtask\u001b[49m\u001b[43m.\u001b[49m\u001b[43mproc\u001b[49m\u001b[43m.\u001b[49m\u001b[43minvoke\u001b[49m\u001b[43m(\u001b[49m\u001b[43mtask\u001b[49m\u001b[43m.\u001b[49m\u001b[43minput\u001b[49m\u001b[43m,\u001b[49m\u001b[43m \u001b[49m\u001b[43mconfig\u001b[49m\u001b[43m)\u001b[49m\n\u001b[32m     43\u001b[39m \u001b[38;5;28;01mexcept\u001b[39;00m ParentCommand \u001b[38;5;28;01mas\u001b[39;00m exc:\n\u001b[32m     44\u001b[39m     ns: \u001b[38;5;28mstr\u001b[39m = config[CONF][CONFIG_KEY_CHECKPOINT_NS]\n",
      "\u001b[36mFile \u001b[39m\u001b[32md:\\d_data\\AnuragReddy_Naredla_python_data\\python\\data_science_concepts_github\\LLMOPS\\project3\\automated-research-and-report-generation\\.venv\\Lib\\site-packages\\langgraph\\_internal\\_runnable.py:657\u001b[39m, in \u001b[36mRunnableSeq.invoke\u001b[39m\u001b[34m(self, input, config, **kwargs)\u001b[39m\n\u001b[32m    655\u001b[39m     \u001b[38;5;66;03m# run in context\u001b[39;00m\n\u001b[32m    656\u001b[39m     \u001b[38;5;28;01mwith\u001b[39;00m set_config_context(config, run) \u001b[38;5;28;01mas\u001b[39;00m context:\n\u001b[32m--> \u001b[39m\u001b[32m657\u001b[39m         \u001b[38;5;28minput\u001b[39m = \u001b[43mcontext\u001b[49m\u001b[43m.\u001b[49m\u001b[43mrun\u001b[49m\u001b[43m(\u001b[49m\u001b[43mstep\u001b[49m\u001b[43m.\u001b[49m\u001b[43minvoke\u001b[49m\u001b[43m,\u001b[49m\u001b[43m \u001b[49m\u001b[38;5;28;43minput\u001b[39;49m\u001b[43m,\u001b[49m\u001b[43m \u001b[49m\u001b[43mconfig\u001b[49m\u001b[43m,\u001b[49m\u001b[43m \u001b[49m\u001b[43m*\u001b[49m\u001b[43m*\u001b[49m\u001b[43mkwargs\u001b[49m\u001b[43m)\u001b[49m\n\u001b[32m    658\u001b[39m \u001b[38;5;28;01melse\u001b[39;00m:\n\u001b[32m    659\u001b[39m     \u001b[38;5;28minput\u001b[39m = step.invoke(\u001b[38;5;28minput\u001b[39m, config)\n",
      "\u001b[36mFile \u001b[39m\u001b[32md:\\d_data\\AnuragReddy_Naredla_python_data\\python\\data_science_concepts_github\\LLMOPS\\project3\\automated-research-and-report-generation\\.venv\\Lib\\site-packages\\langgraph\\_internal\\_runnable.py:401\u001b[39m, in \u001b[36mRunnableCallable.invoke\u001b[39m\u001b[34m(self, input, config, **kwargs)\u001b[39m\n\u001b[32m    399\u001b[39m         run_manager.on_chain_end(ret)\n\u001b[32m    400\u001b[39m \u001b[38;5;28;01melse\u001b[39;00m:\n\u001b[32m--> \u001b[39m\u001b[32m401\u001b[39m     ret = \u001b[38;5;28;43mself\u001b[39;49m\u001b[43m.\u001b[49m\u001b[43mfunc\u001b[49m\u001b[43m(\u001b[49m\u001b[43m*\u001b[49m\u001b[43margs\u001b[49m\u001b[43m,\u001b[49m\u001b[43m \u001b[49m\u001b[43m*\u001b[49m\u001b[43m*\u001b[49m\u001b[43mkwargs\u001b[49m\u001b[43m)\u001b[49m\n\u001b[32m    402\u001b[39m \u001b[38;5;28;01mif\u001b[39;00m \u001b[38;5;28mself\u001b[39m.recurse \u001b[38;5;129;01mand\u001b[39;00m \u001b[38;5;28misinstance\u001b[39m(ret, Runnable):\n\u001b[32m    403\u001b[39m     \u001b[38;5;28;01mreturn\u001b[39;00m ret.invoke(\u001b[38;5;28minput\u001b[39m, config)\n",
      "\u001b[36mCell\u001b[39m\u001b[36m \u001b[39m\u001b[32mIn[64]\u001b[39m\u001b[32m, line 12\u001b[39m, in \u001b[36mgenerate_answer\u001b[39m\u001b[34m(state)\u001b[39m\n\u001b[32m     10\u001b[39m \u001b[38;5;66;03m# Answer question\u001b[39;00m\n\u001b[32m     11\u001b[39m system_message = answer_instructions.format(goals=analyst.persona, context=context)\n\u001b[32m---> \u001b[39m\u001b[32m12\u001b[39m answer = \u001b[43mllm\u001b[49m\u001b[43m.\u001b[49m\u001b[43minvoke\u001b[49m\u001b[43m(\u001b[49m\u001b[43m[\u001b[49m\u001b[43mSystemMessage\u001b[49m\u001b[43m(\u001b[49m\u001b[43mcontent\u001b[49m\u001b[43m=\u001b[49m\u001b[43msystem_message\u001b[49m\u001b[43m)\u001b[49m\u001b[43m]\u001b[49m\u001b[43m+\u001b[49m\u001b[43mmessages\u001b[49m\u001b[43m)\u001b[49m\n\u001b[32m     14\u001b[39m \u001b[38;5;66;03m# Name the message as coming from the expert\u001b[39;00m\n\u001b[32m     15\u001b[39m answer.name = \u001b[33m\"\u001b[39m\u001b[33mexpert\u001b[39m\u001b[33m\"\u001b[39m\n",
      "\u001b[36mFile \u001b[39m\u001b[32md:\\d_data\\AnuragReddy_Naredla_python_data\\python\\data_science_concepts_github\\LLMOPS\\project3\\automated-research-and-report-generation\\.venv\\Lib\\site-packages\\langchain_core\\language_models\\chat_models.py:395\u001b[39m, in \u001b[36mBaseChatModel.invoke\u001b[39m\u001b[34m(self, input, config, stop, **kwargs)\u001b[39m\n\u001b[32m    383\u001b[39m \u001b[38;5;129m@override\u001b[39m\n\u001b[32m    384\u001b[39m \u001b[38;5;28;01mdef\u001b[39;00m\u001b[38;5;250m \u001b[39m\u001b[34minvoke\u001b[39m(\n\u001b[32m    385\u001b[39m     \u001b[38;5;28mself\u001b[39m,\n\u001b[32m   (...)\u001b[39m\u001b[32m    390\u001b[39m     **kwargs: Any,\n\u001b[32m    391\u001b[39m ) -> BaseMessage:\n\u001b[32m    392\u001b[39m     config = ensure_config(config)\n\u001b[32m    393\u001b[39m     \u001b[38;5;28;01mreturn\u001b[39;00m cast(\n\u001b[32m    394\u001b[39m         \u001b[33m\"\u001b[39m\u001b[33mChatGeneration\u001b[39m\u001b[33m\"\u001b[39m,\n\u001b[32m--> \u001b[39m\u001b[32m395\u001b[39m         \u001b[38;5;28;43mself\u001b[39;49m\u001b[43m.\u001b[49m\u001b[43mgenerate_prompt\u001b[49m\u001b[43m(\u001b[49m\n\u001b[32m    396\u001b[39m \u001b[43m            \u001b[49m\u001b[43m[\u001b[49m\u001b[38;5;28;43mself\u001b[39;49m\u001b[43m.\u001b[49m\u001b[43m_convert_input\u001b[49m\u001b[43m(\u001b[49m\u001b[38;5;28;43minput\u001b[39;49m\u001b[43m)\u001b[49m\u001b[43m]\u001b[49m\u001b[43m,\u001b[49m\n\u001b[32m    397\u001b[39m \u001b[43m            \u001b[49m\u001b[43mstop\u001b[49m\u001b[43m=\u001b[49m\u001b[43mstop\u001b[49m\u001b[43m,\u001b[49m\n\u001b[32m    398\u001b[39m \u001b[43m            \u001b[49m\u001b[43mcallbacks\u001b[49m\u001b[43m=\u001b[49m\u001b[43mconfig\u001b[49m\u001b[43m.\u001b[49m\u001b[43mget\u001b[49m\u001b[43m(\u001b[49m\u001b[33;43m\"\u001b[39;49m\u001b[33;43mcallbacks\u001b[39;49m\u001b[33;43m\"\u001b[39;49m\u001b[43m)\u001b[49m\u001b[43m,\u001b[49m\n\u001b[32m    399\u001b[39m \u001b[43m            \u001b[49m\u001b[43mtags\u001b[49m\u001b[43m=\u001b[49m\u001b[43mconfig\u001b[49m\u001b[43m.\u001b[49m\u001b[43mget\u001b[49m\u001b[43m(\u001b[49m\u001b[33;43m\"\u001b[39;49m\u001b[33;43mtags\u001b[39;49m\u001b[33;43m\"\u001b[39;49m\u001b[43m)\u001b[49m\u001b[43m,\u001b[49m\n\u001b[32m    400\u001b[39m \u001b[43m            \u001b[49m\u001b[43mmetadata\u001b[49m\u001b[43m=\u001b[49m\u001b[43mconfig\u001b[49m\u001b[43m.\u001b[49m\u001b[43mget\u001b[49m\u001b[43m(\u001b[49m\u001b[33;43m\"\u001b[39;49m\u001b[33;43mmetadata\u001b[39;49m\u001b[33;43m\"\u001b[39;49m\u001b[43m)\u001b[49m\u001b[43m,\u001b[49m\n\u001b[32m    401\u001b[39m \u001b[43m            \u001b[49m\u001b[43mrun_name\u001b[49m\u001b[43m=\u001b[49m\u001b[43mconfig\u001b[49m\u001b[43m.\u001b[49m\u001b[43mget\u001b[49m\u001b[43m(\u001b[49m\u001b[33;43m\"\u001b[39;49m\u001b[33;43mrun_name\u001b[39;49m\u001b[33;43m\"\u001b[39;49m\u001b[43m)\u001b[49m\u001b[43m,\u001b[49m\n\u001b[32m    402\u001b[39m \u001b[43m            \u001b[49m\u001b[43mrun_id\u001b[49m\u001b[43m=\u001b[49m\u001b[43mconfig\u001b[49m\u001b[43m.\u001b[49m\u001b[43mpop\u001b[49m\u001b[43m(\u001b[49m\u001b[33;43m\"\u001b[39;49m\u001b[33;43mrun_id\u001b[39;49m\u001b[33;43m\"\u001b[39;49m\u001b[43m,\u001b[49m\u001b[43m \u001b[49m\u001b[38;5;28;43;01mNone\u001b[39;49;00m\u001b[43m)\u001b[49m\u001b[43m,\u001b[49m\n\u001b[32m    403\u001b[39m \u001b[43m            \u001b[49m\u001b[43m*\u001b[49m\u001b[43m*\u001b[49m\u001b[43mkwargs\u001b[49m\u001b[43m,\u001b[49m\n\u001b[32m    404\u001b[39m \u001b[43m        \u001b[49m\u001b[43m)\u001b[49m.generations[\u001b[32m0\u001b[39m][\u001b[32m0\u001b[39m],\n\u001b[32m    405\u001b[39m     ).message\n",
      "\u001b[36mFile \u001b[39m\u001b[32md:\\d_data\\AnuragReddy_Naredla_python_data\\python\\data_science_concepts_github\\LLMOPS\\project3\\automated-research-and-report-generation\\.venv\\Lib\\site-packages\\langchain_core\\language_models\\chat_models.py:1025\u001b[39m, in \u001b[36mBaseChatModel.generate_prompt\u001b[39m\u001b[34m(self, prompts, stop, callbacks, **kwargs)\u001b[39m\n\u001b[32m   1016\u001b[39m \u001b[38;5;129m@override\u001b[39m\n\u001b[32m   1017\u001b[39m \u001b[38;5;28;01mdef\u001b[39;00m\u001b[38;5;250m \u001b[39m\u001b[34mgenerate_prompt\u001b[39m(\n\u001b[32m   1018\u001b[39m     \u001b[38;5;28mself\u001b[39m,\n\u001b[32m   (...)\u001b[39m\u001b[32m   1022\u001b[39m     **kwargs: Any,\n\u001b[32m   1023\u001b[39m ) -> LLMResult:\n\u001b[32m   1024\u001b[39m     prompt_messages = [p.to_messages() \u001b[38;5;28;01mfor\u001b[39;00m p \u001b[38;5;129;01min\u001b[39;00m prompts]\n\u001b[32m-> \u001b[39m\u001b[32m1025\u001b[39m     \u001b[38;5;28;01mreturn\u001b[39;00m \u001b[38;5;28;43mself\u001b[39;49m\u001b[43m.\u001b[49m\u001b[43mgenerate\u001b[49m\u001b[43m(\u001b[49m\u001b[43mprompt_messages\u001b[49m\u001b[43m,\u001b[49m\u001b[43m \u001b[49m\u001b[43mstop\u001b[49m\u001b[43m=\u001b[49m\u001b[43mstop\u001b[49m\u001b[43m,\u001b[49m\u001b[43m \u001b[49m\u001b[43mcallbacks\u001b[49m\u001b[43m=\u001b[49m\u001b[43mcallbacks\u001b[49m\u001b[43m,\u001b[49m\u001b[43m \u001b[49m\u001b[43m*\u001b[49m\u001b[43m*\u001b[49m\u001b[43mkwargs\u001b[49m\u001b[43m)\u001b[49m\n",
      "\u001b[36mFile \u001b[39m\u001b[32md:\\d_data\\AnuragReddy_Naredla_python_data\\python\\data_science_concepts_github\\LLMOPS\\project3\\automated-research-and-report-generation\\.venv\\Lib\\site-packages\\langchain_core\\language_models\\chat_models.py:842\u001b[39m, in \u001b[36mBaseChatModel.generate\u001b[39m\u001b[34m(self, messages, stop, callbacks, tags, metadata, run_name, run_id, **kwargs)\u001b[39m\n\u001b[32m    839\u001b[39m \u001b[38;5;28;01mfor\u001b[39;00m i, m \u001b[38;5;129;01min\u001b[39;00m \u001b[38;5;28menumerate\u001b[39m(input_messages):\n\u001b[32m    840\u001b[39m     \u001b[38;5;28;01mtry\u001b[39;00m:\n\u001b[32m    841\u001b[39m         results.append(\n\u001b[32m--> \u001b[39m\u001b[32m842\u001b[39m             \u001b[38;5;28;43mself\u001b[39;49m\u001b[43m.\u001b[49m\u001b[43m_generate_with_cache\u001b[49m\u001b[43m(\u001b[49m\n\u001b[32m    843\u001b[39m \u001b[43m                \u001b[49m\u001b[43mm\u001b[49m\u001b[43m,\u001b[49m\n\u001b[32m    844\u001b[39m \u001b[43m                \u001b[49m\u001b[43mstop\u001b[49m\u001b[43m=\u001b[49m\u001b[43mstop\u001b[49m\u001b[43m,\u001b[49m\n\u001b[32m    845\u001b[39m \u001b[43m                \u001b[49m\u001b[43mrun_manager\u001b[49m\u001b[43m=\u001b[49m\u001b[43mrun_managers\u001b[49m\u001b[43m[\u001b[49m\u001b[43mi\u001b[49m\u001b[43m]\u001b[49m\u001b[43m \u001b[49m\u001b[38;5;28;43;01mif\u001b[39;49;00m\u001b[43m \u001b[49m\u001b[43mrun_managers\u001b[49m\u001b[43m \u001b[49m\u001b[38;5;28;43;01melse\u001b[39;49;00m\u001b[43m \u001b[49m\u001b[38;5;28;43;01mNone\u001b[39;49;00m\u001b[43m,\u001b[49m\n\u001b[32m    846\u001b[39m \u001b[43m                \u001b[49m\u001b[43m*\u001b[49m\u001b[43m*\u001b[49m\u001b[43mkwargs\u001b[49m\u001b[43m,\u001b[49m\n\u001b[32m    847\u001b[39m \u001b[43m            \u001b[49m\u001b[43m)\u001b[49m\n\u001b[32m    848\u001b[39m         )\n\u001b[32m    849\u001b[39m     \u001b[38;5;28;01mexcept\u001b[39;00m \u001b[38;5;167;01mBaseException\u001b[39;00m \u001b[38;5;28;01mas\u001b[39;00m e:\n\u001b[32m    850\u001b[39m         \u001b[38;5;28;01mif\u001b[39;00m run_managers:\n",
      "\u001b[36mFile \u001b[39m\u001b[32md:\\d_data\\AnuragReddy_Naredla_python_data\\python\\data_science_concepts_github\\LLMOPS\\project3\\automated-research-and-report-generation\\.venv\\Lib\\site-packages\\langchain_core\\language_models\\chat_models.py:1091\u001b[39m, in \u001b[36mBaseChatModel._generate_with_cache\u001b[39m\u001b[34m(self, messages, stop, run_manager, **kwargs)\u001b[39m\n\u001b[32m   1089\u001b[39m     result = generate_from_stream(\u001b[38;5;28miter\u001b[39m(chunks))\n\u001b[32m   1090\u001b[39m \u001b[38;5;28;01melif\u001b[39;00m inspect.signature(\u001b[38;5;28mself\u001b[39m._generate).parameters.get(\u001b[33m\"\u001b[39m\u001b[33mrun_manager\u001b[39m\u001b[33m\"\u001b[39m):\n\u001b[32m-> \u001b[39m\u001b[32m1091\u001b[39m     result = \u001b[38;5;28;43mself\u001b[39;49m\u001b[43m.\u001b[49m\u001b[43m_generate\u001b[49m\u001b[43m(\u001b[49m\n\u001b[32m   1092\u001b[39m \u001b[43m        \u001b[49m\u001b[43mmessages\u001b[49m\u001b[43m,\u001b[49m\u001b[43m \u001b[49m\u001b[43mstop\u001b[49m\u001b[43m=\u001b[49m\u001b[43mstop\u001b[49m\u001b[43m,\u001b[49m\u001b[43m \u001b[49m\u001b[43mrun_manager\u001b[49m\u001b[43m=\u001b[49m\u001b[43mrun_manager\u001b[49m\u001b[43m,\u001b[49m\u001b[43m \u001b[49m\u001b[43m*\u001b[49m\u001b[43m*\u001b[49m\u001b[43mkwargs\u001b[49m\n\u001b[32m   1093\u001b[39m \u001b[43m    \u001b[49m\u001b[43m)\u001b[49m\n\u001b[32m   1094\u001b[39m \u001b[38;5;28;01melse\u001b[39;00m:\n\u001b[32m   1095\u001b[39m     result = \u001b[38;5;28mself\u001b[39m._generate(messages, stop=stop, **kwargs)\n",
      "\u001b[36mFile \u001b[39m\u001b[32md:\\d_data\\AnuragReddy_Naredla_python_data\\python\\data_science_concepts_github\\LLMOPS\\project3\\automated-research-and-report-generation\\.venv\\Lib\\site-packages\\langchain_groq\\chat_models.py:557\u001b[39m, in \u001b[36mChatGroq._generate\u001b[39m\u001b[34m(self, messages, stop, run_manager, **kwargs)\u001b[39m\n\u001b[32m    552\u001b[39m message_dicts, params = \u001b[38;5;28mself\u001b[39m._create_message_dicts(messages, stop)\n\u001b[32m    553\u001b[39m params = {\n\u001b[32m    554\u001b[39m     **params,\n\u001b[32m    555\u001b[39m     **kwargs,\n\u001b[32m    556\u001b[39m }\n\u001b[32m--> \u001b[39m\u001b[32m557\u001b[39m response = \u001b[38;5;28;43mself\u001b[39;49m\u001b[43m.\u001b[49m\u001b[43mclient\u001b[49m\u001b[43m.\u001b[49m\u001b[43mcreate\u001b[49m\u001b[43m(\u001b[49m\u001b[43mmessages\u001b[49m\u001b[43m=\u001b[49m\u001b[43mmessage_dicts\u001b[49m\u001b[43m,\u001b[49m\u001b[43m \u001b[49m\u001b[43m*\u001b[49m\u001b[43m*\u001b[49m\u001b[43mparams\u001b[49m\u001b[43m)\u001b[49m\n\u001b[32m    558\u001b[39m \u001b[38;5;28;01mreturn\u001b[39;00m \u001b[38;5;28mself\u001b[39m._create_chat_result(response, params)\n",
      "\u001b[36mFile \u001b[39m\u001b[32md:\\d_data\\AnuragReddy_Naredla_python_data\\python\\data_science_concepts_github\\LLMOPS\\project3\\automated-research-and-report-generation\\.venv\\Lib\\site-packages\\groq\\resources\\chat\\completions.py:456\u001b[39m, in \u001b[36mCompletions.create\u001b[39m\u001b[34m(self, messages, model, compound_custom, disable_tool_validation, documents, exclude_domains, frequency_penalty, function_call, functions, include_domains, include_reasoning, logit_bias, logprobs, max_completion_tokens, max_tokens, metadata, n, parallel_tool_calls, presence_penalty, reasoning_effort, reasoning_format, response_format, search_settings, seed, service_tier, stop, store, stream, temperature, tool_choice, tools, top_logprobs, top_p, user, extra_headers, extra_query, extra_body, timeout)\u001b[39m\n\u001b[32m    241\u001b[39m \u001b[38;5;28;01mdef\u001b[39;00m\u001b[38;5;250m \u001b[39m\u001b[34mcreate\u001b[39m(\n\u001b[32m    242\u001b[39m     \u001b[38;5;28mself\u001b[39m,\n\u001b[32m    243\u001b[39m     *,\n\u001b[32m   (...)\u001b[39m\u001b[32m    299\u001b[39m     timeout: \u001b[38;5;28mfloat\u001b[39m | httpx.Timeout | \u001b[38;5;28;01mNone\u001b[39;00m | NotGiven = not_given,\n\u001b[32m    300\u001b[39m ) -> ChatCompletion | Stream[ChatCompletionChunk]:\n\u001b[32m    301\u001b[39m \u001b[38;5;250m    \u001b[39m\u001b[33;03m\"\"\"\u001b[39;00m\n\u001b[32m    302\u001b[39m \u001b[33;03m    Creates a model response for the given chat conversation.\u001b[39;00m\n\u001b[32m    303\u001b[39m \n\u001b[32m   (...)\u001b[39m\u001b[32m    454\u001b[39m \u001b[33;03m      timeout: Override the client-level default timeout for this request, in seconds\u001b[39;00m\n\u001b[32m    455\u001b[39m \u001b[33;03m    \"\"\"\u001b[39;00m\n\u001b[32m--> \u001b[39m\u001b[32m456\u001b[39m     \u001b[38;5;28;01mreturn\u001b[39;00m \u001b[38;5;28;43mself\u001b[39;49m\u001b[43m.\u001b[49m\u001b[43m_post\u001b[49m\u001b[43m(\u001b[49m\n\u001b[32m    457\u001b[39m \u001b[43m        \u001b[49m\u001b[33;43m\"\u001b[39;49m\u001b[33;43m/openai/v1/chat/completions\u001b[39;49m\u001b[33;43m\"\u001b[39;49m\u001b[43m,\u001b[49m\n\u001b[32m    458\u001b[39m \u001b[43m        \u001b[49m\u001b[43mbody\u001b[49m\u001b[43m=\u001b[49m\u001b[43mmaybe_transform\u001b[49m\u001b[43m(\u001b[49m\n\u001b[32m    459\u001b[39m \u001b[43m            \u001b[49m\u001b[43m{\u001b[49m\n\u001b[32m    460\u001b[39m \u001b[43m                \u001b[49m\u001b[33;43m\"\u001b[39;49m\u001b[33;43mmessages\u001b[39;49m\u001b[33;43m\"\u001b[39;49m\u001b[43m:\u001b[49m\u001b[43m \u001b[49m\u001b[43mmessages\u001b[49m\u001b[43m,\u001b[49m\n\u001b[32m    461\u001b[39m \u001b[43m                \u001b[49m\u001b[33;43m\"\u001b[39;49m\u001b[33;43mmodel\u001b[39;49m\u001b[33;43m\"\u001b[39;49m\u001b[43m:\u001b[49m\u001b[43m \u001b[49m\u001b[43mmodel\u001b[49m\u001b[43m,\u001b[49m\n\u001b[32m    462\u001b[39m \u001b[43m                \u001b[49m\u001b[33;43m\"\u001b[39;49m\u001b[33;43mcompound_custom\u001b[39;49m\u001b[33;43m\"\u001b[39;49m\u001b[43m:\u001b[49m\u001b[43m \u001b[49m\u001b[43mcompound_custom\u001b[49m\u001b[43m,\u001b[49m\n\u001b[32m    463\u001b[39m \u001b[43m                \u001b[49m\u001b[33;43m\"\u001b[39;49m\u001b[33;43mdisable_tool_validation\u001b[39;49m\u001b[33;43m\"\u001b[39;49m\u001b[43m:\u001b[49m\u001b[43m \u001b[49m\u001b[43mdisable_tool_validation\u001b[49m\u001b[43m,\u001b[49m\n\u001b[32m    464\u001b[39m \u001b[43m                \u001b[49m\u001b[33;43m\"\u001b[39;49m\u001b[33;43mdocuments\u001b[39;49m\u001b[33;43m\"\u001b[39;49m\u001b[43m:\u001b[49m\u001b[43m \u001b[49m\u001b[43mdocuments\u001b[49m\u001b[43m,\u001b[49m\n\u001b[32m    465\u001b[39m \u001b[43m                \u001b[49m\u001b[33;43m\"\u001b[39;49m\u001b[33;43mexclude_domains\u001b[39;49m\u001b[33;43m\"\u001b[39;49m\u001b[43m:\u001b[49m\u001b[43m \u001b[49m\u001b[43mexclude_domains\u001b[49m\u001b[43m,\u001b[49m\n\u001b[32m    466\u001b[39m \u001b[43m                \u001b[49m\u001b[33;43m\"\u001b[39;49m\u001b[33;43mfrequency_penalty\u001b[39;49m\u001b[33;43m\"\u001b[39;49m\u001b[43m:\u001b[49m\u001b[43m \u001b[49m\u001b[43mfrequency_penalty\u001b[49m\u001b[43m,\u001b[49m\n\u001b[32m    467\u001b[39m \u001b[43m                \u001b[49m\u001b[33;43m\"\u001b[39;49m\u001b[33;43mfunction_call\u001b[39;49m\u001b[33;43m\"\u001b[39;49m\u001b[43m:\u001b[49m\u001b[43m \u001b[49m\u001b[43mfunction_call\u001b[49m\u001b[43m,\u001b[49m\n\u001b[32m    468\u001b[39m \u001b[43m                \u001b[49m\u001b[33;43m\"\u001b[39;49m\u001b[33;43mfunctions\u001b[39;49m\u001b[33;43m\"\u001b[39;49m\u001b[43m:\u001b[49m\u001b[43m \u001b[49m\u001b[43mfunctions\u001b[49m\u001b[43m,\u001b[49m\n\u001b[32m    469\u001b[39m \u001b[43m                \u001b[49m\u001b[33;43m\"\u001b[39;49m\u001b[33;43minclude_domains\u001b[39;49m\u001b[33;43m\"\u001b[39;49m\u001b[43m:\u001b[49m\u001b[43m \u001b[49m\u001b[43minclude_domains\u001b[49m\u001b[43m,\u001b[49m\n\u001b[32m    470\u001b[39m \u001b[43m                \u001b[49m\u001b[33;43m\"\u001b[39;49m\u001b[33;43minclude_reasoning\u001b[39;49m\u001b[33;43m\"\u001b[39;49m\u001b[43m:\u001b[49m\u001b[43m \u001b[49m\u001b[43minclude_reasoning\u001b[49m\u001b[43m,\u001b[49m\n\u001b[32m    471\u001b[39m \u001b[43m                \u001b[49m\u001b[33;43m\"\u001b[39;49m\u001b[33;43mlogit_bias\u001b[39;49m\u001b[33;43m\"\u001b[39;49m\u001b[43m:\u001b[49m\u001b[43m \u001b[49m\u001b[43mlogit_bias\u001b[49m\u001b[43m,\u001b[49m\n\u001b[32m    472\u001b[39m \u001b[43m                \u001b[49m\u001b[33;43m\"\u001b[39;49m\u001b[33;43mlogprobs\u001b[39;49m\u001b[33;43m\"\u001b[39;49m\u001b[43m:\u001b[49m\u001b[43m \u001b[49m\u001b[43mlogprobs\u001b[49m\u001b[43m,\u001b[49m\n\u001b[32m    473\u001b[39m \u001b[43m                \u001b[49m\u001b[33;43m\"\u001b[39;49m\u001b[33;43mmax_completion_tokens\u001b[39;49m\u001b[33;43m\"\u001b[39;49m\u001b[43m:\u001b[49m\u001b[43m \u001b[49m\u001b[43mmax_completion_tokens\u001b[49m\u001b[43m,\u001b[49m\n\u001b[32m    474\u001b[39m \u001b[43m                \u001b[49m\u001b[33;43m\"\u001b[39;49m\u001b[33;43mmax_tokens\u001b[39;49m\u001b[33;43m\"\u001b[39;49m\u001b[43m:\u001b[49m\u001b[43m \u001b[49m\u001b[43mmax_tokens\u001b[49m\u001b[43m,\u001b[49m\n\u001b[32m    475\u001b[39m \u001b[43m                \u001b[49m\u001b[33;43m\"\u001b[39;49m\u001b[33;43mmetadata\u001b[39;49m\u001b[33;43m\"\u001b[39;49m\u001b[43m:\u001b[49m\u001b[43m \u001b[49m\u001b[43mmetadata\u001b[49m\u001b[43m,\u001b[49m\n\u001b[32m    476\u001b[39m \u001b[43m                \u001b[49m\u001b[33;43m\"\u001b[39;49m\u001b[33;43mn\u001b[39;49m\u001b[33;43m\"\u001b[39;49m\u001b[43m:\u001b[49m\u001b[43m \u001b[49m\u001b[43mn\u001b[49m\u001b[43m,\u001b[49m\n\u001b[32m    477\u001b[39m \u001b[43m                \u001b[49m\u001b[33;43m\"\u001b[39;49m\u001b[33;43mparallel_tool_calls\u001b[39;49m\u001b[33;43m\"\u001b[39;49m\u001b[43m:\u001b[49m\u001b[43m \u001b[49m\u001b[43mparallel_tool_calls\u001b[49m\u001b[43m,\u001b[49m\n\u001b[32m    478\u001b[39m \u001b[43m                \u001b[49m\u001b[33;43m\"\u001b[39;49m\u001b[33;43mpresence_penalty\u001b[39;49m\u001b[33;43m\"\u001b[39;49m\u001b[43m:\u001b[49m\u001b[43m \u001b[49m\u001b[43mpresence_penalty\u001b[49m\u001b[43m,\u001b[49m\n\u001b[32m    479\u001b[39m \u001b[43m                \u001b[49m\u001b[33;43m\"\u001b[39;49m\u001b[33;43mreasoning_effort\u001b[39;49m\u001b[33;43m\"\u001b[39;49m\u001b[43m:\u001b[49m\u001b[43m \u001b[49m\u001b[43mreasoning_effort\u001b[49m\u001b[43m,\u001b[49m\n\u001b[32m    480\u001b[39m \u001b[43m                \u001b[49m\u001b[33;43m\"\u001b[39;49m\u001b[33;43mreasoning_format\u001b[39;49m\u001b[33;43m\"\u001b[39;49m\u001b[43m:\u001b[49m\u001b[43m \u001b[49m\u001b[43mreasoning_format\u001b[49m\u001b[43m,\u001b[49m\n\u001b[32m    481\u001b[39m \u001b[43m                \u001b[49m\u001b[33;43m\"\u001b[39;49m\u001b[33;43mresponse_format\u001b[39;49m\u001b[33;43m\"\u001b[39;49m\u001b[43m:\u001b[49m\u001b[43m \u001b[49m\u001b[43mresponse_format\u001b[49m\u001b[43m,\u001b[49m\n\u001b[32m    482\u001b[39m \u001b[43m                \u001b[49m\u001b[33;43m\"\u001b[39;49m\u001b[33;43msearch_settings\u001b[39;49m\u001b[33;43m\"\u001b[39;49m\u001b[43m:\u001b[49m\u001b[43m \u001b[49m\u001b[43msearch_settings\u001b[49m\u001b[43m,\u001b[49m\n\u001b[32m    483\u001b[39m \u001b[43m                \u001b[49m\u001b[33;43m\"\u001b[39;49m\u001b[33;43mseed\u001b[39;49m\u001b[33;43m\"\u001b[39;49m\u001b[43m:\u001b[49m\u001b[43m \u001b[49m\u001b[43mseed\u001b[49m\u001b[43m,\u001b[49m\n\u001b[32m    484\u001b[39m \u001b[43m                \u001b[49m\u001b[33;43m\"\u001b[39;49m\u001b[33;43mservice_tier\u001b[39;49m\u001b[33;43m\"\u001b[39;49m\u001b[43m:\u001b[49m\u001b[43m \u001b[49m\u001b[43mservice_tier\u001b[49m\u001b[43m,\u001b[49m\n\u001b[32m    485\u001b[39m \u001b[43m                \u001b[49m\u001b[33;43m\"\u001b[39;49m\u001b[33;43mstop\u001b[39;49m\u001b[33;43m\"\u001b[39;49m\u001b[43m:\u001b[49m\u001b[43m \u001b[49m\u001b[43mstop\u001b[49m\u001b[43m,\u001b[49m\n\u001b[32m    486\u001b[39m \u001b[43m                \u001b[49m\u001b[33;43m\"\u001b[39;49m\u001b[33;43mstore\u001b[39;49m\u001b[33;43m\"\u001b[39;49m\u001b[43m:\u001b[49m\u001b[43m \u001b[49m\u001b[43mstore\u001b[49m\u001b[43m,\u001b[49m\n\u001b[32m    487\u001b[39m \u001b[43m                \u001b[49m\u001b[33;43m\"\u001b[39;49m\u001b[33;43mstream\u001b[39;49m\u001b[33;43m\"\u001b[39;49m\u001b[43m:\u001b[49m\u001b[43m \u001b[49m\u001b[43mstream\u001b[49m\u001b[43m,\u001b[49m\n\u001b[32m    488\u001b[39m \u001b[43m                \u001b[49m\u001b[33;43m\"\u001b[39;49m\u001b[33;43mtemperature\u001b[39;49m\u001b[33;43m\"\u001b[39;49m\u001b[43m:\u001b[49m\u001b[43m \u001b[49m\u001b[43mtemperature\u001b[49m\u001b[43m,\u001b[49m\n\u001b[32m    489\u001b[39m \u001b[43m                \u001b[49m\u001b[33;43m\"\u001b[39;49m\u001b[33;43mtool_choice\u001b[39;49m\u001b[33;43m\"\u001b[39;49m\u001b[43m:\u001b[49m\u001b[43m \u001b[49m\u001b[43mtool_choice\u001b[49m\u001b[43m,\u001b[49m\n\u001b[32m    490\u001b[39m \u001b[43m                \u001b[49m\u001b[33;43m\"\u001b[39;49m\u001b[33;43mtools\u001b[39;49m\u001b[33;43m\"\u001b[39;49m\u001b[43m:\u001b[49m\u001b[43m \u001b[49m\u001b[43mtools\u001b[49m\u001b[43m,\u001b[49m\n\u001b[32m    491\u001b[39m \u001b[43m                \u001b[49m\u001b[33;43m\"\u001b[39;49m\u001b[33;43mtop_logprobs\u001b[39;49m\u001b[33;43m\"\u001b[39;49m\u001b[43m:\u001b[49m\u001b[43m \u001b[49m\u001b[43mtop_logprobs\u001b[49m\u001b[43m,\u001b[49m\n\u001b[32m    492\u001b[39m \u001b[43m                \u001b[49m\u001b[33;43m\"\u001b[39;49m\u001b[33;43mtop_p\u001b[39;49m\u001b[33;43m\"\u001b[39;49m\u001b[43m:\u001b[49m\u001b[43m \u001b[49m\u001b[43mtop_p\u001b[49m\u001b[43m,\u001b[49m\n\u001b[32m    493\u001b[39m \u001b[43m                \u001b[49m\u001b[33;43m\"\u001b[39;49m\u001b[33;43muser\u001b[39;49m\u001b[33;43m\"\u001b[39;49m\u001b[43m:\u001b[49m\u001b[43m \u001b[49m\u001b[43muser\u001b[49m\u001b[43m,\u001b[49m\n\u001b[32m    494\u001b[39m \u001b[43m            \u001b[49m\u001b[43m}\u001b[49m\u001b[43m,\u001b[49m\n\u001b[32m    495\u001b[39m \u001b[43m            \u001b[49m\u001b[43mcompletion_create_params\u001b[49m\u001b[43m.\u001b[49m\u001b[43mCompletionCreateParams\u001b[49m\u001b[43m,\u001b[49m\n\u001b[32m    496\u001b[39m \u001b[43m        \u001b[49m\u001b[43m)\u001b[49m\u001b[43m,\u001b[49m\n\u001b[32m    497\u001b[39m \u001b[43m        \u001b[49m\u001b[43moptions\u001b[49m\u001b[43m=\u001b[49m\u001b[43mmake_request_options\u001b[49m\u001b[43m(\u001b[49m\n\u001b[32m    498\u001b[39m \u001b[43m            \u001b[49m\u001b[43mextra_headers\u001b[49m\u001b[43m=\u001b[49m\u001b[43mextra_headers\u001b[49m\u001b[43m,\u001b[49m\u001b[43m \u001b[49m\u001b[43mextra_query\u001b[49m\u001b[43m=\u001b[49m\u001b[43mextra_query\u001b[49m\u001b[43m,\u001b[49m\u001b[43m \u001b[49m\u001b[43mextra_body\u001b[49m\u001b[43m=\u001b[49m\u001b[43mextra_body\u001b[49m\u001b[43m,\u001b[49m\u001b[43m \u001b[49m\u001b[43mtimeout\u001b[49m\u001b[43m=\u001b[49m\u001b[43mtimeout\u001b[49m\n\u001b[32m    499\u001b[39m \u001b[43m        \u001b[49m\u001b[43m)\u001b[49m\u001b[43m,\u001b[49m\n\u001b[32m    500\u001b[39m \u001b[43m        \u001b[49m\u001b[43mcast_to\u001b[49m\u001b[43m=\u001b[49m\u001b[43mChatCompletion\u001b[49m\u001b[43m,\u001b[49m\n\u001b[32m    501\u001b[39m \u001b[43m        \u001b[49m\u001b[43mstream\u001b[49m\u001b[43m=\u001b[49m\u001b[43mstream\u001b[49m\u001b[43m \u001b[49m\u001b[38;5;129;43;01mor\u001b[39;49;00m\u001b[43m \u001b[49m\u001b[38;5;28;43;01mFalse\u001b[39;49;00m\u001b[43m,\u001b[49m\n\u001b[32m    502\u001b[39m \u001b[43m        \u001b[49m\u001b[43mstream_cls\u001b[49m\u001b[43m=\u001b[49m\u001b[43mStream\u001b[49m\u001b[43m[\u001b[49m\u001b[43mChatCompletionChunk\u001b[49m\u001b[43m]\u001b[49m\u001b[43m,\u001b[49m\n\u001b[32m    503\u001b[39m \u001b[43m    \u001b[49m\u001b[43m)\u001b[49m\n",
      "\u001b[36mFile \u001b[39m\u001b[32md:\\d_data\\AnuragReddy_Naredla_python_data\\python\\data_science_concepts_github\\LLMOPS\\project3\\automated-research-and-report-generation\\.venv\\Lib\\site-packages\\groq\\_base_client.py:1242\u001b[39m, in \u001b[36mSyncAPIClient.post\u001b[39m\u001b[34m(self, path, cast_to, body, options, files, stream, stream_cls)\u001b[39m\n\u001b[32m   1228\u001b[39m \u001b[38;5;28;01mdef\u001b[39;00m\u001b[38;5;250m \u001b[39m\u001b[34mpost\u001b[39m(\n\u001b[32m   1229\u001b[39m     \u001b[38;5;28mself\u001b[39m,\n\u001b[32m   1230\u001b[39m     path: \u001b[38;5;28mstr\u001b[39m,\n\u001b[32m   (...)\u001b[39m\u001b[32m   1237\u001b[39m     stream_cls: \u001b[38;5;28mtype\u001b[39m[_StreamT] | \u001b[38;5;28;01mNone\u001b[39;00m = \u001b[38;5;28;01mNone\u001b[39;00m,\n\u001b[32m   1238\u001b[39m ) -> ResponseT | _StreamT:\n\u001b[32m   1239\u001b[39m     opts = FinalRequestOptions.construct(\n\u001b[32m   1240\u001b[39m         method=\u001b[33m\"\u001b[39m\u001b[33mpost\u001b[39m\u001b[33m\"\u001b[39m, url=path, json_data=body, files=to_httpx_files(files), **options\n\u001b[32m   1241\u001b[39m     )\n\u001b[32m-> \u001b[39m\u001b[32m1242\u001b[39m     \u001b[38;5;28;01mreturn\u001b[39;00m cast(ResponseT, \u001b[38;5;28;43mself\u001b[39;49m\u001b[43m.\u001b[49m\u001b[43mrequest\u001b[49m\u001b[43m(\u001b[49m\u001b[43mcast_to\u001b[49m\u001b[43m,\u001b[49m\u001b[43m \u001b[49m\u001b[43mopts\u001b[49m\u001b[43m,\u001b[49m\u001b[43m \u001b[49m\u001b[43mstream\u001b[49m\u001b[43m=\u001b[49m\u001b[43mstream\u001b[49m\u001b[43m,\u001b[49m\u001b[43m \u001b[49m\u001b[43mstream_cls\u001b[49m\u001b[43m=\u001b[49m\u001b[43mstream_cls\u001b[49m\u001b[43m)\u001b[49m)\n",
      "\u001b[36mFile \u001b[39m\u001b[32md:\\d_data\\AnuragReddy_Naredla_python_data\\python\\data_science_concepts_github\\LLMOPS\\project3\\automated-research-and-report-generation\\.venv\\Lib\\site-packages\\groq\\_base_client.py:1044\u001b[39m, in \u001b[36mSyncAPIClient.request\u001b[39m\u001b[34m(self, cast_to, options, stream, stream_cls)\u001b[39m\n\u001b[32m   1041\u001b[39m             err.response.read()\n\u001b[32m   1043\u001b[39m         log.debug(\u001b[33m\"\u001b[39m\u001b[33mRe-raising status error\u001b[39m\u001b[33m\"\u001b[39m)\n\u001b[32m-> \u001b[39m\u001b[32m1044\u001b[39m         \u001b[38;5;28;01mraise\u001b[39;00m \u001b[38;5;28mself\u001b[39m._make_status_error_from_response(err.response) \u001b[38;5;28;01mfrom\u001b[39;00m\u001b[38;5;250m \u001b[39m\u001b[38;5;28;01mNone\u001b[39;00m\n\u001b[32m   1046\u001b[39m     \u001b[38;5;28;01mbreak\u001b[39;00m\n\u001b[32m   1048\u001b[39m \u001b[38;5;28;01massert\u001b[39;00m response \u001b[38;5;129;01mis\u001b[39;00m \u001b[38;5;129;01mnot\u001b[39;00m \u001b[38;5;28;01mNone\u001b[39;00m, \u001b[33m\"\u001b[39m\u001b[33mcould not resolve response (should never happen)\u001b[39m\u001b[33m\"\u001b[39m\n",
      "\u001b[31mAPIStatusError\u001b[39m: Error code: 413 - {'error': {'message': 'Request too large for model `llama-3.3-70b-versatile` in organization `org_01hvz7yfhnfz4sdzn0d40agc3e` service tier `on_demand` on tokens per minute (TPM): Limit 12000, Requested 12246, please reduce your message size and try again. Need more tokens? Upgrade to Dev Tier today at https://console.groq.com/settings/billing', 'type': 'tokens', 'code': 'rate_limit_exceeded'}}",
      "During task with name 'generate_answer' and id '9cfe06d3-bc85-7407-d1b2-fb4c82ded7ed'",
      "During task with name 'conduct_interview' and id 'de4c2abd-1e34-c207-ffa9-2f8a230d3f13'"
     ]
    }
   ],
   "source": [
    "# Continue\n",
    "for event in graph.stream(None, thread, stream_mode=\"updates\"):\n",
    "    print(\"--Node--\")\n",
    "    node_name = next(iter(event.keys()))\n",
    "    print(node_name)"
   ]
  },
  {
   "cell_type": "code",
   "execution_count": null,
   "id": "2c2fc1b4",
   "metadata": {},
   "outputs": [],
   "source": [
    "from IPython.display import Markdown"
   ]
  },
  {
   "cell_type": "code",
   "execution_count": null,
   "id": "64544883",
   "metadata": {},
   "outputs": [],
   "source": [
    "final_state = graph.get_state(thread)"
   ]
  },
  {
   "cell_type": "code",
   "execution_count": null,
   "id": "0ac51075",
   "metadata": {},
   "outputs": [],
   "source": [
    "report = final_state.values.get('final_report')"
   ]
  },
  {
   "cell_type": "code",
   "execution_count": null,
   "id": "7baed08b",
   "metadata": {},
   "outputs": [],
   "source": [
    "Markdown(report)"
   ]
  },
  {
   "cell_type": "code",
   "execution_count": null,
   "id": "453b976e",
   "metadata": {},
   "outputs": [],
   "source": []
  }
 ],
 "metadata": {
  "kernelspec": {
   "display_name": "automated-research-and-report-generation",
   "language": "python",
   "name": "python3"
  },
  "language_info": {
   "codemirror_mode": {
    "name": "ipython",
    "version": 3
   },
   "file_extension": ".py",
   "mimetype": "text/x-python",
   "name": "python",
   "nbconvert_exporter": "python",
   "pygments_lexer": "ipython3",
   "version": "3.11.13"
  }
 },
 "nbformat": 4,
 "nbformat_minor": 5
}
